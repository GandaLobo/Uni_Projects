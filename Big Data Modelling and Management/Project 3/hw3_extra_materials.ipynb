{
 "cells": [
  {
   "cell_type": "code",
   "execution_count": 1,
   "id": "748e3ba0-4c4d-40a7-8e3a-3bf328870d69",
   "metadata": {},
   "outputs": [],
   "source": [
    "from pymongo import MongoClient\n",
    "from bson.objectid import ObjectId\n",
    "from pprint import pprint\n",
    "\n",
    "host=\"rhea.isegi.unl.pt\"\n",
    "port=\"27018\"\n",
    "user=\"mongo_classes_rhea\"\n",
    "password=\"ULWQFGfyZWedCMg5PHKZTYGFxmqSEZ6QsMYV\"\n",
    "protocol=\"mongodb\"\n",
    "client = MongoClient(f\"{protocol}://{user}:{password}@{host}:{port}\")"
   ]
  },
  {
   "cell_type": "code",
   "execution_count": 2,
   "id": "9dc4b1fa-8df0-46ee-ae1c-255ba5408506",
   "metadata": {},
   "outputs": [],
   "source": [
    "db = client.hw3_example"
   ]
  },
  {
   "cell_type": "code",
   "execution_count": 3,
   "id": "779c10d2-6575-4afa-8499-95731b7eae49",
   "metadata": {},
   "outputs": [
    {
     "name": "stdout",
     "output_type": "stream",
     "text": [
      "collectionX_embedded\n",
      "collection3_embeded\n",
      "collection2\n",
      "collection1\n",
      "places\n"
     ]
    }
   ],
   "source": [
    "# Lets clean up the collections in this db\n",
    "r = list(db.list_collections())\n",
    "\n",
    "for collection in r:\n",
    "    print(collection['name'])"
   ]
  },
  {
   "cell_type": "code",
   "execution_count": 4,
   "id": "0fbde125-b377-4bc1-80a8-99a1f4fe25b1",
   "metadata": {},
   "outputs": [],
   "source": [
    "db['collection1'].drop()\n",
    "db['collection2'].drop()\n",
    "db['collection3'].drop()"
   ]
  },
  {
   "cell_type": "markdown",
   "id": "6a7ffe49-11cc-4b5f-9a7f-fd7e1d283880",
   "metadata": {},
   "source": [
    "### Important notice: There are several correct methods to upload data into MongoDB, here we only show one basic example."
   ]
  },
  {
   "cell_type": "markdown",
   "id": "f2e13388-f1f7-4d72-9cca-6cee9f7fc155",
   "metadata": {},
   "source": [
    "### Important notice: We are only showing a direct import to mongoDB, there are some differences between sql and mongoDB that can be 'solved' in the notebook"
   ]
  },
  {
   "cell_type": "markdown",
   "id": "7579ba40-6380-4cdf-9954-a92bd6ea5102",
   "metadata": {},
   "source": [
    "# Import with pandas (csv)"
   ]
  },
  {
   "cell_type": "markdown",
   "id": "19261571-a80e-40b6-8cf1-4b0392e855cf",
   "metadata": {},
   "source": [
    "### When csv is small enoght to import to pandas"
   ]
  },
  {
   "cell_type": "code",
   "execution_count": 5,
   "id": "6ce3c11e-e46d-4210-8523-2bccb0f8f25c",
   "metadata": {},
   "outputs": [],
   "source": [
    "import pandas as pd"
   ]
  },
  {
   "cell_type": "code",
   "execution_count": 6,
   "id": "2c7f6a05-3068-499a-b98d-6b0b5eb42bce",
   "metadata": {},
   "outputs": [
    {
     "ename": "FileNotFoundError",
     "evalue": "[Errno 2] No such file or directory: 'hw3_extra_materials/csv/sample1.csv'",
     "output_type": "error",
     "traceback": [
      "\u001b[1;31m---------------------------------------------------------------------------\u001b[0m",
      "\u001b[1;31mFileNotFoundError\u001b[0m                         Traceback (most recent call last)",
      "\u001b[1;32m<ipython-input-6-d226d5a3b44c>\u001b[0m in \u001b[0;36m<module>\u001b[1;34m\u001b[0m\n\u001b[0;32m      1\u001b[0m \u001b[0mpath\u001b[0m \u001b[1;33m=\u001b[0m \u001b[1;34m'hw3_extra_materials/csv/sample1.csv'\u001b[0m\u001b[1;33m\u001b[0m\u001b[1;33m\u001b[0m\u001b[0m\n\u001b[0;32m      2\u001b[0m \u001b[1;33m\u001b[0m\u001b[0m\n\u001b[1;32m----> 3\u001b[1;33m \u001b[0mdf_csv\u001b[0m \u001b[1;33m=\u001b[0m \u001b[0mpd\u001b[0m\u001b[1;33m.\u001b[0m\u001b[0mread_csv\u001b[0m\u001b[1;33m(\u001b[0m\u001b[0mpath\u001b[0m\u001b[1;33m)\u001b[0m\u001b[1;33m\u001b[0m\u001b[1;33m\u001b[0m\u001b[0m\n\u001b[0m",
      "\u001b[1;32m~\\anaconda3\\envs\\Main Environment\\lib\\site-packages\\pandas\\io\\parsers.py\u001b[0m in \u001b[0;36mread_csv\u001b[1;34m(filepath_or_buffer, sep, delimiter, header, names, index_col, usecols, squeeze, prefix, mangle_dupe_cols, dtype, engine, converters, true_values, false_values, skipinitialspace, skiprows, skipfooter, nrows, na_values, keep_default_na, na_filter, verbose, skip_blank_lines, parse_dates, infer_datetime_format, keep_date_col, date_parser, dayfirst, cache_dates, iterator, chunksize, compression, thousands, decimal, lineterminator, quotechar, quoting, doublequote, escapechar, comment, encoding, dialect, error_bad_lines, warn_bad_lines, delim_whitespace, low_memory, memory_map, float_precision, storage_options)\u001b[0m\n\u001b[0;32m    608\u001b[0m     \u001b[0mkwds\u001b[0m\u001b[1;33m.\u001b[0m\u001b[0mupdate\u001b[0m\u001b[1;33m(\u001b[0m\u001b[0mkwds_defaults\u001b[0m\u001b[1;33m)\u001b[0m\u001b[1;33m\u001b[0m\u001b[1;33m\u001b[0m\u001b[0m\n\u001b[0;32m    609\u001b[0m \u001b[1;33m\u001b[0m\u001b[0m\n\u001b[1;32m--> 610\u001b[1;33m     \u001b[1;32mreturn\u001b[0m \u001b[0m_read\u001b[0m\u001b[1;33m(\u001b[0m\u001b[0mfilepath_or_buffer\u001b[0m\u001b[1;33m,\u001b[0m \u001b[0mkwds\u001b[0m\u001b[1;33m)\u001b[0m\u001b[1;33m\u001b[0m\u001b[1;33m\u001b[0m\u001b[0m\n\u001b[0m\u001b[0;32m    611\u001b[0m \u001b[1;33m\u001b[0m\u001b[0m\n\u001b[0;32m    612\u001b[0m \u001b[1;33m\u001b[0m\u001b[0m\n",
      "\u001b[1;32m~\\anaconda3\\envs\\Main Environment\\lib\\site-packages\\pandas\\io\\parsers.py\u001b[0m in \u001b[0;36m_read\u001b[1;34m(filepath_or_buffer, kwds)\u001b[0m\n\u001b[0;32m    460\u001b[0m \u001b[1;33m\u001b[0m\u001b[0m\n\u001b[0;32m    461\u001b[0m     \u001b[1;31m# Create the parser.\u001b[0m\u001b[1;33m\u001b[0m\u001b[1;33m\u001b[0m\u001b[1;33m\u001b[0m\u001b[0m\n\u001b[1;32m--> 462\u001b[1;33m     \u001b[0mparser\u001b[0m \u001b[1;33m=\u001b[0m \u001b[0mTextFileReader\u001b[0m\u001b[1;33m(\u001b[0m\u001b[0mfilepath_or_buffer\u001b[0m\u001b[1;33m,\u001b[0m \u001b[1;33m**\u001b[0m\u001b[0mkwds\u001b[0m\u001b[1;33m)\u001b[0m\u001b[1;33m\u001b[0m\u001b[1;33m\u001b[0m\u001b[0m\n\u001b[0m\u001b[0;32m    463\u001b[0m \u001b[1;33m\u001b[0m\u001b[0m\n\u001b[0;32m    464\u001b[0m     \u001b[1;32mif\u001b[0m \u001b[0mchunksize\u001b[0m \u001b[1;32mor\u001b[0m \u001b[0miterator\u001b[0m\u001b[1;33m:\u001b[0m\u001b[1;33m\u001b[0m\u001b[1;33m\u001b[0m\u001b[0m\n",
      "\u001b[1;32m~\\anaconda3\\envs\\Main Environment\\lib\\site-packages\\pandas\\io\\parsers.py\u001b[0m in \u001b[0;36m__init__\u001b[1;34m(self, f, engine, **kwds)\u001b[0m\n\u001b[0;32m    817\u001b[0m             \u001b[0mself\u001b[0m\u001b[1;33m.\u001b[0m\u001b[0moptions\u001b[0m\u001b[1;33m[\u001b[0m\u001b[1;34m\"has_index_names\"\u001b[0m\u001b[1;33m]\u001b[0m \u001b[1;33m=\u001b[0m \u001b[0mkwds\u001b[0m\u001b[1;33m[\u001b[0m\u001b[1;34m\"has_index_names\"\u001b[0m\u001b[1;33m]\u001b[0m\u001b[1;33m\u001b[0m\u001b[1;33m\u001b[0m\u001b[0m\n\u001b[0;32m    818\u001b[0m \u001b[1;33m\u001b[0m\u001b[0m\n\u001b[1;32m--> 819\u001b[1;33m         \u001b[0mself\u001b[0m\u001b[1;33m.\u001b[0m\u001b[0m_engine\u001b[0m \u001b[1;33m=\u001b[0m \u001b[0mself\u001b[0m\u001b[1;33m.\u001b[0m\u001b[0m_make_engine\u001b[0m\u001b[1;33m(\u001b[0m\u001b[0mself\u001b[0m\u001b[1;33m.\u001b[0m\u001b[0mengine\u001b[0m\u001b[1;33m)\u001b[0m\u001b[1;33m\u001b[0m\u001b[1;33m\u001b[0m\u001b[0m\n\u001b[0m\u001b[0;32m    820\u001b[0m \u001b[1;33m\u001b[0m\u001b[0m\n\u001b[0;32m    821\u001b[0m     \u001b[1;32mdef\u001b[0m \u001b[0mclose\u001b[0m\u001b[1;33m(\u001b[0m\u001b[0mself\u001b[0m\u001b[1;33m)\u001b[0m\u001b[1;33m:\u001b[0m\u001b[1;33m\u001b[0m\u001b[1;33m\u001b[0m\u001b[0m\n",
      "\u001b[1;32m~\\anaconda3\\envs\\Main Environment\\lib\\site-packages\\pandas\\io\\parsers.py\u001b[0m in \u001b[0;36m_make_engine\u001b[1;34m(self, engine)\u001b[0m\n\u001b[0;32m   1048\u001b[0m             )\n\u001b[0;32m   1049\u001b[0m         \u001b[1;31m# error: Too many arguments for \"ParserBase\"\u001b[0m\u001b[1;33m\u001b[0m\u001b[1;33m\u001b[0m\u001b[1;33m\u001b[0m\u001b[0m\n\u001b[1;32m-> 1050\u001b[1;33m         \u001b[1;32mreturn\u001b[0m \u001b[0mmapping\u001b[0m\u001b[1;33m[\u001b[0m\u001b[0mengine\u001b[0m\u001b[1;33m]\u001b[0m\u001b[1;33m(\u001b[0m\u001b[0mself\u001b[0m\u001b[1;33m.\u001b[0m\u001b[0mf\u001b[0m\u001b[1;33m,\u001b[0m \u001b[1;33m**\u001b[0m\u001b[0mself\u001b[0m\u001b[1;33m.\u001b[0m\u001b[0moptions\u001b[0m\u001b[1;33m)\u001b[0m  \u001b[1;31m# type: ignore[call-arg]\u001b[0m\u001b[1;33m\u001b[0m\u001b[1;33m\u001b[0m\u001b[0m\n\u001b[0m\u001b[0;32m   1051\u001b[0m \u001b[1;33m\u001b[0m\u001b[0m\n\u001b[0;32m   1052\u001b[0m     \u001b[1;32mdef\u001b[0m \u001b[0m_failover_to_python\u001b[0m\u001b[1;33m(\u001b[0m\u001b[0mself\u001b[0m\u001b[1;33m)\u001b[0m\u001b[1;33m:\u001b[0m\u001b[1;33m\u001b[0m\u001b[1;33m\u001b[0m\u001b[0m\n",
      "\u001b[1;32m~\\anaconda3\\envs\\Main Environment\\lib\\site-packages\\pandas\\io\\parsers.py\u001b[0m in \u001b[0;36m__init__\u001b[1;34m(self, src, **kwds)\u001b[0m\n\u001b[0;32m   1865\u001b[0m \u001b[1;33m\u001b[0m\u001b[0m\n\u001b[0;32m   1866\u001b[0m         \u001b[1;31m# open handles\u001b[0m\u001b[1;33m\u001b[0m\u001b[1;33m\u001b[0m\u001b[1;33m\u001b[0m\u001b[0m\n\u001b[1;32m-> 1867\u001b[1;33m         \u001b[0mself\u001b[0m\u001b[1;33m.\u001b[0m\u001b[0m_open_handles\u001b[0m\u001b[1;33m(\u001b[0m\u001b[0msrc\u001b[0m\u001b[1;33m,\u001b[0m \u001b[0mkwds\u001b[0m\u001b[1;33m)\u001b[0m\u001b[1;33m\u001b[0m\u001b[1;33m\u001b[0m\u001b[0m\n\u001b[0m\u001b[0;32m   1868\u001b[0m         \u001b[1;32massert\u001b[0m \u001b[0mself\u001b[0m\u001b[1;33m.\u001b[0m\u001b[0mhandles\u001b[0m \u001b[1;32mis\u001b[0m \u001b[1;32mnot\u001b[0m \u001b[1;32mNone\u001b[0m\u001b[1;33m\u001b[0m\u001b[1;33m\u001b[0m\u001b[0m\n\u001b[0;32m   1869\u001b[0m         \u001b[1;32mfor\u001b[0m \u001b[0mkey\u001b[0m \u001b[1;32min\u001b[0m \u001b[1;33m(\u001b[0m\u001b[1;34m\"storage_options\"\u001b[0m\u001b[1;33m,\u001b[0m \u001b[1;34m\"encoding\"\u001b[0m\u001b[1;33m,\u001b[0m \u001b[1;34m\"memory_map\"\u001b[0m\u001b[1;33m,\u001b[0m \u001b[1;34m\"compression\"\u001b[0m\u001b[1;33m)\u001b[0m\u001b[1;33m:\u001b[0m\u001b[1;33m\u001b[0m\u001b[1;33m\u001b[0m\u001b[0m\n",
      "\u001b[1;32m~\\anaconda3\\envs\\Main Environment\\lib\\site-packages\\pandas\\io\\parsers.py\u001b[0m in \u001b[0;36m_open_handles\u001b[1;34m(self, src, kwds)\u001b[0m\n\u001b[0;32m   1360\u001b[0m         \u001b[0mLet\u001b[0m \u001b[0mthe\u001b[0m \u001b[0mreaders\u001b[0m \u001b[0mopen\u001b[0m \u001b[0mIOHanldes\u001b[0m \u001b[0mafter\u001b[0m \u001b[0mthey\u001b[0m \u001b[0mare\u001b[0m \u001b[0mdone\u001b[0m \u001b[1;32mwith\u001b[0m \u001b[0mtheir\u001b[0m \u001b[0mpotential\u001b[0m \u001b[0mraises\u001b[0m\u001b[1;33m.\u001b[0m\u001b[1;33m\u001b[0m\u001b[1;33m\u001b[0m\u001b[0m\n\u001b[0;32m   1361\u001b[0m         \"\"\"\n\u001b[1;32m-> 1362\u001b[1;33m         self.handles = get_handle(\n\u001b[0m\u001b[0;32m   1363\u001b[0m             \u001b[0msrc\u001b[0m\u001b[1;33m,\u001b[0m\u001b[1;33m\u001b[0m\u001b[1;33m\u001b[0m\u001b[0m\n\u001b[0;32m   1364\u001b[0m             \u001b[1;34m\"r\"\u001b[0m\u001b[1;33m,\u001b[0m\u001b[1;33m\u001b[0m\u001b[1;33m\u001b[0m\u001b[0m\n",
      "\u001b[1;32m~\\anaconda3\\envs\\Main Environment\\lib\\site-packages\\pandas\\io\\common.py\u001b[0m in \u001b[0;36mget_handle\u001b[1;34m(path_or_buf, mode, encoding, compression, memory_map, is_text, errors, storage_options)\u001b[0m\n\u001b[0;32m    640\u001b[0m                 \u001b[0merrors\u001b[0m \u001b[1;33m=\u001b[0m \u001b[1;34m\"replace\"\u001b[0m\u001b[1;33m\u001b[0m\u001b[1;33m\u001b[0m\u001b[0m\n\u001b[0;32m    641\u001b[0m             \u001b[1;31m# Encoding\u001b[0m\u001b[1;33m\u001b[0m\u001b[1;33m\u001b[0m\u001b[1;33m\u001b[0m\u001b[0m\n\u001b[1;32m--> 642\u001b[1;33m             handle = open(\n\u001b[0m\u001b[0;32m    643\u001b[0m                 \u001b[0mhandle\u001b[0m\u001b[1;33m,\u001b[0m\u001b[1;33m\u001b[0m\u001b[1;33m\u001b[0m\u001b[0m\n\u001b[0;32m    644\u001b[0m                 \u001b[0mioargs\u001b[0m\u001b[1;33m.\u001b[0m\u001b[0mmode\u001b[0m\u001b[1;33m,\u001b[0m\u001b[1;33m\u001b[0m\u001b[1;33m\u001b[0m\u001b[0m\n",
      "\u001b[1;31mFileNotFoundError\u001b[0m: [Errno 2] No such file or directory: 'hw3_extra_materials/csv/sample1.csv'"
     ]
    }
   ],
   "source": [
    "path = 'hw3_extra_materials/csv/sample1.csv'\n",
    "\n",
    "df_csv = pd.read_csv(path)"
   ]
  },
  {
   "cell_type": "code",
   "execution_count": null,
   "id": "d24a7e30-428c-45e7-bade-8e83c35fc0fb",
   "metadata": {},
   "outputs": [],
   "source": [
    "df_csv.head(2)"
   ]
  },
  {
   "cell_type": "code",
   "execution_count": null,
   "id": "37a47b58-a50a-4352-86c2-bfa819ddf41b",
   "metadata": {},
   "outputs": [],
   "source": [
    "db.collection1.insert_many(df_csv.to_dict('records'))"
   ]
  },
  {
   "cell_type": "code",
   "execution_count": null,
   "id": "668e9788-41db-47fe-96c0-309d2dd8b578",
   "metadata": {},
   "outputs": [],
   "source": [
    "db.collection1.find_one()"
   ]
  },
  {
   "cell_type": "code",
   "execution_count": null,
   "id": "cc76544a",
   "metadata": {},
   "outputs": [],
   "source": []
  },
  {
   "cell_type": "code",
   "execution_count": null,
   "id": "0af8cc4f",
   "metadata": {},
   "outputs": [],
   "source": []
  },
  {
   "cell_type": "markdown",
   "id": "4ae550af-372a-4d45-b799-8e4dc78d2cf9",
   "metadata": {},
   "source": [
    "### When csv is too large to be loaded by pandas"
   ]
  },
  {
   "cell_type": "code",
   "execution_count": null,
   "id": "f71f18f5-031e-4471-b2b7-b95efc3fd629",
   "metadata": {},
   "outputs": [],
   "source": [
    "path = 'hw3_extra_materials/csv/sample1.csv'"
   ]
  },
  {
   "cell_type": "code",
   "execution_count": null,
   "id": "c20b3d73-5c8d-4277-9cb0-ab1a71cae5e0",
   "metadata": {},
   "outputs": [],
   "source": [
    "def upload_to_db(df, collection):\n",
    "    db[collection].insert_many(df.to_dict('records'))"
   ]
  },
  {
   "cell_type": "code",
   "execution_count": null,
   "id": "ff3cbb32-bc60-44e3-9e82-f2fd0a0118d7",
   "metadata": {},
   "outputs": [],
   "source": [
    "chunksize = 2 #number of rows per chunk\n",
    "\n",
    "collection = 'collection1'\n",
    "\n",
    "with pd.read_csv(path, chunksize=chunksize) as reader:\n",
    "    for chunk in reader:\n",
    "        upload_to_db(chunk, collection)\n",
    "        print(db.collection1.count_documents({}))"
   ]
  },
  {
   "cell_type": "code",
   "execution_count": null,
   "id": "4cb30e7e",
   "metadata": {},
   "outputs": [],
   "source": []
  },
  {
   "cell_type": "code",
   "execution_count": null,
   "id": "fac88bad",
   "metadata": {},
   "outputs": [],
   "source": []
  },
  {
   "cell_type": "markdown",
   "id": "2a281993-fdcb-4edf-a672-49e8a6cd7f8c",
   "metadata": {},
   "source": [
    "# Import Json"
   ]
  },
  {
   "cell_type": "code",
   "execution_count": null,
   "id": "51111e9f-1b0a-4502-a29e-db15ecd9e83f",
   "metadata": {},
   "outputs": [],
   "source": [
    "import json"
   ]
  },
  {
   "cell_type": "markdown",
   "id": "9cff6397-8440-4969-8249-1338d9ecf4e9",
   "metadata": {},
   "source": [
    "## Example 1"
   ]
  },
  {
   "cell_type": "code",
   "execution_count": null,
   "id": "46fed3cc-33db-4939-b769-d258808088ad",
   "metadata": {},
   "outputs": [],
   "source": [
    "path = 'hw3_extra_materials/json/sample1.json'\n",
    "\n",
    "\n",
    "with open(path) as json_file:\n",
    "    json_2 = json.load(json_file)"
   ]
  },
  {
   "cell_type": "code",
   "execution_count": null,
   "id": "f4b8cd24-76d5-4582-abda-ff179ff264e2",
   "metadata": {},
   "outputs": [],
   "source": [
    "json_2"
   ]
  },
  {
   "cell_type": "code",
   "execution_count": null,
   "id": "55d22261-df00-43da-981e-cdf4d8ad4695",
   "metadata": {},
   "outputs": [],
   "source": [
    "data = [json_2] # Using insert many imlplies a list of documents"
   ]
  },
  {
   "cell_type": "code",
   "execution_count": null,
   "id": "a0957b6b-41b6-42d0-bc98-ea19540f3002",
   "metadata": {},
   "outputs": [],
   "source": [
    "r = db.collection2.insert_many(data)"
   ]
  },
  {
   "cell_type": "code",
   "execution_count": null,
   "id": "55557e18-e0db-4b03-a8dd-b8648dd50925",
   "metadata": {},
   "outputs": [],
   "source": [
    "r.inserted_ids"
   ]
  },
  {
   "cell_type": "code",
   "execution_count": null,
   "id": "20415dd5-9351-4051-8bc3-99ebd5affd02",
   "metadata": {},
   "outputs": [],
   "source": []
  },
  {
   "cell_type": "code",
   "execution_count": null,
   "id": "a85d9e85-43fd-464b-a573-3df941aafd3f",
   "metadata": {},
   "outputs": [],
   "source": []
  },
  {
   "cell_type": "markdown",
   "id": "e6ff95dd-2503-4b6d-866b-81838e03175b",
   "metadata": {},
   "source": [
    "## Example 2"
   ]
  },
  {
   "cell_type": "code",
   "execution_count": null,
   "id": "5480fbe2-651f-4308-b3c1-e1c99b3a8020",
   "metadata": {},
   "outputs": [],
   "source": [
    "path = 'hw3_extra_materials/json/sample2.json'\n",
    "\n",
    "\n",
    "with open(path) as json_file:\n",
    "    json_4 = json.load(json_file)"
   ]
  },
  {
   "cell_type": "code",
   "execution_count": null,
   "id": "7fd9d97d-2a3a-4892-8e24-e48edb4cd4b8",
   "metadata": {},
   "outputs": [],
   "source": [
    "json_4 # There is a list here"
   ]
  },
  {
   "cell_type": "code",
   "execution_count": null,
   "id": "0e4d9051-edfe-467d-8df7-70b2fa187b23",
   "metadata": {},
   "outputs": [],
   "source": [
    "data = json_4['people']"
   ]
  },
  {
   "cell_type": "code",
   "execution_count": null,
   "id": "073136f6-fdfe-43b1-bfa0-09383f5ba581",
   "metadata": {},
   "outputs": [],
   "source": [
    "r = db.collection2.insert_many(data)"
   ]
  },
  {
   "cell_type": "code",
   "execution_count": null,
   "id": "b68ece4b-bfb4-427c-aa13-6f03e0de672b",
   "metadata": {},
   "outputs": [],
   "source": [
    "r.inserted_ids"
   ]
  },
  {
   "cell_type": "code",
   "execution_count": null,
   "id": "612f7239-a083-4382-b977-64ae55424248",
   "metadata": {},
   "outputs": [],
   "source": []
  },
  {
   "cell_type": "code",
   "execution_count": null,
   "id": "3a96a688-1e5f-40e9-9456-4dda362c89b6",
   "metadata": {},
   "outputs": [],
   "source": []
  },
  {
   "cell_type": "markdown",
   "id": "9fee96df-f830-41d9-99bc-aa0e5c04b654",
   "metadata": {},
   "source": [
    "### You can also use Mongo Database Tools - mongoimport\n",
    "\n",
    "Instalation Required: https://docs.mongodb.com/database-tools/"
   ]
  },
  {
   "cell_type": "code",
   "execution_count": null,
   "id": "460d3bb4-31c0-40be-89c1-3f4fb6ff2308",
   "metadata": {},
   "outputs": [],
   "source": []
  },
  {
   "cell_type": "code",
   "execution_count": null,
   "id": "dc9d933f-ae00-4fdd-bb8f-e31aa9218b24",
   "metadata": {},
   "outputs": [],
   "source": []
  },
  {
   "cell_type": "markdown",
   "id": "84e8b891-6a6e-48fe-816c-ee81a63e7294",
   "metadata": {},
   "source": [
    "# We have data in MongoDB, but not a model!\n",
    "## Lets create an embedded collection from collections 1 and 2"
   ]
  },
  {
   "cell_type": "code",
   "execution_count": null,
   "id": "c7031f8a-62b7-438f-b6d8-80d6f8ef2cec",
   "metadata": {},
   "outputs": [],
   "source": [
    "r = list(db.collection1.find().limit(2))\n",
    "\n",
    "r"
   ]
  },
  {
   "cell_type": "code",
   "execution_count": null,
   "id": "a00eff41-7416-4f0e-b9c0-1c191faaed58",
   "metadata": {},
   "outputs": [],
   "source": [
    "list(db.collection2.find({}))"
   ]
  },
  {
   "cell_type": "code",
   "execution_count": null,
   "id": "47c3c681-1795-4c64-97d1-16ad3069b7ea",
   "metadata": {},
   "outputs": [],
   "source": []
  },
  {
   "cell_type": "code",
   "execution_count": null,
   "id": "94778602-43e7-49fb-bc3b-4ccf739858f7",
   "metadata": {},
   "outputs": [],
   "source": []
  },
  {
   "cell_type": "markdown",
   "id": "b20ba2ce-147f-43f9-a715-7560e4dc1c18",
   "metadata": {},
   "source": [
    "## Collection1's \"client_number\" key represents the \"number\" key in collection2\n",
    "### Let's create an embbeded collection with collection1 embbeded inside of collection2"
   ]
  },
  {
   "cell_type": "code",
   "execution_count": null,
   "id": "1d035495-1099-4721-ad03-cc4e16edac56",
   "metadata": {},
   "outputs": [],
   "source": [
    "query_1 = {\n",
    "        \"$lookup\":{\n",
    "           \"from\": \"collection1\",\n",
    "           \"localField\": \"client_number\",\n",
    "           \"foreignField\": \"number\",\n",
    "           \"as\": \"purchases\"\n",
    "        }\n",
    "    }\n",
    "\n",
    "\n",
    "\n",
    "\n",
    "# Both queries 2 are equivalent, although the $merge operator has more functionalities\n",
    "query_2 = { \n",
    "        \"$merge\" : {\n",
    "            \"into\" : \"collection3_embeded\",\n",
    "            \"whenMatched\": \"merge\"\n",
    "        } \n",
    "    }\n",
    "\n",
    "#query_2 = { '$out' : \"collection3_embeded\" }\n",
    "\n",
    "\n",
    "\n",
    "\n",
    "\n",
    "\n",
    "pipeline = [query_1, query_2]\n",
    "\n",
    "r = db.collection2.aggregate(pipeline)\n",
    "\n",
    "list(r)"
   ]
  },
  {
   "cell_type": "code",
   "execution_count": null,
   "id": "86a4b3dc-9494-4b9e-963f-819b3253a247",
   "metadata": {},
   "outputs": [],
   "source": [
    "r = list(db.collection3_embeded.find({}))\n",
    "\n",
    "r[0]"
   ]
  },
  {
   "cell_type": "code",
   "execution_count": null,
   "id": "cac1a2b7-14e5-4e78-9bf0-ff18b44a8cba",
   "metadata": {},
   "outputs": [],
   "source": []
  },
  {
   "cell_type": "code",
   "execution_count": null,
   "id": "8b1a2595-8ebb-45bd-9da0-53e08cc943e9",
   "metadata": {},
   "outputs": [],
   "source": []
  },
  {
   "cell_type": "markdown",
   "id": "e630653f-ea6f-445b-88a1-040346bc6176",
   "metadata": {},
   "source": [
    "# SQL Code, regarding the questions from HW3"
   ]
  },
  {
   "cell_type": "markdown",
   "id": "6f890e0c-1efc-4356-a9e6-131f84c40e4b",
   "metadata": {},
   "source": [
    "## Disclaimer: This is an early draft in sql of the questions asked, some of them might not be fully complete"
   ]
  },
  {
   "cell_type": "markdown",
   "id": "695828a8-008b-4b37-a712-3f74d548f59d",
   "metadata": {},
   "source": [
    "### Design Requirements\n",
    "\n",
    "You have been informed that the WWI has the following query requirements to the database.\n",
    "\n",
    "1. The web team needs:  \n",
    "* From which states are our suppliers from?\n",
    "```\n",
    "SELECT StateProvinceName, COUNT(*)\n",
    "FROM WWI.Application_Countries\n",
    "INNER JOIN WWI.Application_StateProvinces ON Application_Countries.CountryID = Application_StateProvinces.CountryID\n",
    "INNER JOIN WWI.Application_Cities AC on Application_StateProvinces.StateProvinceID = AC.StateProvinceID\n",
    "INNER JOIN WWI.Purchasing_Suppliers ON AC.CityID = Purchasing_Suppliers.DeliveryCityID\n",
    "GROUP BY StateProvinceName\n",
    "ORDER BY 2 DESC\n",
    "```\n",
    "* From which state province are the customers who have a higher credit limit?\n",
    "```\n",
    "SELECT StateProvinceName, AVG(CreditLimit)\n",
    "FROM WWI.Application_Countries\n",
    "INNER JOIN WWI.Application_StateProvinces ON Application_Countries.CountryID = Application_StateProvinces.CountryID\n",
    "INNER JOIN WWI.Application_Cities AC on Application_StateProvinces.StateProvinceID = AC.StateProvinceID\n",
    "INNER JOIN WWI.Sales_Customers ON AC.CityID = Sales_Customers.DeliveryCityID\n",
    "GROUP BY StateProvinceName\n",
    "ORDER BY 2 DESC\n",
    "```\n",
    "2. The warehouse group needs:  \n",
    "* To know which items get ordered together the most?\n",
    "```\n",
    "SELECT TOP 30 ol2.Description,ol1.Description, count(*)\n",
    "FROM WWI.Sales_OrderLines ol1\n",
    "INNER JOIN WWI.Sales_OrderLines ol2 on ol1.OrderID = ol2.OrderID\n",
    "WHERE ol2.Description > ol1.Description\n",
    "GROUP BY ol2.Description,ol1.Description\n",
    "ORDER BY 3 DESC\n",
    "```\n",
    "* Which items get ordered the most in bulk (bigger amounts)?\n",
    "```\n",
    "SELECT TOP 3 StockItemName, COUNT(Quantity), AVG(Quantity)\n",
    "FROM WWI.Sales_OrderLines\n",
    "INNER JOIN WWI.Warehouse_StockItems ON Warehouse_StockItems.StockItemID=Sales_OrderLines.StockItemID\n",
    "WHERE Quantity > 0\n",
    "GROUP BY StockItemName\n",
    "```\n",
    "* Which customers have delivery addresses under 10km of distance? \n",
    "```\n",
    "SELECT TOP 30 c1.PostalPostalCode, c2.PostalPostalCode,c1.PostalAddressLine2, c2.PostalAddressLine2, c1.DeliveryLocation.STDistance(c2.DeliveryLocation) / 1000\n",
    "FROM WWI.Sales_Customers as c1\n",
    "JOIN WWI.Sales_Customers c2 ON c1.CustomerID <> c2.CustomerID\n",
    "WHERE c1.CustomerID > c2.CustomerID\n",
    "   and c1.DeliveryLocation.STDistance(c2.DeliveryLocation) != 0\n",
    "   and c1.DeliveryLocation.STDistance(c2.DeliveryLocation)/1000 < 10\n",
    "ORDER BY 5\n",
    "```\n",
    "3. The CFO:  \n",
    "* Would like to know the monthly order count?\n",
    "```\n",
    "SELECT YEAR(OrderDate), MONTH(OrderDate), COUNT(*)\n",
    "FROM WWI.Sales_Orders\n",
    "GROUP BY YEAR(OrderDate), MONTH(OrderDate)\n",
    "ORDER BY YEAR(OrderDate), MONTH(OrderDate)\n",
    "```\n",
    "* Would like to know the average monthly sales prices?\n",
    "```\n",
    "SELECT YEAR(OrderDate), MONTH(OrderDate), AVG(Quantity * UnitPrice)\n",
    "FROM WWI.Sales_Orders\n",
    "INNER JOIN WWI.Sales_OrderLines ON Sales_Orders.OrderID = Sales_OrderLines.OrderID\n",
    "GROUP BY YEAR(OrderDate), MONTH(OrderDate)\n",
    "ORDER BY YEAR(OrderDate), MONTH(OrderDate)\n",
    "```\n",
    "* Would like to know the yearly expenditures with suppliers (per supplier name)?\n",
    "```\n",
    "SELECT YEAR(TransactionDate), SupplierName,  SUM(TransactionAmount)\n",
    "FROM WWI.Purchasing_SupplierTransactions\n",
    "INNER JOIN WWI.Purchasing_Suppliers ON Purchasing_SupplierTransactions.SupplierID = Purchasing_Suppliers.SupplierID\n",
    "WHERE SupplierInvoiceNumber is not null\n",
    "GROUP BY YEAR(TransactionDate), SupplierName\n",
    "ORDER BY 1\n",
    "```\n",
    "4. Partnerships:\n",
    "* Would like to know what's the most common payment type?\n",
    "```\n",
    "SELECT PaymentMethodName, count(*)\n",
    "FROM WWI.Purchasing_SupplierTransactions\n",
    "INNER JOIN WWI.Application_PaymentMethods ON Purchasing_SupplierTransactions.PaymentMethodID = Application_PaymentMethods.PaymentMethodID\n",
    "INNER JOIN WWI.Sales_CustomerTransactions ON Sales_CustomerTransactions.PaymentMethodID = Application_PaymentMethods.PaymentMethodID\n",
    "GROUP BY PaymentMethodName\n",
    "```\n",
    "\n",
    "* Which supplier of `Novelty Goods Supplier` as the most transactions?\n",
    "```\n",
    "SELECT SupplierCategoryName, SupplierName, count(*)\n",
    "FROM WWI.Purchasing_Suppliers\n",
    "JOIN WWI.Purchasing_SupplierCategories ON Purchasing_Suppliers.SupplierCategoryID = Purchasing_SupplierCategories.SupplierCategoryID\n",
    "JOIN WWI.Purchasing_SupplierTransactions ON Purchasing_Suppliers.SupplierID = Purchasing_SupplierTransactions.SupplierID\n",
    "GROUP BY  SupplierCategoryName,  SupplierName\n",
    "ORDER BY 1,3 desc\n",
    "```\n",
    "5. The marketing team:  \n",
    "* Want to make an appreciation post and needs the name of the sales person with the most invoices in 2013 (person who's customers brought the most money)?\n",
    "```\n",
    "SELECT TOp 30 FullName, count(*), sum(Quantity*UnitPrice)\n",
    "FROM WWI.Application_People\n",
    "JOIN WWI.Sales_Invoices ON Application_People.PersonID = Sales_Invoices.SalespersonPersonID\n",
    "JOIN WWI.Sales_InvoiceLines ON Sales_Invoices.InvoiceID = Sales_InvoiceLines.InvoiceID\n",
    "WHERE year(InvoiceDate) = 2013\n",
    "GROUP BY FullName\n",
    "ORDER BY 2 DESC\n",
    "```\n",
    "---"
   ]
  },
  {
   "cell_type": "code",
   "execution_count": null,
   "id": "a892c10f-383a-464d-bdd2-5b96ef8e636c",
   "metadata": {},
   "outputs": [],
   "source": []
  },
  {
   "cell_type": "code",
   "execution_count": null,
   "id": "2de52a90-5f8c-4334-9c74-ad3b0c0b1e95",
   "metadata": {},
   "outputs": [],
   "source": []
  },
  {
   "cell_type": "markdown",
   "id": "8b636f2d-f77c-4789-9fe9-6b37e453e5f9",
   "metadata": {},
   "source": [
    "# Indexes Expansion"
   ]
  },
  {
   "cell_type": "code",
   "execution_count": null,
   "id": "5428b391-3a12-485b-bacb-34ba07b0d8c6",
   "metadata": {},
   "outputs": [],
   "source": [
    "from pymongo import MongoClient\n",
    "from bson.objectid import ObjectId\n",
    "from pprint import pprint\n",
    "\n",
    "from pymongo import DESCENDING, ASCENDING, TEXT, GEO2D\n",
    "\n",
    "host=\"rhea.isegi.unl.pt\"\n",
    "port=\"27018\"\n",
    "user=\"mongo_classes_rhea\"\n",
    "password=\"ULWQFGfyZWedCMg5PHKZTYGFxmqSEZ6QsMYV\"\n",
    "protocol=\"mongodb\"\n",
    "client = MongoClient(f\"{protocol}://{user}:{password}@{host}:{port}\")\n",
    "db = client.beer"
   ]
  },
  {
   "cell_type": "markdown",
   "id": "ce30056d-5a74-4c32-9c74-d96f0cd5cc28",
   "metadata": {},
   "source": [
    "## Text index\n",
    "### https://docs.mongodb.com/manual/text-search/"
   ]
  },
  {
   "cell_type": "code",
   "execution_count": null,
   "id": "3f239c23-a18c-40f3-a88d-f6c67b2a3b2d",
   "metadata": {},
   "outputs": [],
   "source": [
    "db.reviews.find_one()"
   ]
  },
  {
   "cell_type": "code",
   "execution_count": null,
   "id": "a2de29ae-858c-4242-b093-2cad0539a43b",
   "metadata": {},
   "outputs": [],
   "source": [
    "for index in db.reviews.list_indexes():\n",
    "    print(index['name'])"
   ]
  },
  {
   "cell_type": "code",
   "execution_count": null,
   "id": "ee0b4174-1150-459b-9c06-fcc9bff2be24",
   "metadata": {},
   "outputs": [],
   "source": [
    "# drop index\n",
    "\n",
    "try:\n",
    "    db.reviews.drop_index('text_00')\n",
    "except Exception as e: print(e)"
   ]
  },
  {
   "cell_type": "code",
   "execution_count": null,
   "id": "cf2c7348-157d-46fe-8232-f9ff21b25424",
   "metadata": {},
   "outputs": [],
   "source": [
    "# Index goes here\n",
    "\n",
    "db.reviews.create_index(\n",
    "    [('text', TEXT)], # We've imported the TEXT variable to explicitly define an index as text\n",
    "    name='text_00', \n",
    ")"
   ]
  },
  {
   "cell_type": "code",
   "execution_count": null,
   "id": "37624d26-8ece-4b79-b8f4-3e01b0310399",
   "metadata": {},
   "outputs": [],
   "source": [
    "list(db.reviews.find({'$text':{'$search': \"great\"}}).limit(10))"
   ]
  },
  {
   "cell_type": "code",
   "execution_count": null,
   "id": "2edf900f-18ff-450d-862a-e14c555f98cd",
   "metadata": {},
   "outputs": [],
   "source": [
    "# drop index after\n",
    "\n",
    "db.reviews.drop_index('text_00')"
   ]
  },
  {
   "cell_type": "code",
   "execution_count": null,
   "id": "c0a7492a-f25c-4ffd-a4ea-e08b8a5a8b57",
   "metadata": {},
   "outputs": [],
   "source": []
  },
  {
   "cell_type": "code",
   "execution_count": null,
   "id": "66c309a9-3b9a-4510-b132-2b565d547cf4",
   "metadata": {},
   "outputs": [],
   "source": []
  },
  {
   "cell_type": "markdown",
   "id": "918408d2-905a-455f-a747-2b6153fe8d54",
   "metadata": {},
   "source": [
    "### Geospatial Index"
   ]
  },
  {
   "cell_type": "code",
   "execution_count": null,
   "id": "625fd274-909a-4e51-935d-bdcba5c5f7f4",
   "metadata": {},
   "outputs": [],
   "source": [
    "from pymongo import MongoClient\n",
    "from bson.objectid import ObjectId\n",
    "from pprint import pprint\n",
    "\n",
    "host=\"rhea.isegi.unl.pt\"\n",
    "port=\"27018\"\n",
    "user=\"mongo_classes_rhea\"\n",
    "password=\"ULWQFGfyZWedCMg5PHKZTYGFxmqSEZ6QsMYV\"\n",
    "protocol=\"mongodb\"\n",
    "client = MongoClient(f\"{protocol}://{user}:{password}@{host}:{port}\")\n",
    "\n",
    "\n",
    "db = client.hw3_example\n",
    "\n",
    "db['places'].drop()"
   ]
  },
  {
   "cell_type": "code",
   "execution_count": null,
   "id": "9e02d951-e83b-4f89-a5b0-f2949fcf9619",
   "metadata": {},
   "outputs": [],
   "source": [
    "import numpy as np\n",
    "\n",
    "path = 'hw3_extra_materials/csv/geo_data.csv'\n",
    "\n",
    "\n",
    "geo_df = pd.read_csv(path)"
   ]
  },
  {
   "cell_type": "code",
   "execution_count": null,
   "id": "3d7deec2-ed6d-45e2-a4d0-3cb4dc604693",
   "metadata": {},
   "outputs": [],
   "source": [
    "geo_df.head()"
   ]
  },
  {
   "cell_type": "code",
   "execution_count": null,
   "id": "225fbeb1-808d-4dd9-984b-bd4cd38a8242",
   "metadata": {},
   "outputs": [],
   "source": [
    "geo_dict = []\n",
    "\n",
    "for row in geo_df.values:\n",
    "    record = {\n",
    "        'nome': row[0],\n",
    "        'coords': [row[1], row[2]]\n",
    "    }\n",
    "    \n",
    "    geo_dict.append(record)"
   ]
  },
  {
   "cell_type": "code",
   "execution_count": null,
   "id": "56427902-de40-4d3a-9e89-36771fb59ce3",
   "metadata": {},
   "outputs": [],
   "source": [
    "# Create new db places with \"geospatial\" data [lat, lon]\n",
    "\n",
    "result = db.places.insert_many(geo_dict)  "
   ]
  },
  {
   "cell_type": "code",
   "execution_count": null,
   "id": "b6282695-23e9-49a3-b620-a1f8adb0058b",
   "metadata": {},
   "outputs": [],
   "source": [
    "# Geospatial Index Creation\n",
    "db.places.create_index([(\"coords\", GEO2D)])"
   ]
  },
  {
   "cell_type": "code",
   "execution_count": null,
   "id": "d977d4d0-8bc5-4482-a748-2b4abc60d7e9",
   "metadata": {},
   "outputs": [],
   "source": [
    "coords_1 = list(db.places.find({'nome':'Lisboa'}))[0]['coords']\n",
    "coords_2 = list(db.places.find({'nome':'Setúbal'}))[0]['coords']"
   ]
  },
  {
   "cell_type": "code",
   "execution_count": null,
   "id": "48156695-b301-4981-83fe-29a1cd4c9478",
   "metadata": {},
   "outputs": [],
   "source": []
  },
  {
   "cell_type": "code",
   "execution_count": null,
   "id": "48979f16-9ef9-467a-9e53-ec095876f51b",
   "metadata": {},
   "outputs": [],
   "source": [
    "query = {\"coords\": {\"$near\": coords_1}}\n",
    "    \n",
    "list(db.places.find(query, {'_id':0}).limit(10))"
   ]
  },
  {
   "cell_type": "code",
   "execution_count": null,
   "id": "2c04dfdc-f596-4fe0-b12a-2f162834217d",
   "metadata": {},
   "outputs": [],
   "source": [
    "from bson.son import SON\n",
    "\n",
    "query = {\"coords\": SON([(\"$near\", coords_1), (\"$maxDistance\", .1)])}\n",
    "\n",
    "list(db.places.find(query, {'_id':0}).limit(10))"
   ]
  },
  {
   "cell_type": "code",
   "execution_count": null,
   "id": "b66b4ea5-426e-4e08-9fd2-da498f2cb5b4",
   "metadata": {},
   "outputs": [],
   "source": []
  },
  {
   "cell_type": "code",
   "execution_count": null,
   "id": "aded81b4-f6fc-4ef8-b4f4-477078112f31",
   "metadata": {},
   "outputs": [],
   "source": [
    "query = {\"coords\": {\"$within\": {\"$box\": [coords_1, coords_2]}}}\n",
    "\n",
    "list(db.places.find(query, {'_id':0}).limit(10))"
   ]
  },
  {
   "cell_type": "code",
   "execution_count": null,
   "id": "69ff1d74-977f-4f01-80a9-f6c4627fa166",
   "metadata": {},
   "outputs": [],
   "source": []
  },
  {
   "cell_type": "code",
   "execution_count": null,
   "id": "122c4069-b2c4-4d57-a116-9bade766a6a2",
   "metadata": {},
   "outputs": [],
   "source": [
    "query = {\"coords\": {\"$within\": {\"$center\": [coords_1, 6]}}}\n",
    "\n",
    "list(db.places.find(query, {'_id':0}).limit(10))"
   ]
  },
  {
   "cell_type": "code",
   "execution_count": null,
   "id": "7942aeca-0f04-43f1-ba1a-9a36d8254beb",
   "metadata": {},
   "outputs": [],
   "source": []
  },
  {
   "cell_type": "code",
   "execution_count": null,
   "id": "0f088e6b-9c69-4c02-b1d2-23201a7999a9",
   "metadata": {},
   "outputs": [],
   "source": []
  }
 ],
 "metadata": {
  "kernelspec": {
   "display_name": "Python 3",
   "language": "python",
   "name": "python3"
  },
  "language_info": {
   "codemirror_mode": {
    "name": "ipython",
    "version": 3
   },
   "file_extension": ".py",
   "mimetype": "text/x-python",
   "name": "python",
   "nbconvert_exporter": "python",
   "pygments_lexer": "ipython3",
   "version": "3.8.8"
  }
 },
 "nbformat": 4,
 "nbformat_minor": 5
}
