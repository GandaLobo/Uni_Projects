{
 "cells": [
  {
   "cell_type": "markdown",
   "metadata": {},
   "source": [
    "# Big Data Modeling and Management Assigment\n",
    "\n",
    "\n",
    "## 🍺 The Beer project  🍺 \n",
    "\n",
    "As it was shown in classes, graph databases are a natural way of navegating distinct types of data. For this first project we will be taking a graph database to analyse beer and breweries!   \n",
    "\n",
    "_For reference the dataset used for this project has been extracted from [kaggle](https://www.kaggle.com/ehallmar/beers-breweries-and-beer-reviews), released by Evan Hallmark. Even though the author does not present metada on the origin of the data it is probably a collection of open data from places like [beeradvocate](https://www.beeradvocate.com/)_ \n",
    "\n",
    "#### Problem description\n",
    "\n",
    "Explore the database via python neo4j connector and/or the graphical tool in the NEO4J webpage. Answer the questions. Submit the results by following the instructions\n",
    "\n",
    "#### Connection details to the neo4j database\n",
    "```\n",
    "Host: rhea.isegi.unl.pt:7474  \n",
    "Username: neo4j  \n",
    "Password: F3cfcrnvBev57KZ8mcMk78L9wHgJVZuJ \n",
    "Connect URL : bolt://rhea.isegi.unl.pt:7687\n",
    "```\n",
    "\n",
    "\n",
    "#### Questions\n",
    "\n",
    "\n",
    "0. __Example Question__ _How many beers does the database contain?_\n",
    "1. How many different countries exist in the database?\n",
    "1. Most reviews:  \n",
    "    1. Which `Beer` has the most reviews?  \n",
    "    1. Which `Brewery` has the most reviews for its beers?\n",
    "    1. Which `Country` has the most reviews for its beers? \n",
    "1. Find the user/users that have the most shared reviews (reviews of the same beers) with the user CTJman?\n",
    "1. Which Portuguese brewery has the most beers?\n",
    "1. From those beers (the ones returned from the previous question), which has the most reviews?\n",
    "1. On average how many different beer styles does each brewery produce?\n",
    "1. Which brewery produces the strongest beers according to ABV?\n",
    "1. If I typically enjoy a beer due to its aroma and appearance, which beer style should I try?\n",
    "1. Using Graph Algorithms answer the questions:\n",
    "    1. Which Countries are most similiar when it comes to the most produced Beer styles\n",
    "    1. Which beer has the most similar reviews as the beer `Super Bock Stout`\n",
    "1. If you had to pick 3 beers to recommend using only this database, which would you pick and why?\n",
    "\n",
    "\n",
    " Questions 8 to 10 are somewhat open, which means we'll also be evaluating the reasoning behind your answer. So there aren't necessarily bad results there are only wrong criteria, explanations or execution. \n",
    " \n",
    "##### Groups  \n",
    "\n",
    "Groups should have 4 to 5 people  \n",
    "You should register your group on moodle. An email will be going out to everyone with the credentials for the database to use when storing the results.\n",
    "\n",
    "\n",
    "##### Submission      \n",
    "\n",
    "Submission of the query results to be done to the group's redis database (explained on the first class, credentials sent via email).  \n",
    "The following format is expected:\n",
    "```\n",
    "    >>> redis.set(\"0\", \"358873\")\n",
    "```\n",
    "\n",
    "This result should be the anwser of the group to question 0\n",
    "\n",
    "The code used to produce the results and respective explations should be uploaded to moodle. They should have a clear reference to the group, either on the file name or on the document itself. Preferably one Jupyter notebook per group.\n",
    "\n",
    "Delivery date: Until the **midnight of May 2nd**\n",
    "\n",
    "##### Evaluation   \n",
    "\n",
    "This will be 20% of the final grade.   \n",
    "Each solution will be evaluated on 2 components: correctness of results and simplicity of the solution.  \n",
    "All code will go through plagiarism automated checks. Groups with the same code will undergo investigation.\n",
    "\n",
    "**Note:**\n",
    "Remember the Neo4j is a shared database and when creating in-memory graphs please use your group's prefix.  \n",
    "Ex. Instead of `my-graph` as the name of your graph please use `group0-my-graph`."
   ]
  },
  {
   "cell_type": "markdown",
   "metadata": {},
   "source": [
    "##### Group 27: João Araujo Coelho Chaves (m20200627), John William Villalobos Ruiz (m20200540), Luis Lobo de Almedia (m20200666), Edgardo Arellano Juaréz (m20200749)"
   ]
  },
  {
   "cell_type": "code",
   "execution_count": 1,
   "metadata": {},
   "outputs": [],
   "source": [
    "import redis\n",
    "import py2neo\n",
    "import numpy as np\n",
    "import pandas as pd\n",
    "\n",
    "from pprint import pprint"
   ]
  },
  {
   "cell_type": "markdown",
   "metadata": {},
   "source": [
    "- Setting up the connection with Neo4J and Redis databases"
   ]
  },
  {
   "cell_type": "code",
   "execution_count": 2,
   "metadata": {},
   "outputs": [],
   "source": [
    "#Neo4J\n",
    "username='neo4j'\n",
    "password='F3cfcrnvBev57KZ8mcMk78L9wHgJVZuJ'\n",
    "host='rhea.isegi.unl.pt'\n",
    "port='7474'\n",
    "graph=py2neo.Graph(f'http://{username}:{password}@{host}:{port}')\n",
    "\n",
    "#Redis\n",
    "r=redis.Redis(host='rhea.isegi.unl.pt', port='6407', password='841604675h8960303529464l24011g49', decode_responses=True)"
   ]
  },
  {
   "cell_type": "markdown",
   "metadata": {},
   "source": [
    "#### 0. How many beers does the database contain?"
   ]
  },
  {
   "cell_type": "code",
   "execution_count": 3,
   "metadata": {},
   "outputs": [
    {
     "data": {
      "text/plain": [
       "358873"
      ]
     },
     "execution_count": 3,
     "metadata": {},
     "output_type": "execute_result"
    }
   ],
   "source": [
    "hw={} #dictionary to store the answers for each of the HW questions\n",
    "hw['0']=graph.run('MATCH (b:Beers) RETURN count(*) AS Count').data()[0]['Count']\n",
    "hw['0']"
   ]
  },
  {
   "cell_type": "markdown",
   "metadata": {},
   "source": [
    "#### 1. How many different countries exist in the database?"
   ]
  },
  {
   "cell_type": "code",
   "execution_count": 4,
   "metadata": {},
   "outputs": [
    {
     "data": {
      "text/plain": [
       "200"
      ]
     },
     "execution_count": 4,
     "metadata": {},
     "output_type": "execute_result"
    }
   ],
   "source": [
    "hw['1']=graph.run('MATCH (c:Country) RETURN count(DISTINCT c.country_digit) AS Countries').data()[0]['Countries']\n",
    "hw['1']"
   ]
  },
  {
   "cell_type": "markdown",
   "metadata": {},
   "source": [
    "### Understanding of the objects (Labels, Relationship Types):\n",
    "- A: Getting Labels & Relationship Types on Python"
   ]
  },
  {
   "cell_type": "code",
   "execution_count": 5,
   "metadata": {},
   "outputs": [
    {
     "name": "stdout",
     "output_type": "stream",
     "text": [
      "[{'label': 'Breweries'},\n",
      " {'label': 'Country'},\n",
      " {'label': 'Beers'},\n",
      " {'label': 'Reviews'},\n",
      " {'label': 'Username'},\n",
      " {'label': 'Style'},\n",
      " {'label': 'TODELETE'}]\n",
      "\n",
      "[{'relationshipType': 'FROM'},\n",
      " {'relationshipType': 'BREWED_AT'},\n",
      " {'relationshipType': 'MADE'},\n",
      " {'relationshipType': 'ABOUT'},\n",
      " {'relationshipType': 'OF_TYPE'}]\n"
     ]
    }
   ],
   "source": [
    "labels=graph.run('CALL db.labels()').data()\n",
    "pprint(labels)\n",
    "print('')\n",
    "pprint(graph.run('CALL db.relationshipTypes()').data()) "
   ]
  },
  {
   "cell_type": "markdown",
   "metadata": {},
   "source": [
    "- B: Getting Labels & Relationship Types on Neo4j"
   ]
  },
  {
   "attachments": {
    "6b84f08c-617c-419e-b0b3-c804c6490e4e.png": {
     "image/png": "[encoded data removed]"
    }
   },
   "cell_type": "markdown",
   "metadata": {},
   "source": [
    "![image.png](attachment:6b84f08c-617c-419e-b0b3-c804c6490e4e.png)"
   ]
  },
  {
   "cell_type": "markdown",
   "metadata": {},
   "source": [
    "- C: Another way to visualize the labels/nodes and their relationships types"
   ]
  },
  {
   "cell_type": "code",
   "execution_count": 6,
   "metadata": {},
   "outputs": [
    {
     "name": "stdout",
     "output_type": "stream",
     "text": [
      "Breweries\n",
      "[{'count(*)': 50345, 'type(r)': 'FROM'}]\n",
      "Country\n",
      "[]\n",
      "Beers\n",
      "[{'count(*)': 358873, 'type(r)': 'BREWED_AT'},\n",
      " {'count(*)': 358873, 'type(r)': 'OF_TYPE'}]\n",
      "Reviews\n",
      "[{'count(*)': 9072914, 'type(r)': 'ABOUT'}]\n",
      "Username\n",
      "[{'count(*)': 9073128, 'type(r)': 'MADE'}]\n",
      "Style\n",
      "[]\n",
      "TODELETE\n",
      "[]\n"
     ]
    }
   ],
   "source": [
    "for i in labels:\n",
    "    sName= i[list(i.keys())[0]]\n",
    "    sCode= sName[0:2].lower()\n",
    "    print(sName)\n",
    "    pprint(graph.run(f'MATCH ({sCode}:{sName})-[r]->() RETURN type(r), count(*)').data())"
   ]
  },
  {
   "cell_type": "markdown",
   "metadata": {},
   "source": [
    "#### 2. Most reviews:"
   ]
  },
  {
   "cell_type": "markdown",
   "metadata": {},
   "source": [
    "#### A: Which Beer has the most reviews?"
   ]
  },
  {
   "cell_type": "code",
   "execution_count": 7,
   "metadata": {},
   "outputs": [
    {
     "data": {
      "text/plain": [
       "'Breakfast Stout'"
      ]
     },
     "execution_count": 7,
     "metadata": {},
     "output_type": "execute_result"
    }
   ],
   "source": [
    "hw['2A']=graph.run(\n",
    "    '''\n",
    "    MATCH (r:Reviews)-[a:ABOUT]->(b:Beers) \n",
    "    RETURN DISTINCT b.id, b.name, count(*) AS CountReviews \n",
    "    ORDER BY CountReviews DESC\n",
    "    ''').data()[0]['b.name']\n",
    "hw['2A']"
   ]
  },
  {
   "cell_type": "markdown",
   "metadata": {},
   "source": [
    "#### B: Which Brewery has the most reviews for its beers?"
   ]
  },
  {
   "cell_type": "code",
   "execution_count": 8,
   "metadata": {},
   "outputs": [
    {
     "data": {
      "text/plain": [
       "'Sierra Nevada Brewing Co.'"
      ]
     },
     "execution_count": 8,
     "metadata": {},
     "output_type": "execute_result"
    }
   ],
   "source": [
    "hw['2B']=graph.run(\n",
    "    '''\n",
    "    MATCH (r:Reviews)-[a:ABOUT]->(b:Beers)-[at:BREWED_AT]->(br:Breweries) \n",
    "    RETURN DISTINCT br.id, br.name, count(r) AS CountReviews \n",
    "    ORDER BY CountReviews DESC\n",
    "    ''').data()[0]['br.name']\n",
    "hw['2B']"
   ]
  },
  {
   "cell_type": "markdown",
   "metadata": {},
   "source": [
    "#### C: Which Country has the most reviews for its beers?"
   ]
  },
  {
   "cell_type": "code",
   "execution_count": 9,
   "metadata": {},
   "outputs": [
    {
     "data": {
      "text/plain": [
       "'US'"
      ]
     },
     "execution_count": 9,
     "metadata": {},
     "output_type": "execute_result"
    }
   ],
   "source": [
    "hw['2C']=graph.run(\n",
    "    '''\n",
    "    MATCH (r:Reviews)-[a:ABOUT]->(b:Beers)-[at:BREWED_AT]->(br:Breweries)-[f:FROM]->(c:Country)\n",
    "    RETURN c.country_digit as country, count(r) AS CountReviews \n",
    "    ORDER BY CountReviews DESC\n",
    "    ''').data()[0]['country']\n",
    "hw['2C']"
   ]
  },
  {
   "cell_type": "markdown",
   "metadata": {},
   "source": [
    "#### 3. Find the user/users that have the most shared reviews (reviews of the same beers) with the user CTJman?"
   ]
  },
  {
   "cell_type": "markdown",
   "metadata": {},
   "source": [
    "- 3.1 Getting the beers reviewed by user CTJman"
   ]
  },
  {
   "cell_type": "code",
   "execution_count": 10,
   "metadata": {},
   "outputs": [],
   "source": [
    "beer_CTJ=graph.run(\n",
    "    '''\n",
    "    MATCH (u:Username)-[m:MADE]->(r:Reviews)-[a:ABOUT]->(b:Beers)\n",
    "    WHERE u.user_name='CTJman'\n",
    "    RETURN DISTINCT b.id,b.name\n",
    "    ''').data()\n",
    "beer_CTJ=[i[list(i.keys())[0]] for i in beer_CTJ]"
   ]
  },
  {
   "cell_type": "markdown",
   "metadata": {},
   "source": [
    "- 3.2 Retrieve the list of User(s) with the most shared reviews from the beers on step 3.1"
   ]
  },
  {
   "cell_type": "code",
   "execution_count": 11,
   "metadata": {},
   "outputs": [
    {
     "data": {
      "text/plain": [
       "'acurtis'"
      ]
     },
     "execution_count": 11,
     "metadata": {},
     "output_type": "execute_result"
    }
   ],
   "source": [
    "hw['3']=graph.run(f'MATCH (u:Username)-[m:MADE]->(r:Reviews)-[a:ABOUT]->(b:Beers) WHERE u.user_name<>\"CTJman\" AND b.id IN {beer_CTJ} RETURN u.user_name AS name, count(r) AS CountReviews ORDER BY CountReviews DESC').data()[0]['name']\n",
    "hw['3']"
   ]
  },
  {
   "cell_type": "markdown",
   "metadata": {},
   "source": [
    "##### Below a simpler way to obtain the most shared reviews with the user CTJman"
   ]
  },
  {
   "cell_type": "code",
   "execution_count": 12,
   "metadata": {},
   "outputs": [
    {
     "data": {
      "text/plain": [
       "'acurtis'"
      ]
     },
     "execution_count": 12,
     "metadata": {},
     "output_type": "execute_result"
    }
   ],
   "source": [
    "hw['3']=graph.run(\n",
    "    '''\n",
    "    MATCH (u:Username)-[m:MADE]->(r:Reviews)-[a:ABOUT]->(b:Beers)<-[a1:ABOUT]-(r1:Reviews)<-[m1:MADE]-(u1:Username)\n",
    "    WHERE u.user_name=\"CTJman\" AND u1.user_name<>u.user_name\n",
    "    RETURN u1.user_name AS name, count(r1) AS CountReviews \n",
    "    ORDER BY CountReviews DESC\n",
    "    ''').data()[0]['name']\n",
    "hw['3']"
   ]
  },
  {
   "cell_type": "markdown",
   "metadata": {},
   "source": [
    "#### 4. Which Portuguese brewery has the most beers?"
   ]
  },
  {
   "cell_type": "code",
   "execution_count": 13,
   "metadata": {},
   "outputs": [
    {
     "data": {
      "text/plain": [
       "'Dois Corvos Cervejeira'"
      ]
     },
     "execution_count": 13,
     "metadata": {},
     "output_type": "execute_result"
    }
   ],
   "source": [
    "hw['4']=graph.run(\n",
    "    '''\n",
    "    MATCH (b:Beers)-[at:BREWED_AT]->(br:Breweries)-[f:FROM]->(c:Country)\n",
    "    WHERE c.country_digit = 'PT'\n",
    "    RETURN DISTINCT br.id, br.name, count(b) AS CountBeers \n",
    "    ORDER BY CountBeers DESC\n",
    "    ''').data()[0]['br.name']\n",
    "hw['4']"
   ]
  },
  {
   "cell_type": "markdown",
   "metadata": {},
   "source": [
    "#### 5. From those beers (the ones returned from the previous question), which has the most reviews?"
   ]
  },
  {
   "cell_type": "markdown",
   "metadata": {},
   "source": [
    "##### OPTION 1: Assumption that the beers from question 4 will be scanned throughout the whole set of countries & breweries\n",
    "\n",
    "- 5.1 Get the list of beer names from question 4"
   ]
  },
  {
   "cell_type": "code",
   "execution_count": 14,
   "metadata": {},
   "outputs": [],
   "source": [
    "beers=graph.run(f'MATCH (b:Beers)-[at:BREWED_AT]->(br:Breweries)-[f:FROM]->(c:Country) WHERE c.country_digit = \"PT\" AND br.name = \"{hw[\"4\"]}\" RETURN DISTINCT b.name').data()\n",
    "beers=[i[list(i.keys())[0]] for i in beers]"
   ]
  },
  {
   "cell_type": "markdown",
   "metadata": {},
   "source": [
    "- 5.2 Get the most reviewed beer by passing the list of beers as parameter"
   ]
  },
  {
   "cell_type": "code",
   "execution_count": 15,
   "metadata": {},
   "outputs": [
    {
     "data": {
      "text/plain": [
       "'Saison'"
      ]
     },
     "execution_count": 15,
     "metadata": {},
     "output_type": "execute_result"
    }
   ],
   "source": [
    "hw['5']=graph.run(f'MATCH (r:Reviews)-[a:ABOUT]->(b:Beers) WHERE b.name in {beers} RETURN b.name, count(r) as CountReviews ORDER BY CountReviews DESC').data()[0]['b.name']\n",
    "hw['5']"
   ]
  },
  {
   "cell_type": "markdown",
   "metadata": {},
   "source": [
    "##### OPTION 2: Below a simpler way to obtain the beer with the most number of reviews, some assumptions:\n",
    "- The analysis has to be straiten to the brewery: 'Dois Corvos Cervejaria' and country:'PT', otherwise the output from question 4 will be scanned throughtout the whole list of countries & breweries as those beers are being offered in different markets (breweries/countries) the output will be different\n",
    "\n",
    "##### OBS: We decided to keep this as our final answer, however we thought it could be interesting to point out another way to do the things in option 1"
   ]
  },
  {
   "cell_type": "code",
   "execution_count": 16,
   "metadata": {},
   "outputs": [
    {
     "data": {
      "text/plain": [
       "'Finisterra'"
      ]
     },
     "execution_count": 16,
     "metadata": {},
     "output_type": "execute_result"
    }
   ],
   "source": [
    "hw['5']=graph.run(f'MATCH (r:Reviews)-[a:ABOUT]->(b:Beers)-[at:BREWED_AT]->(br:Breweries)-[f:FROM]->(c:Country) WHERE c.country_digit = \"PT\" AND br.name = \"{hw[\"4\"]}\" RETURN b.name, count(r) AS CountReviews ORDER BY CountReviews DESC').data()[0]['b.name']\n",
    "hw['5']"
   ]
  },
  {
   "cell_type": "markdown",
   "metadata": {},
   "source": [
    "#### 6. On average how many different beer styles does each brewery produce?"
   ]
  },
  {
   "cell_type": "markdown",
   "metadata": {},
   "source": [
    "- With no ROUND the answer is: 10.595992516144603"
   ]
  },
  {
   "cell_type": "code",
   "execution_count": 17,
   "metadata": {},
   "outputs": [
    {
     "data": {
      "text/plain": [
       "10.595992516144603"
      ]
     },
     "execution_count": 17,
     "metadata": {},
     "output_type": "execute_result"
    }
   ],
   "source": [
    "graph.run(\n",
    "    '''\n",
    "    CALL {\n",
    "    MATCH (br:Breweries)<-[at:BREWED_AT]-(b:Beers)-[o:OF_TYPE]->(s:Style)\n",
    "    RETURN br.id, count(DISTINCT s.name) AS Count\n",
    "    }\n",
    "    RETURN  AVG(Count) AS AvgBeerStyles\n",
    "    ''').data()[0]['AvgBeerStyles']"
   ]
  },
  {
   "cell_type": "markdown",
   "metadata": {},
   "source": [
    "##### However we decided to apply a round on the average number of beer styles to cast into an integer instead of having a float as it could be more realistic due to the fact that we're referring to physical products"
   ]
  },
  {
   "cell_type": "code",
   "execution_count": 18,
   "metadata": {},
   "outputs": [
    {
     "data": {
      "text/plain": [
       "11.0"
      ]
     },
     "execution_count": 18,
     "metadata": {},
     "output_type": "execute_result"
    }
   ],
   "source": [
    "hw['6']=graph.run(\n",
    "    '''\n",
    "    CALL {\n",
    "    MATCH (br:Breweries)<-[at:BREWED_AT]-(b:Beers)-[o:OF_TYPE]->(s:Style)\n",
    "    RETURN br.id, count(DISTINCT s.name) AS Count\n",
    "    }\n",
    "    RETURN ROUND(AVG(Count)) AS AvgBeerStyles\n",
    "    ''').data()[0]['AvgBeerStyles']\n",
    "hw['6']"
   ]
  },
  {
   "cell_type": "markdown",
   "metadata": {},
   "source": [
    "#### 7. Which brewery produces the strongest beers according to ABV?"
   ]
  },
  {
   "cell_type": "markdown",
   "metadata": {},
   "source": [
    "- We relate the concept of strongest ABV as the highest ABV\n",
    "- Instead of using the highest ABV per brewery, we think it will be more realistic to find the average per brewery since a lot of breweries produce a wide array of beers having different ABV score\n",
    "- If we get the TOP1 with no average for the breweries many of them will have the same and this won't reflect the variety of the beers being produced by the breweries\n",
    "- Once we filter those beers (per brewery) we then average the ABV"
   ]
  },
  {
   "cell_type": "code",
   "execution_count": 19,
   "metadata": {},
   "outputs": [
    {
     "data": {
      "text/plain": [
       "'1648 Brewing Company Ltd'"
      ]
     },
     "execution_count": 19,
     "metadata": {},
     "output_type": "execute_result"
    }
   ],
   "source": [
    "hw['7']=graph.run(\n",
    "    '''\n",
    "    MATCH (b:Beers)-[at:BREWED_AT]->(br:Breweries)\n",
    "    WHERE b.abv <>'Unknown'\n",
    "    RETURN br.name, ROUND(AVG(tofloat(b.abv))) as AvgScoreABV \n",
    "    ORDER by AvgScoreABV DESC\n",
    "    ''').data()[0]['br.name']\n",
    "hw['7']"
   ]
  },
  {
   "cell_type": "markdown",
   "metadata": {},
   "source": [
    "#### 8. If I typically enjoy a beer due to its aroma and appearance, which beer style should I try?"
   ]
  },
  {
   "cell_type": "markdown",
   "metadata": {},
   "source": [
    "- In order to filter the list of beer styles we are using those with a higher average score for smell(aroma) and look(appearance)\n",
    "- We found that smell and look where having some Unknown values (string) which makes to cast into a float transformation as the field it should have this data type\n",
    "- The list was sorted in descending mode to finally get the Top 1"
   ]
  },
  {
   "cell_type": "code",
   "execution_count": 20,
   "metadata": {},
   "outputs": [
    {
     "data": {
      "text/plain": [
       "'English Oatmeal Stout'"
      ]
     },
     "execution_count": 20,
     "metadata": {},
     "output_type": "execute_result"
    }
   ],
   "source": [
    "hw['8']=graph.run(\n",
    "    '''\n",
    "    CALL {\n",
    "    MATCH (r:Reviews)-[a:ABOUT]->(b:Beers)-[o:OF_TYPE]->(s:Style)\n",
    "    WHERE r.smell<>'Unknown' AND r.look<>'Unknown'\n",
    "    RETURN DISTINCT b.name AS name, s.name AS style, tofloat(r.smell) AS aroma, tofloat(r.look) AS appearance\n",
    "    }\n",
    "    RETURN name,style,(aroma+appearance)/2 AS AvgScore \n",
    "    ORDER BY AvgScore DESC\n",
    "    ''').data()[0]['style']\n",
    "hw['8']"
   ]
  },
  {
   "cell_type": "markdown",
   "metadata": {},
   "source": [
    "#### 9. Using Graph Algorithms answer the questions:\n",
    "\n",
    "- Note: In case of a tie for the top entity, in terms of metrics outputed from the algorithms, simply output the first"
   ]
  },
  {
   "cell_type": "markdown",
   "metadata": {},
   "source": [
    "#### A. Which two Countries are most similiar when it comes to their top 10 most produced Beer styles?"
   ]
  },
  {
   "cell_type": "markdown",
   "metadata": {},
   "source": [
    "- We are using CYPHER PROJECTION to allow creating graphs from arbitrary query results, regardless of whether these map to actual identifiers in the Neo4j graph\n",
    "\n",
    "- Steps:\n",
    "    - 1: Check if the graph doesn't exist to perform the creation\n",
    "    - 2: Create the graph by passing:\n",
    "         - QueryNode: Retrieve the countries and styles IDs\n",
    "         - Relationship: \n",
    "             - Use COLLECT to get the Top10 most produced beer styles per Country\n",
    "             - Use UNWIND to explode each element of the list into rows\n",
    "             - RETURN the countries and Top10 most produced Beer Styles\n",
    "    - 3: Run nodeSimilarity to get the node(Country)"
   ]
  },
  {
   "cell_type": "code",
   "execution_count": 21,
   "metadata": {},
   "outputs": [],
   "source": [
    "if graph.run('CALL gds.graph.exists(\"group27-top10-country\")').data()[0]['exists']==False:\n",
    "    graph.run(\n",
    "    '''\n",
    "    CALL gds.graph.create.cypher(\n",
    "    'group27-top10-country',\n",
    "    'MATCH (c:Country) RETURN id(c) AS id UNION ALL MATCH (s:Style) RETURN DISTINCT id(s) AS id',\n",
    "    'MATCH (c:Country)<-[f:FROM]-(br:Breweries)<-[at:BREWED_AT]-(b:Beers)-[ot:OF_TYPE]->(s:Style) \n",
    "    WITH c AS country, s AS style, count(*) AS nbr ORDER BY nbr DESC WITH country, \n",
    "    COLLECT(style)[0..10] AS top10 UNWIND top10 AS b_top10 \n",
    "    RETURN DISTINCT id(country) AS source, id(b_top10) AS target')\n",
    "    ''').data()"
   ]
  },
  {
   "cell_type": "markdown",
   "metadata": {},
   "source": [
    "- Run nodeSimilarity to get the country node with the Top10 most produced Beer Styles\n",
    "- In order to avoid getting such an extense list we are getting the TOP 50 furthermore we applied COLLECT to "
   ]
  },
  {
   "cell_type": "code",
   "execution_count": 22,
   "metadata": {},
   "outputs": [
    {
     "name": "stdout",
     "output_type": "stream",
     "text": [
      "[{'Country1': 'AG', 'Country2': ['LS', 'SS', 'DM'], 'similarity': 1.0},\n",
      " {'Country1': 'AO',\n",
      "  'Country2': ['NE', 'ST', 'BF', 'SN', 'CF', 'YT', 'TJ', 'MO', 'SB', 'TD'],\n",
      "  'similarity': 1.0},\n",
      " {'Country1': 'BD',\n",
      "  'Country2': ['NE', 'BF', 'AO', 'SN', 'YT', 'TJ', 'MO', 'SB', 'ST', 'TD'],\n",
      "  'similarity': 1.0},\n",
      " {'Country1': 'BF',\n",
      "  'Country2': ['NE', 'ST', 'AO', 'SN', 'CF', 'YT', 'TJ', 'MO', 'SB', 'TD'],\n",
      "  'similarity': 1.0},\n",
      " {'Country1': 'BJ',\n",
      "  'Country2': ['NE', 'BF', 'AO', 'SN', 'YT', 'TJ', 'MO', 'SB', 'ST', 'TD'],\n",
      "  'similarity': 1.0},\n",
      " {'Country1': 'BW', 'Country2': ['LY', 'IR'], 'similarity': 1.0},\n",
      " {'Country1': 'CF',\n",
      "  'Country2': ['NE', 'BF', 'AO', 'SN', 'YT', 'TJ', 'MO', 'SB', 'ST', 'TD'],\n",
      "  'similarity': 1.0},\n",
      " {'Country1': 'CM', 'Country2': ['LR', 'RW'], 'similarity': 1.0},\n",
      " {'Country1': 'DM', 'Country2': ['LS', 'SS', 'AG'], 'similarity': 1.0},\n",
      " {'Country1': 'GA',\n",
      "  'Country2': ['NE', 'BF', 'AO', 'SN', 'YT', 'TJ', 'MO', 'SB', 'ST', 'TD'],\n",
      "  'similarity': 1.0},\n",
      " {'Country1': 'GN',\n",
      "  'Country2': ['NE', 'BF', 'AO', 'SN', 'YT', 'TJ', 'MO', 'SB', 'ST', 'TD'],\n",
      "  'similarity': 1.0},\n",
      " {'Country1': 'GQ',\n",
      "  'Country2': ['NE', 'BF', 'AO', 'SN', 'YT', 'TJ', 'MO', 'SB', 'ST', 'TD'],\n",
      "  'similarity': 1.0},\n",
      " {'Country1': 'GW',\n",
      "  'Country2': ['NE', 'BF', 'AO', 'SN', 'YT', 'TJ', 'MO', 'SB', 'ST', 'TD'],\n",
      "  'similarity': 1.0},\n",
      " {'Country1': 'IQ',\n",
      "  'Country2': ['NE', 'BF', 'AO', 'SN', 'YT', 'TJ', 'MO', 'SB', 'ST', 'TD'],\n",
      "  'similarity': 1.0},\n",
      " {'Country1': 'IR', 'Country2': ['LY', 'BW'], 'similarity': 1.0},\n",
      " {'Country1': 'LR', 'Country2': ['CM', 'RW'], 'similarity': 1.0},\n",
      " {'Country1': 'LS', 'Country2': ['DM', 'SS', 'AG'], 'similarity': 1.0},\n",
      " {'Country1': 'LY', 'Country2': ['BW', 'IR'], 'similarity': 1.0},\n",
      " {'Country1': 'MO',\n",
      "  'Country2': ['NE', 'BF', 'AO', 'SN', 'CF', 'YT', 'TJ', 'SB', 'ST', 'TD'],\n",
      "  'similarity': 1.0},\n",
      " {'Country1': 'NE',\n",
      "  'Country2': ['SN', 'ST', 'BF', 'AO', 'CF', 'YT', 'TJ', 'MO', 'SB', 'TD'],\n",
      "  'similarity': 1.0},\n",
      " {'Country1': 'RW', 'Country2': ['LR', 'CM'], 'similarity': 1.0},\n",
      " {'Country1': 'SB',\n",
      "  'Country2': ['NE', 'BF', 'AO', 'SN', 'CF', 'YT', 'TJ', 'MO', 'ST', 'TD'],\n",
      "  'similarity': 1.0},\n",
      " {'Country1': 'SN',\n",
      "  'Country2': ['NE', 'ST', 'BF', 'AO', 'CF', 'YT', 'TJ', 'MO', 'SB', 'TD'],\n",
      "  'similarity': 1.0},\n",
      " {'Country1': 'SS', 'Country2': ['DM', 'LS', 'AG'], 'similarity': 1.0},\n",
      " {'Country1': 'ST',\n",
      "  'Country2': ['NE', 'BF', 'AO', 'SN', 'CF', 'YT', 'TJ', 'MO', 'SB', 'TD'],\n",
      "  'similarity': 1.0},\n",
      " {'Country1': 'SY', 'Country2': ['ZM'], 'similarity': 1.0},\n",
      " {'Country1': 'TD',\n",
      "  'Country2': ['SN', 'ST', 'BF', 'AO', 'CF', 'YT', 'TJ', 'MO', 'SB', 'NE'],\n",
      "  'similarity': 1.0},\n",
      " {'Country1': 'TJ',\n",
      "  'Country2': ['NE', 'BF', 'AO', 'SN', 'CF', 'YT', 'MO', 'SB', 'ST', 'TD'],\n",
      "  'similarity': 1.0},\n",
      " {'Country1': 'YT',\n",
      "  'Country2': ['NE', 'BF', 'AO', 'SN', 'CF', 'TJ', 'MO', 'SB', 'ST', 'TD'],\n",
      "  'similarity': 1.0},\n",
      " {'Country1': 'ZM', 'Country2': ['SY'], 'similarity': 1.0},\n",
      " {'Country1': 'GH', 'Country2': ['SR'], 'similarity': 0.8},\n",
      " {'Country1': 'SR', 'Country2': ['GH'], 'similarity': 0.8},\n",
      " {'Country1': 'MY', 'Country2': ['NG'], 'similarity': 0.7142857142857143},\n",
      " {'Country1': 'NG', 'Country2': ['MY'], 'similarity': 0.7142857142857143},\n",
      " {'Country1': 'AU',\n",
      "  'Country2': ['ZA', 'CR', 'ES'],\n",
      "  'similarity': 0.6666666666666666},\n",
      " {'Country1': 'CA', 'Country2': ['US'], 'similarity': 0.6666666666666666},\n",
      " {'Country1': 'CM', 'Country2': ['TO'], 'similarity': 0.6666666666666666},\n",
      " {'Country1': 'CR', 'Country2': ['PH', 'AU'], 'similarity': 0.6666666666666666},\n",
      " {'Country1': 'DK', 'Country2': ['SE'], 'similarity': 0.6666666666666666},\n",
      " {'Country1': 'ES', 'Country2': ['AU'], 'similarity': 0.6666666666666666},\n",
      " {'Country1': 'GM', 'Country2': ['TO'], 'similarity': 0.6666666666666666},\n",
      " {'Country1': 'HU', 'Country2': ['RS'], 'similarity': 0.6666666666666666},\n",
      " {'Country1': 'KH', 'Country2': ['ZA'], 'similarity': 0.6666666666666666},\n",
      " {'Country1': 'LR', 'Country2': ['TO'], 'similarity': 0.6666666666666666},\n",
      " {'Country1': 'MA', 'Country2': ['PK'], 'similarity': 0.6666666666666666},\n",
      " {'Country1': 'MW', 'Country2': ['TM'], 'similarity': 0.6666666666666666},\n",
      " {'Country1': 'PH', 'Country2': ['CR'], 'similarity': 0.6666666666666666},\n",
      " {'Country1': 'PK', 'Country2': ['MA', 'WS'], 'similarity': 0.6666666666666666},\n",
      " {'Country1': 'PL', 'Country2': ['RU'], 'similarity': 0.6666666666666666},\n",
      " {'Country1': 'RS', 'Country2': ['HU'], 'similarity': 0.6666666666666666}]\n"
     ]
    }
   ],
   "source": [
    "hw['9A'] = graph.run(\n",
    "    '''\n",
    "    CALL gds.nodeSimilarity.stream('group27-top10-country')\n",
    "    YIELD node1, node2, similarity\n",
    "    RETURN gds.util.asNode(node1).country_digit AS Country1, COLLECT(gds.util.asNode(node2).country_digit)[..10] AS Country2, similarity\n",
    "    ORDER BY similarity DESCENDING, Country1, Country2 LIMIT 50\n",
    "    '''\n",
    ").data()\n",
    "pprint(hw['9A'])"
   ]
  },
  {
   "cell_type": "markdown",
   "metadata": {},
   "source": [
    "- As written on the aforementioned \"Note\" in case of a tie we must retrieve the first element, but as it's being requested 2 countries we are doing that"
   ]
  },
  {
   "cell_type": "code",
   "execution_count": 23,
   "metadata": {},
   "outputs": [
    {
     "data": {
      "text/plain": [
       "'AG,LS'"
      ]
     },
     "execution_count": 23,
     "metadata": {},
     "output_type": "execute_result"
    }
   ],
   "source": [
    "hw['9A']=hw['9A'][0]['Country1'] + ',' + hw['9A'][0]['Country2'][0]\n",
    "hw['9A']"
   ]
  },
  {
   "cell_type": "markdown",
   "metadata": {},
   "source": [
    "#### B. Which beer has the most similar reviews as the beer 'Super Bock Stout'?"
   ]
  },
  {
   "cell_type": "markdown",
   "metadata": {},
   "source": [
    "- Label Propagation for Community Detection in which the communities with the higher number of edges (reviews) from the source Beer (Super Bock Stout) could be considered \n",
    "as those more similar\n",
    "- Steps: \n",
    "    - 1: Check if the graph doesn't exist to perform the creation\n",
    "    - 2: Create the graph by passing:\n",
    "        - QueryNode: Retrieve the full list of beers\n",
    "        - Relationship: Filter and retrieves the reviews related to Super Bock Stout"
   ]
  },
  {
   "cell_type": "code",
   "execution_count": 24,
   "metadata": {},
   "outputs": [],
   "source": [
    "if graph.run('CALL gds.graph.exists(\"group27-beer-test3\")').data()[0]['exists']==False:\n",
    "    graph.run(\n",
    "    '''\n",
    "    CALL gds.graph.create.cypher('group27-beer-test3',\n",
    "    'MATCH (b:Beers) RETURN id(b) AS id',\n",
    "    'MATCH (b:Beers{name:\"Super Bock Stout\"})<-[:ABOUT]-(:Reviews)-[:ABOUT]->(c:Beers) RETURN id(b) AS source, id(c) AS target')\n",
    "    ''').data()"
   ]
  },
  {
   "cell_type": "markdown",
   "metadata": {},
   "source": [
    "- Run LabelPropagation"
   ]
  },
  {
   "cell_type": "code",
   "execution_count": 25,
   "metadata": {
    "tags": []
   },
   "outputs": [
    {
     "data": {
      "text/plain": [
       "'Joie De Vivre,Rumble Fish'"
      ]
     },
     "execution_count": 25,
     "metadata": {},
     "output_type": "execute_result"
    }
   ],
   "source": [
    "hw['9B']=graph.run(\n",
    "    '''\n",
    "    CALL gds.labelPropagation.stream('group27-beer-test3',{})\n",
    "    YIELD nodeId, communityId AS Community\n",
    "    RETURN gds.util.asNode(nodeId).name AS Name, Community\n",
    "    ORDER BY Community DESC, Name\n",
    "    LIMIT 2\n",
    "    ''').data()\n",
    "hw['9B']=chr(44).join(list(map(lambda i:i.get('Name'),hw['9B'])))\n",
    "hw['9B']"
   ]
  },
  {
   "cell_type": "markdown",
   "metadata": {},
   "source": [
    "#### C. Which user is the most influential when it comes to reviews made?"
   ]
  },
  {
   "cell_type": "markdown",
   "metadata": {},
   "source": [
    "- For answering this question, we believe that it should involve the user that has the higher impact with his reviews (p.e in this case it should represent the trustfulness of his review).\n",
    "- It was used PageRank to rank the reviews by score that would indicate the quality of the review"
   ]
  },
  {
   "cell_type": "code",
   "execution_count": 26,
   "metadata": {},
   "outputs": [],
   "source": [
    "if graph.run('CALL gds.graph.exists(\"group27-username-reviews\")').data()[0]['exists']==False:\n",
    "    graph.run(\n",
    "    '''\n",
    "    CALL gds.graph.create(\n",
    "    'group27-username-reviews',\n",
    "    ['Reviews','Username'],\n",
    "    {MADE: {orientation: 'REVERSE'}})\n",
    "    ''').data()"
   ]
  },
  {
   "cell_type": "markdown",
   "metadata": {},
   "source": [
    "- Run PageRank"
   ]
  },
  {
   "cell_type": "code",
   "execution_count": 27,
   "metadata": {},
   "outputs": [
    {
     "data": {
      "text/plain": [
       "'Sammy'"
      ]
     },
     "execution_count": 27,
     "metadata": {},
     "output_type": "execute_result"
    }
   ],
   "source": [
    "hw['9C']=graph.run(\n",
    "    '''\n",
    "    CALL gds.pageRank.stream('group27-username-reviews') YIELD nodeId, score\n",
    "    RETURN gds.util.asNode(nodeId).user_name AS username, score\n",
    "    ORDER BY score DESC LIMIT 1\n",
    "    ''').data()[0]['username']\n",
    "hw['9C']"
   ]
  },
  {
   "cell_type": "markdown",
   "metadata": {},
   "source": [
    "#### D. Which beer styles are more central when it comes the amount of beers?"
   ]
  },
  {
   "cell_type": "markdown",
   "metadata": {},
   "source": [
    "- Firstly create a projection for Beers and Styles since both variables are the ones getting analysed\n",
    "- Calculated which were the most central beer styles using metrics found on https://neo4j.com/docs/graph-data-science/current/algorithms/page-rank/\n",
    "- Finally getting the name of those styles that were ranking on the top of the stats"
   ]
  },
  {
   "cell_type": "code",
   "execution_count": 28,
   "metadata": {},
   "outputs": [],
   "source": [
    "#Create Native Projection\n",
    "if graph.run('CALL gds.graph.exists(\"group27-styles-beers\")').data()[0]['exists']==False:\n",
    "    graph.run(\n",
    "    '''\n",
    "    CALL gds.graph.create(\n",
    "    'group27-styles-beers',\n",
    "    ['Beers','Style'],\n",
    "    {OF_TYPE: {orientation: 'NATURAL'}})\n",
    "    ''')"
   ]
  },
  {
   "cell_type": "code",
   "execution_count": 29,
   "metadata": {},
   "outputs": [
    {
     "data": {
      "text/plain": [
       "[{'centralityDistribution.max': 5702.437499046326}]"
      ]
     },
     "execution_count": 29,
     "metadata": {},
     "output_type": "execute_result"
    }
   ],
   "source": [
    "#Getting the Centrality Distribution which will then be used as a way to compare the centrality from the first beer style \n",
    "graph.run(\n",
    "    '''\n",
    "    CALL gds.pageRank.stats('group27-styles-beers',{maxIterations: 20, dampingFactor: 0.85})\n",
    "    YIELD centralityDistribution\n",
    "    RETURN centralityDistribution.max\n",
    "    ''').data()"
   ]
  },
  {
   "cell_type": "code",
   "execution_count": 30,
   "metadata": {},
   "outputs": [
    {
     "name": "stdout",
     "output_type": "stream",
     "text": [
      "[{'beer_style': 'American IPA', 'score': 5702.417230224609}, {'beer_style': 'American Pale Ale (APA)', 'score': 2825.5490661621093}, {'beer_style': 'American Imperial IPA', 'score': 2338.292272949219}]\n"
     ]
    },
    {
     "data": {
      "text/plain": [
       "'American IPA'"
      ]
     },
     "execution_count": 30,
     "metadata": {},
     "output_type": "execute_result"
    }
   ],
   "source": [
    "hw['9D']=graph.run(\n",
    "    '''\n",
    "    CALL gds.pageRank.stream('group27-styles-beers') YIELD nodeId, score\n",
    "    RETURN gds.util.asNode(nodeId).name AS beer_style, score\n",
    "    ORDER BY score DESC LIMIT 3\n",
    "    ''').data()\n",
    "print(hw['9D'])\n",
    "#We are getting the most central TOP1\n",
    "hw['9D']=hw['9D'][0]['beer_style'] \n",
    "hw['9D']"
   ]
  },
  {
   "cell_type": "markdown",
   "metadata": {},
   "source": [
    "#### 10. If you had to pick 3 beers to recommend using only this database, which would you pick and why?"
   ]
  },
  {
   "cell_type": "markdown",
   "metadata": {},
   "source": [
    "- Using PageRank: To find the more influential beers as per its score (higher) on top of this we are basing our recommendation\n",
    "- We pondered this approach since it is the most general way (in this case, metric) to reach/satisfy possible differents profiles of customers without any previous experience on drinking those beers"
   ]
  },
  {
   "cell_type": "markdown",
   "metadata": {},
   "source": [
    "- Create Native Projection between Reviews & Beers "
   ]
  },
  {
   "cell_type": "code",
   "execution_count": 31,
   "metadata": {},
   "outputs": [],
   "source": [
    "#Create Native Projection\n",
    "if graph.run('CALL gds.graph.exists(\"group27-beer-recommend\")').data()[0]['exists']==False:\n",
    "    graph.run(\n",
    "        '''\n",
    "        CALL gds.graph.create(\n",
    "        'group27-beer-recommend',\n",
    "        ['Reviews','Beers'],\n",
    "        {ABOUT: {orientation: 'NATURAL'}})\n",
    "        ''').data()"
   ]
  },
  {
   "cell_type": "markdown",
   "metadata": {},
   "source": [
    "- Run PageRank to get the TOP3 most influential beers"
   ]
  },
  {
   "cell_type": "code",
   "execution_count": 32,
   "metadata": {},
   "outputs": [
    {
     "data": {
      "text/plain": [
       "'Breakfast Stout,90 Minute IPA,Pliny The Elder'"
      ]
     },
     "execution_count": 32,
     "metadata": {},
     "output_type": "execute_result"
    }
   ],
   "source": [
    "#Getting the top 3 by limiting the first 3 beers with the best score \n",
    "hw['10']=graph.run(\n",
    "    '''\n",
    "    CALL gds.pageRank.stream('group27-beer-recommend') YIELD nodeId, score\n",
    "    RETURN gds.util.asNode(nodeId).name AS beer, score\n",
    "    ORDER BY score DESC LIMIT 3\n",
    "    ''').data()\n",
    "hw['10']=chr(44).join(list(map(lambda i:i.get('beer'),hw['10'])))\n",
    "hw['10']"
   ]
  },
  {
   "cell_type": "markdown",
   "metadata": {},
   "source": [
    "#### Saving the results into Redis database \n",
    "- Steps\n",
    "    - Merging the answers from Question 2 (A,B,C)\n",
    "    - Merging the answers from Question 9 (A,B,C,D)\n",
    "    - Iterate and save the list of answers\n",
    "    \n",
    "##### OBS: We are using the '/' character to concatenate the sub-questions from 2 and 9 as it's being described on the guidelines that we might follow an standard by passing the number of the question and the answer"
   ]
  },
  {
   "cell_type": "code",
   "execution_count": 33,
   "metadata": {},
   "outputs": [
    {
     "name": "stdout",
     "output_type": "stream",
     "text": [
      "Question: 0 has been saved\n",
      "Question: 1 has been saved\n",
      "Question: 3 has been saved\n",
      "Question: 4 has been saved\n",
      "Question: 5 has been saved\n",
      "Question: 6 has been saved\n",
      "Question: 7 has been saved\n",
      "Question: 8 has been saved\n",
      "Question: 10 has been saved\n",
      "Question: 2 has been saved\n",
      "Question: 9 has been saved\n"
     ]
    }
   ],
   "source": [
    "#Firstly, we merge the sub-questions\n",
    "hw['2']=hw['2A']+' / '+hw['2B']+' / '+hw['2C']\n",
    "hw['9']=hw['9A']+' / '+hw['9B']+' / '+hw['9C']+' / '+hw['9D']\n",
    "#Then we set each question as a key value to be saved and later retrieved in redis\n",
    "for i,keys in enumerate(hw.keys()):\n",
    "    try:\n",
    "        if int(keys)>=0: \n",
    "            r.set(keys,hw.get(keys))\n",
    "            #just to make sure the operation has gone smoothly\n",
    "            print(f'Question: {keys} has been saved')\n",
    "    except ValueError:\n",
    "        pass"
   ]
  }
 ],
 "metadata": {
  "kernelspec": {
   "display_name": "Python 3",
   "language": "python",
   "name": "python3"
  },
  "language_info": {
   "codemirror_mode": {
    "name": "ipython",
    "version": 3
   },
   "file_extension": ".py",
   "mimetype": "text/x-python",
   "name": "python",
   "nbconvert_exporter": "python",
   "pygments_lexer": "ipython3",
   "version": "3.8.8"
  }
 },
 "nbformat": 4,
 "nbformat_minor": 4
}
