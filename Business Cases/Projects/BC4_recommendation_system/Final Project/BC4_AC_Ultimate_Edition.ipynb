{
 "cells": [
  {
   "cell_type": "markdown",
   "id": "ea668328",
   "metadata": {},
   "source": [
    "## General Context \n",
    "\n",
    "Recommender systems have become a very important part of the retail industries by providing decision-making support to its customers. Several studies such as Iyengar and Lepper (2000) have proved that when faced with easy choices, customers tend to buy more. Given the number of possible choices available, especially for online shopping, having some extra guidance on these choices can really make a difference and lead to an increase in sales. As an example, **35% of Amazon sales come from recommendations**. Moreover, recommender systems are a useful alternative to search algorithms since they help users discover items they might not have found otherwise.\n",
    "\n",
    "Recommender systems usually make use of either or both **collaborative filtering and content-based filtering**. Collaborative filtering approaches build a model from a **user's past behavior (items previously purchased or selected and/or numerical ratings given to those items)** as well as **similar decisions made by other users**. It relies solely on user/ item interaction data. In the opposite side, **content-based filtering relies** on **item attribute** data and it uses this kind of data to recommend items with **similar properties to the ones a user has liked** in the past. Modern recommender systems typically combine one or more approaches into a **hybrid system**."
   ]
  },
  {
   "cell_type": "markdown",
   "id": "66a2f0cd",
   "metadata": {},
   "source": [
    "## Business Situation \n",
    "\n",
    "ManyGiftsUK is a UK-based and registered non-store online retailer with some 80 members of staff. The company was established in 1981 mainly selling unique all-occasion gifts. For years in the past, the merchant relied heavily on direct mailing catalogues, and orders were taken over phone calls. It was only 2 years ago that the company launched its own web site and shifted completely to the web. Since then the company has maintained a steady and healthy number of customers from all parts of the United Kingdom and the world, and has accumulated a huge amount of data about many customers. The company also uses Amazon.co.uk to market and sell its products. \n",
    "\n",
    "With this new data the company expects to build a recommender system that is able to facilitate user choices by recommending items the user likes and improve user experience when making purchases on its website. A particular challenge is the **cold start problem - how can we suggest relevant items to new customers?**\n",
    "\n",
    "The customer transaction dataset held by the merchant has **8 variables** as shown below, and it contains all the transactions occurring **between 01/12/2010 and 09/12/2011**. Over that particular period, there were **25900 valid transactions** in total, associated with **4070 unique items and 4372 customers from 38 different countries**. The dataset has **541909 instances**, each for a **particular item contained** in a transaction. Also it is important to note that many of ManyGiftsUK customers are wholesalers."
   ]
  },
  {
   "cell_type": "markdown",
   "id": "9ae23192",
   "metadata": {},
   "source": [
    "## Metadata\n",
    "\n",
    "| Name                        | Meaning                                                                                                                                                        |\n",
    "|-----------------------------|----------------------------------------------------------------------------------------------------------------------------------------------------------------|\n",
    "| InvoiceNo                   | Invoice number. Nominal, a 6-digit integral number uniquely assigned to each transaction. If this code starts with letter 'c', it indicates a cancellation.    |\n",
    "| StockCode                   | Product (item) code. Nominal, a 5-digit integral number uniquely assigned to each distinct product.                                                            |\n",
    "| Description                 | Product (item) name. Nominal.                                                                                                                                  |\n",
    "| Quantity                    | The quantities of each product (item) per transaction. Numeric.                                                                                                |\n",
    "| InvoiceDate                 | Invoice Date and time. Numeric, the day and time when each transaction was generated.                                                                          |\n",
    "| UnitPrice                   | Unit price. Numeric, Product price per unit in pounds.                                                                                                         |\n",
    "| CustomerID                  | Customer number. Nominal, a 5-digit integral number uniquely assigned to each customer.                                                                        |\n",
    "| Country                     | Country name. Nominal, the name of the country where each customer resides.                                                                                    |"
   ]
  },
  {
   "cell_type": "code",
   "execution_count": null,
   "id": "757b9fc4",
   "metadata": {},
   "outputs": [],
   "source": [
    "## Expected Outcomes\n",
    "\n",
    "1. Explore the data and build models to answer the problems:\n",
    "    1. Recommender system: the website homepage offers a wide range of products the user might be interested on\n",
    "    2. Cold start: offer relevant products to new customers\n",
    "2. Implement adequate evaluation strategies and select an appropriate quality measure\n",
    "3. In the deployment phase, elaborate on the challenges and recommendations in implementing the recommender system"
   ]
  },
  {
   "cell_type": "markdown",
   "id": "d4ed0e61",
   "metadata": {},
   "source": [
    "## Importing Packages"
   ]
  },
  {
   "cell_type": "code",
   "execution_count": 1,
   "id": "10071aee",
   "metadata": {},
   "outputs": [],
   "source": [
    "#standard\n",
    "import os\n",
    "import pandas as pd\n",
    "from pandas.api.types import CategoricalDtype\n",
    "import numpy as np\n",
    "import matplotlib.pyplot as plt\n",
    "import plotly_express as px\n",
    "from math import ceil\n",
    "from itertools import combinations\n",
    "#scipy\n",
    "from scipy.sparse import coo_matrix\n",
    "import scipy.sparse as sparse\n",
    "from scipy.sparse.linalg import spsolve\n",
    "#ALS\n",
    "import implicit\n",
    "from implicit.als import AlternatingLeastSquares\n",
    "from implicit.evaluation import ranking_metrics_at_k\n",
    "from tqdm import tqdm\n",
    "import random\n",
    "#Sklearn for metrics and preprocessing\n",
    "from sklearn import metrics\n",
    "from sklearn.preprocessing import MinMaxScaler"
   ]
  },
  {
   "cell_type": "markdown",
   "id": "8d0099d5",
   "metadata": {},
   "source": [
    "# Data Exploration"
   ]
  },
  {
   "cell_type": "markdown",
   "id": "94b411d9",
   "metadata": {},
   "source": [
    "## Dataset Problem"
   ]
  },
  {
   "cell_type": "code",
   "execution_count": 2,
   "id": "bb7214e5",
   "metadata": {},
   "outputs": [
    {
     "data": {
      "text/html": [
       "<div>\n",
       "<style scoped>\n",
       "    .dataframe tbody tr th:only-of-type {\n",
       "        vertical-align: middle;\n",
       "    }\n",
       "\n",
       "    .dataframe tbody tr th {\n",
       "        vertical-align: top;\n",
       "    }\n",
       "\n",
       "    .dataframe thead th {\n",
       "        text-align: right;\n",
       "    }\n",
       "</style>\n",
       "<table border=\"1\" class=\"dataframe\">\n",
       "  <thead>\n",
       "    <tr style=\"text-align: right;\">\n",
       "      <th></th>\n",
       "      <th>InvoiceNo</th>\n",
       "      <th>StockCode</th>\n",
       "      <th>Description</th>\n",
       "      <th>Quantity</th>\n",
       "      <th>InvoiceDate</th>\n",
       "      <th>UnitPrice</th>\n",
       "      <th>CustomerID</th>\n",
       "      <th>Country</th>\n",
       "    </tr>\n",
       "  </thead>\n",
       "  <tbody>\n",
       "    <tr>\n",
       "      <th>0</th>\n",
       "      <td>536365</td>\n",
       "      <td>85123A</td>\n",
       "      <td>WHITE HANGING HEART T-LIGHT HOLDER</td>\n",
       "      <td>6</td>\n",
       "      <td>12/1/2010 8:26</td>\n",
       "      <td>2.55</td>\n",
       "      <td>17850.0</td>\n",
       "      <td>United Kingdom</td>\n",
       "    </tr>\n",
       "    <tr>\n",
       "      <th>1</th>\n",
       "      <td>536365</td>\n",
       "      <td>71053</td>\n",
       "      <td>WHITE METAL LANTERN</td>\n",
       "      <td>6</td>\n",
       "      <td>12/1/2010 8:26</td>\n",
       "      <td>3.39</td>\n",
       "      <td>17850.0</td>\n",
       "      <td>United Kingdom</td>\n",
       "    </tr>\n",
       "    <tr>\n",
       "      <th>2</th>\n",
       "      <td>536365</td>\n",
       "      <td>84406B</td>\n",
       "      <td>CREAM CUPID HEARTS COAT HANGER</td>\n",
       "      <td>8</td>\n",
       "      <td>12/1/2010 8:26</td>\n",
       "      <td>2.75</td>\n",
       "      <td>17850.0</td>\n",
       "      <td>United Kingdom</td>\n",
       "    </tr>\n",
       "    <tr>\n",
       "      <th>3</th>\n",
       "      <td>536365</td>\n",
       "      <td>84029G</td>\n",
       "      <td>KNITTED UNION FLAG HOT WATER BOTTLE</td>\n",
       "      <td>6</td>\n",
       "      <td>12/1/2010 8:26</td>\n",
       "      <td>3.39</td>\n",
       "      <td>17850.0</td>\n",
       "      <td>United Kingdom</td>\n",
       "    </tr>\n",
       "    <tr>\n",
       "      <th>4</th>\n",
       "      <td>536365</td>\n",
       "      <td>84029E</td>\n",
       "      <td>RED WOOLLY HOTTIE WHITE HEART.</td>\n",
       "      <td>6</td>\n",
       "      <td>12/1/2010 8:26</td>\n",
       "      <td>3.39</td>\n",
       "      <td>17850.0</td>\n",
       "      <td>United Kingdom</td>\n",
       "    </tr>\n",
       "    <tr>\n",
       "      <th>...</th>\n",
       "      <td>...</td>\n",
       "      <td>...</td>\n",
       "      <td>...</td>\n",
       "      <td>...</td>\n",
       "      <td>...</td>\n",
       "      <td>...</td>\n",
       "      <td>...</td>\n",
       "      <td>...</td>\n",
       "    </tr>\n",
       "    <tr>\n",
       "      <th>541904</th>\n",
       "      <td>581587</td>\n",
       "      <td>22613</td>\n",
       "      <td>PACK OF 20 SPACEBOY NAPKINS</td>\n",
       "      <td>12</td>\n",
       "      <td>12/9/2011 12:50</td>\n",
       "      <td>0.85</td>\n",
       "      <td>12680.0</td>\n",
       "      <td>France</td>\n",
       "    </tr>\n",
       "    <tr>\n",
       "      <th>541905</th>\n",
       "      <td>581587</td>\n",
       "      <td>22899</td>\n",
       "      <td>CHILDREN'S APRON DOLLY GIRL</td>\n",
       "      <td>6</td>\n",
       "      <td>12/9/2011 12:50</td>\n",
       "      <td>2.10</td>\n",
       "      <td>12680.0</td>\n",
       "      <td>France</td>\n",
       "    </tr>\n",
       "    <tr>\n",
       "      <th>541906</th>\n",
       "      <td>581587</td>\n",
       "      <td>23254</td>\n",
       "      <td>CHILDRENS CUTLERY DOLLY GIRL</td>\n",
       "      <td>4</td>\n",
       "      <td>12/9/2011 12:50</td>\n",
       "      <td>4.15</td>\n",
       "      <td>12680.0</td>\n",
       "      <td>France</td>\n",
       "    </tr>\n",
       "    <tr>\n",
       "      <th>541907</th>\n",
       "      <td>581587</td>\n",
       "      <td>23255</td>\n",
       "      <td>CHILDRENS CUTLERY CIRCUS PARADE</td>\n",
       "      <td>4</td>\n",
       "      <td>12/9/2011 12:50</td>\n",
       "      <td>4.15</td>\n",
       "      <td>12680.0</td>\n",
       "      <td>France</td>\n",
       "    </tr>\n",
       "    <tr>\n",
       "      <th>541908</th>\n",
       "      <td>581587</td>\n",
       "      <td>22138</td>\n",
       "      <td>BAKING SET 9 PIECE RETROSPOT</td>\n",
       "      <td>3</td>\n",
       "      <td>12/9/2011 12:50</td>\n",
       "      <td>4.95</td>\n",
       "      <td>12680.0</td>\n",
       "      <td>France</td>\n",
       "    </tr>\n",
       "  </tbody>\n",
       "</table>\n",
       "<p>541909 rows × 8 columns</p>\n",
       "</div>"
      ],
      "text/plain": [
       "       InvoiceNo StockCode                          Description  Quantity  \\\n",
       "0         536365    85123A   WHITE HANGING HEART T-LIGHT HOLDER         6   \n",
       "1         536365     71053                  WHITE METAL LANTERN         6   \n",
       "2         536365    84406B       CREAM CUPID HEARTS COAT HANGER         8   \n",
       "3         536365    84029G  KNITTED UNION FLAG HOT WATER BOTTLE         6   \n",
       "4         536365    84029E       RED WOOLLY HOTTIE WHITE HEART.         6   \n",
       "...          ...       ...                                  ...       ...   \n",
       "541904    581587     22613          PACK OF 20 SPACEBOY NAPKINS        12   \n",
       "541905    581587     22899         CHILDREN'S APRON DOLLY GIRL          6   \n",
       "541906    581587     23254        CHILDRENS CUTLERY DOLLY GIRL          4   \n",
       "541907    581587     23255      CHILDRENS CUTLERY CIRCUS PARADE         4   \n",
       "541908    581587     22138        BAKING SET 9 PIECE RETROSPOT          3   \n",
       "\n",
       "            InvoiceDate  UnitPrice  CustomerID         Country  \n",
       "0        12/1/2010 8:26       2.55     17850.0  United Kingdom  \n",
       "1        12/1/2010 8:26       3.39     17850.0  United Kingdom  \n",
       "2        12/1/2010 8:26       2.75     17850.0  United Kingdom  \n",
       "3        12/1/2010 8:26       3.39     17850.0  United Kingdom  \n",
       "4        12/1/2010 8:26       3.39     17850.0  United Kingdom  \n",
       "...                 ...        ...         ...             ...  \n",
       "541904  12/9/2011 12:50       0.85     12680.0          France  \n",
       "541905  12/9/2011 12:50       2.10     12680.0          France  \n",
       "541906  12/9/2011 12:50       4.15     12680.0          France  \n",
       "541907  12/9/2011 12:50       4.15     12680.0          France  \n",
       "541908  12/9/2011 12:50       4.95     12680.0          France  \n",
       "\n",
       "[541909 rows x 8 columns]"
      ]
     },
     "execution_count": 2,
     "metadata": {},
     "output_type": "execute_result"
    }
   ],
   "source": [
    "retail = pd.read_csv('retail.csv')\n",
    "#retail[['day', 'time']] = retail['InvoiceDate'].str.split(' ', 1, expand=True)\n",
    "retail"
   ]
  },
  {
   "cell_type": "code",
   "execution_count": 3,
   "id": "76a282c9",
   "metadata": {
    "scrolled": false
   },
   "outputs": [
    {
     "data": {
      "text/html": [
       "<div>\n",
       "<style scoped>\n",
       "    .dataframe tbody tr th:only-of-type {\n",
       "        vertical-align: middle;\n",
       "    }\n",
       "\n",
       "    .dataframe tbody tr th {\n",
       "        vertical-align: top;\n",
       "    }\n",
       "\n",
       "    .dataframe thead th {\n",
       "        text-align: right;\n",
       "    }\n",
       "</style>\n",
       "<table border=\"1\" class=\"dataframe\">\n",
       "  <thead>\n",
       "    <tr style=\"text-align: right;\">\n",
       "      <th></th>\n",
       "      <th>InvoiceNo</th>\n",
       "      <th>StockCode</th>\n",
       "      <th>Description</th>\n",
       "      <th>Quantity</th>\n",
       "      <th>InvoiceDate</th>\n",
       "      <th>UnitPrice</th>\n",
       "      <th>CustomerID</th>\n",
       "      <th>Country</th>\n",
       "    </tr>\n",
       "  </thead>\n",
       "  <tbody>\n",
       "    <tr>\n",
       "      <th>0</th>\n",
       "      <td>536365</td>\n",
       "      <td>85123A</td>\n",
       "      <td>WHITE HANGING HEART T-LIGHT HOLDER</td>\n",
       "      <td>6</td>\n",
       "      <td>12/1/2010 8:26</td>\n",
       "      <td>2.55</td>\n",
       "      <td>17850.0</td>\n",
       "      <td>United Kingdom</td>\n",
       "    </tr>\n",
       "    <tr>\n",
       "      <th>1</th>\n",
       "      <td>536365</td>\n",
       "      <td>71053</td>\n",
       "      <td>WHITE METAL LANTERN</td>\n",
       "      <td>6</td>\n",
       "      <td>12/1/2010 8:26</td>\n",
       "      <td>3.39</td>\n",
       "      <td>17850.0</td>\n",
       "      <td>United Kingdom</td>\n",
       "    </tr>\n",
       "    <tr>\n",
       "      <th>2</th>\n",
       "      <td>536365</td>\n",
       "      <td>84406B</td>\n",
       "      <td>CREAM CUPID HEARTS COAT HANGER</td>\n",
       "      <td>8</td>\n",
       "      <td>12/1/2010 8:26</td>\n",
       "      <td>2.75</td>\n",
       "      <td>17850.0</td>\n",
       "      <td>United Kingdom</td>\n",
       "    </tr>\n",
       "    <tr>\n",
       "      <th>3</th>\n",
       "      <td>536365</td>\n",
       "      <td>84029G</td>\n",
       "      <td>KNITTED UNION FLAG HOT WATER BOTTLE</td>\n",
       "      <td>6</td>\n",
       "      <td>12/1/2010 8:26</td>\n",
       "      <td>3.39</td>\n",
       "      <td>17850.0</td>\n",
       "      <td>United Kingdom</td>\n",
       "    </tr>\n",
       "    <tr>\n",
       "      <th>4</th>\n",
       "      <td>536365</td>\n",
       "      <td>84029E</td>\n",
       "      <td>RED WOOLLY HOTTIE WHITE HEART.</td>\n",
       "      <td>6</td>\n",
       "      <td>12/1/2010 8:26</td>\n",
       "      <td>3.39</td>\n",
       "      <td>17850.0</td>\n",
       "      <td>United Kingdom</td>\n",
       "    </tr>\n",
       "    <tr>\n",
       "      <th>...</th>\n",
       "      <td>...</td>\n",
       "      <td>...</td>\n",
       "      <td>...</td>\n",
       "      <td>...</td>\n",
       "      <td>...</td>\n",
       "      <td>...</td>\n",
       "      <td>...</td>\n",
       "      <td>...</td>\n",
       "    </tr>\n",
       "    <tr>\n",
       "      <th>541904</th>\n",
       "      <td>581587</td>\n",
       "      <td>22613</td>\n",
       "      <td>PACK OF 20 SPACEBOY NAPKINS</td>\n",
       "      <td>12</td>\n",
       "      <td>12/9/2011 12:50</td>\n",
       "      <td>0.85</td>\n",
       "      <td>12680.0</td>\n",
       "      <td>France</td>\n",
       "    </tr>\n",
       "    <tr>\n",
       "      <th>541905</th>\n",
       "      <td>581587</td>\n",
       "      <td>22899</td>\n",
       "      <td>CHILDREN'S APRON DOLLY GIRL</td>\n",
       "      <td>6</td>\n",
       "      <td>12/9/2011 12:50</td>\n",
       "      <td>2.10</td>\n",
       "      <td>12680.0</td>\n",
       "      <td>France</td>\n",
       "    </tr>\n",
       "    <tr>\n",
       "      <th>541906</th>\n",
       "      <td>581587</td>\n",
       "      <td>23254</td>\n",
       "      <td>CHILDRENS CUTLERY DOLLY GIRL</td>\n",
       "      <td>4</td>\n",
       "      <td>12/9/2011 12:50</td>\n",
       "      <td>4.15</td>\n",
       "      <td>12680.0</td>\n",
       "      <td>France</td>\n",
       "    </tr>\n",
       "    <tr>\n",
       "      <th>541907</th>\n",
       "      <td>581587</td>\n",
       "      <td>23255</td>\n",
       "      <td>CHILDRENS CUTLERY CIRCUS PARADE</td>\n",
       "      <td>4</td>\n",
       "      <td>12/9/2011 12:50</td>\n",
       "      <td>4.15</td>\n",
       "      <td>12680.0</td>\n",
       "      <td>France</td>\n",
       "    </tr>\n",
       "    <tr>\n",
       "      <th>541908</th>\n",
       "      <td>581587</td>\n",
       "      <td>22138</td>\n",
       "      <td>BAKING SET 9 PIECE RETROSPOT</td>\n",
       "      <td>3</td>\n",
       "      <td>12/9/2011 12:50</td>\n",
       "      <td>4.95</td>\n",
       "      <td>12680.0</td>\n",
       "      <td>France</td>\n",
       "    </tr>\n",
       "  </tbody>\n",
       "</table>\n",
       "<p>541909 rows × 8 columns</p>\n",
       "</div>"
      ],
      "text/plain": [
       "       InvoiceNo StockCode                          Description  Quantity  \\\n",
       "0         536365    85123A   WHITE HANGING HEART T-LIGHT HOLDER         6   \n",
       "1         536365     71053                  WHITE METAL LANTERN         6   \n",
       "2         536365    84406B       CREAM CUPID HEARTS COAT HANGER         8   \n",
       "3         536365    84029G  KNITTED UNION FLAG HOT WATER BOTTLE         6   \n",
       "4         536365    84029E       RED WOOLLY HOTTIE WHITE HEART.         6   \n",
       "...          ...       ...                                  ...       ...   \n",
       "541904    581587     22613          PACK OF 20 SPACEBOY NAPKINS        12   \n",
       "541905    581587     22899         CHILDREN'S APRON DOLLY GIRL          6   \n",
       "541906    581587     23254        CHILDRENS CUTLERY DOLLY GIRL          4   \n",
       "541907    581587     23255      CHILDRENS CUTLERY CIRCUS PARADE         4   \n",
       "541908    581587     22138        BAKING SET 9 PIECE RETROSPOT          3   \n",
       "\n",
       "            InvoiceDate  UnitPrice  CustomerID         Country  \n",
       "0        12/1/2010 8:26       2.55     17850.0  United Kingdom  \n",
       "1        12/1/2010 8:26       3.39     17850.0  United Kingdom  \n",
       "2        12/1/2010 8:26       2.75     17850.0  United Kingdom  \n",
       "3        12/1/2010 8:26       3.39     17850.0  United Kingdom  \n",
       "4        12/1/2010 8:26       3.39     17850.0  United Kingdom  \n",
       "...                 ...        ...         ...             ...  \n",
       "541904  12/9/2011 12:50       0.85     12680.0          France  \n",
       "541905  12/9/2011 12:50       2.10     12680.0          France  \n",
       "541906  12/9/2011 12:50       4.15     12680.0          France  \n",
       "541907  12/9/2011 12:50       4.15     12680.0          France  \n",
       "541908  12/9/2011 12:50       4.95     12680.0          France  \n",
       "\n",
       "[541909 rows x 8 columns]"
      ]
     },
     "execution_count": 3,
     "metadata": {},
     "output_type": "execute_result"
    }
   ],
   "source": [
    "retail"
   ]
  },
  {
   "cell_type": "markdown",
   "id": "4e081947",
   "metadata": {},
   "source": [
    "Since:\n",
    "- Records that have a CustomerID null correspond to customers that don't have a user account. That said, every customer that doesn't have a user account should be treated, in terms of recommendations, as a new user because we don't have any history of them;\n",
    "- Records with negative Quantity value are associated with cancellations i.e. records with InvoiceNo starting with \"C\";\n",
    "- Records with non-positive UnitPrice value might occur for several reasons (e.g. offer; refund, etc.). The Description of   the record might contain some information regarding the reason for this event.\n",
    "\n",
    "Then it doesn't make sense to have incorporate products that didn't were chosen by others customers, following a perspective from a user point of view since those products didn't satisfied others clients or even got assigned as\n",
    "bad manufacture. Following this thought process, it was decided to exclude them since they can bias customers to buy products inadequates to fullfil their expectations/preferences"
   ]
  },
  {
   "cell_type": "code",
   "execution_count": 4,
   "id": "e715e89a",
   "metadata": {},
   "outputs": [],
   "source": [
    "df = retail[(retail.Quantity > 0) & (retail.UnitPrice > 0)]"
   ]
  },
  {
   "cell_type": "code",
   "execution_count": 5,
   "id": "5a0994fc",
   "metadata": {},
   "outputs": [],
   "source": [
    "new_users = df.loc[pd.isnull(retail.CustomerID) == True]\n",
    "retail_active = df.loc[pd.isnull(retail.CustomerID) == False]\n",
    "refund_cancel = retail[(retail.Quantity < 0) | (retail.UnitPrice < 0)]"
   ]
  },
  {
   "cell_type": "markdown",
   "id": "7caf099c",
   "metadata": {},
   "source": [
    "### Cancel or Refund Orders Exploration"
   ]
  },
  {
   "cell_type": "code",
   "execution_count": 6,
   "id": "c496959a",
   "metadata": {},
   "outputs": [
    {
     "name": "stdout",
     "output_type": "stream",
     "text": [
      " There were 5174 cancelled orders from  30 countries, relative to  2560 items!\n"
     ]
    }
   ],
   "source": [
    "print(\" There were\", len(refund_cancel.InvoiceNo.unique()), \"cancelled orders from \" , len(refund_cancel.Country.unique()), \"countries, relative to \",len(refund_cancel.StockCode.unique()), \"items!\")"
   ]
  },
  {
   "cell_type": "code",
   "execution_count": 7,
   "id": "a88ed314",
   "metadata": {},
   "outputs": [
    {
     "name": "stderr",
     "output_type": "stream",
     "text": [
      "C:\\Users\\olobo\\anaconda3\\envs\\Main Environment\\lib\\site-packages\\pandas\\core\\generic.py:5494: SettingWithCopyWarning: \n",
      "A value is trying to be set on a copy of a slice from a DataFrame.\n",
      "Try using .loc[row_indexer,col_indexer] = value instead\n",
      "\n",
      "See the caveats in the documentation: https://pandas.pydata.org/pandas-docs/stable/user_guide/indexing.html#returning-a-view-versus-a-copy\n",
      "  self[name] = value\n"
     ]
    },
    {
     "data": {
      "text/html": [
       "<div>\n",
       "<style scoped>\n",
       "    .dataframe tbody tr th:only-of-type {\n",
       "        vertical-align: middle;\n",
       "    }\n",
       "\n",
       "    .dataframe tbody tr th {\n",
       "        vertical-align: top;\n",
       "    }\n",
       "\n",
       "    .dataframe thead th {\n",
       "        text-align: right;\n",
       "    }\n",
       "</style>\n",
       "<table border=\"1\" class=\"dataframe\">\n",
       "  <thead>\n",
       "    <tr style=\"text-align: right;\">\n",
       "      <th></th>\n",
       "      <th>Description</th>\n",
       "      <th>Country</th>\n",
       "      <th>Quantity</th>\n",
       "    </tr>\n",
       "  </thead>\n",
       "  <tbody>\n",
       "    <tr>\n",
       "      <th>1699</th>\n",
       "      <td>PAPER CRAFT , LITTLE BIRDIE</td>\n",
       "      <td>United Kingdom</td>\n",
       "      <td>80995</td>\n",
       "    </tr>\n",
       "    <tr>\n",
       "      <th>1465</th>\n",
       "      <td>MEDIUM CERAMIC TOP STORAGE JAR</td>\n",
       "      <td>United Kingdom</td>\n",
       "      <td>74467</td>\n",
       "    </tr>\n",
       "    <tr>\n",
       "      <th>2953</th>\n",
       "      <td>printing smudges/thrown away</td>\n",
       "      <td>United Kingdom</td>\n",
       "      <td>19200</td>\n",
       "    </tr>\n",
       "    <tr>\n",
       "      <th>2675</th>\n",
       "      <td>Unsaleable, destroyed.</td>\n",
       "      <td>United Kingdom</td>\n",
       "      <td>15644</td>\n",
       "    </tr>\n",
       "    <tr>\n",
       "      <th>2914</th>\n",
       "      <td>check</td>\n",
       "      <td>United Kingdom</td>\n",
       "      <td>13247</td>\n",
       "    </tr>\n",
       "    <tr>\n",
       "      <th>102</th>\n",
       "      <td>?</td>\n",
       "      <td>United Kingdom</td>\n",
       "      <td>9496</td>\n",
       "    </tr>\n",
       "    <tr>\n",
       "      <th>2152</th>\n",
       "      <td>ROTATING SILVER ANGELS T-LIGHT HLDR</td>\n",
       "      <td>United Kingdom</td>\n",
       "      <td>9370</td>\n",
       "    </tr>\n",
       "    <tr>\n",
       "      <th>1897</th>\n",
       "      <td>Printing smudges/thrown away</td>\n",
       "      <td>United Kingdom</td>\n",
       "      <td>9058</td>\n",
       "    </tr>\n",
       "    <tr>\n",
       "      <th>794</th>\n",
       "      <td>Damaged</td>\n",
       "      <td>United Kingdom</td>\n",
       "      <td>7540</td>\n",
       "    </tr>\n",
       "    <tr>\n",
       "      <th>2977</th>\n",
       "      <td>throw away</td>\n",
       "      <td>United Kingdom</td>\n",
       "      <td>5368</td>\n",
       "    </tr>\n",
       "  </tbody>\n",
       "</table>\n",
       "</div>"
      ],
      "text/plain": [
       "                              Description         Country  Quantity\n",
       "1699          PAPER CRAFT , LITTLE BIRDIE  United Kingdom     80995\n",
       "1465       MEDIUM CERAMIC TOP STORAGE JAR  United Kingdom     74467\n",
       "2953         printing smudges/thrown away  United Kingdom     19200\n",
       "2675               Unsaleable, destroyed.  United Kingdom     15644\n",
       "2914                                check  United Kingdom     13247\n",
       "102                                     ?  United Kingdom      9496\n",
       "2152  ROTATING SILVER ANGELS T-LIGHT HLDR  United Kingdom      9370\n",
       "1897         Printing smudges/thrown away  United Kingdom      9058\n",
       "794                               Damaged  United Kingdom      7540\n",
       "2977                           throw away  United Kingdom      5368"
      ]
     },
     "execution_count": 7,
     "metadata": {},
     "output_type": "execute_result"
    }
   ],
   "source": [
    "refund_cancel.Quantity = abs(refund_cancel.Quantity)\n",
    "most_cancel_items = refund_cancel.groupby(['Description','Country']).agg({'Quantity':['sum']}).reset_index()\n",
    "most_cancel_items.columns = ['Description','Country', 'Quantity']\n",
    "most_cancel_items.sort_values(by='Quantity', ascending=False).head(10)"
   ]
  },
  {
   "cell_type": "markdown",
   "id": "4087c073",
   "metadata": {},
   "source": [
    "### New Users Exploration"
   ]
  },
  {
   "cell_type": "code",
   "execution_count": 8,
   "id": "8419172d",
   "metadata": {},
   "outputs": [
    {
     "data": {
      "text/html": [
       "<div>\n",
       "<style scoped>\n",
       "    .dataframe tbody tr th:only-of-type {\n",
       "        vertical-align: middle;\n",
       "    }\n",
       "\n",
       "    .dataframe tbody tr th {\n",
       "        vertical-align: top;\n",
       "    }\n",
       "\n",
       "    .dataframe thead th {\n",
       "        text-align: right;\n",
       "    }\n",
       "</style>\n",
       "<table border=\"1\" class=\"dataframe\">\n",
       "  <thead>\n",
       "    <tr style=\"text-align: right;\">\n",
       "      <th></th>\n",
       "      <th>InvoiceNo</th>\n",
       "      <th>StockCode</th>\n",
       "      <th>Description</th>\n",
       "      <th>Quantity</th>\n",
       "      <th>InvoiceDate</th>\n",
       "      <th>UnitPrice</th>\n",
       "      <th>CustomerID</th>\n",
       "      <th>Country</th>\n",
       "    </tr>\n",
       "  </thead>\n",
       "  <tbody>\n",
       "    <tr>\n",
       "      <th>1443</th>\n",
       "      <td>536544</td>\n",
       "      <td>21773</td>\n",
       "      <td>DECORATIVE ROSE BATHROOM BOTTLE</td>\n",
       "      <td>1</td>\n",
       "      <td>12/1/2010 14:32</td>\n",
       "      <td>2.51</td>\n",
       "      <td>NaN</td>\n",
       "      <td>United Kingdom</td>\n",
       "    </tr>\n",
       "    <tr>\n",
       "      <th>1444</th>\n",
       "      <td>536544</td>\n",
       "      <td>21774</td>\n",
       "      <td>DECORATIVE CATS BATHROOM BOTTLE</td>\n",
       "      <td>2</td>\n",
       "      <td>12/1/2010 14:32</td>\n",
       "      <td>2.51</td>\n",
       "      <td>NaN</td>\n",
       "      <td>United Kingdom</td>\n",
       "    </tr>\n",
       "    <tr>\n",
       "      <th>1445</th>\n",
       "      <td>536544</td>\n",
       "      <td>21786</td>\n",
       "      <td>POLKADOT RAIN HAT</td>\n",
       "      <td>4</td>\n",
       "      <td>12/1/2010 14:32</td>\n",
       "      <td>0.85</td>\n",
       "      <td>NaN</td>\n",
       "      <td>United Kingdom</td>\n",
       "    </tr>\n",
       "    <tr>\n",
       "      <th>1446</th>\n",
       "      <td>536544</td>\n",
       "      <td>21787</td>\n",
       "      <td>RAIN PONCHO RETROSPOT</td>\n",
       "      <td>2</td>\n",
       "      <td>12/1/2010 14:32</td>\n",
       "      <td>1.66</td>\n",
       "      <td>NaN</td>\n",
       "      <td>United Kingdom</td>\n",
       "    </tr>\n",
       "    <tr>\n",
       "      <th>1447</th>\n",
       "      <td>536544</td>\n",
       "      <td>21790</td>\n",
       "      <td>VINTAGE SNAP CARDS</td>\n",
       "      <td>9</td>\n",
       "      <td>12/1/2010 14:32</td>\n",
       "      <td>1.66</td>\n",
       "      <td>NaN</td>\n",
       "      <td>United Kingdom</td>\n",
       "    </tr>\n",
       "    <tr>\n",
       "      <th>...</th>\n",
       "      <td>...</td>\n",
       "      <td>...</td>\n",
       "      <td>...</td>\n",
       "      <td>...</td>\n",
       "      <td>...</td>\n",
       "      <td>...</td>\n",
       "      <td>...</td>\n",
       "      <td>...</td>\n",
       "    </tr>\n",
       "    <tr>\n",
       "      <th>541536</th>\n",
       "      <td>581498</td>\n",
       "      <td>85099B</td>\n",
       "      <td>JUMBO BAG RED RETROSPOT</td>\n",
       "      <td>5</td>\n",
       "      <td>12/9/2011 10:26</td>\n",
       "      <td>4.13</td>\n",
       "      <td>NaN</td>\n",
       "      <td>United Kingdom</td>\n",
       "    </tr>\n",
       "    <tr>\n",
       "      <th>541537</th>\n",
       "      <td>581498</td>\n",
       "      <td>85099C</td>\n",
       "      <td>JUMBO  BAG BAROQUE BLACK WHITE</td>\n",
       "      <td>4</td>\n",
       "      <td>12/9/2011 10:26</td>\n",
       "      <td>4.13</td>\n",
       "      <td>NaN</td>\n",
       "      <td>United Kingdom</td>\n",
       "    </tr>\n",
       "    <tr>\n",
       "      <th>541538</th>\n",
       "      <td>581498</td>\n",
       "      <td>85150</td>\n",
       "      <td>LADIES &amp; GENTLEMEN METAL SIGN</td>\n",
       "      <td>1</td>\n",
       "      <td>12/9/2011 10:26</td>\n",
       "      <td>4.96</td>\n",
       "      <td>NaN</td>\n",
       "      <td>United Kingdom</td>\n",
       "    </tr>\n",
       "    <tr>\n",
       "      <th>541539</th>\n",
       "      <td>581498</td>\n",
       "      <td>85174</td>\n",
       "      <td>S/4 CACTI CANDLES</td>\n",
       "      <td>1</td>\n",
       "      <td>12/9/2011 10:26</td>\n",
       "      <td>10.79</td>\n",
       "      <td>NaN</td>\n",
       "      <td>United Kingdom</td>\n",
       "    </tr>\n",
       "    <tr>\n",
       "      <th>541540</th>\n",
       "      <td>581498</td>\n",
       "      <td>DOT</td>\n",
       "      <td>DOTCOM POSTAGE</td>\n",
       "      <td>1</td>\n",
       "      <td>12/9/2011 10:26</td>\n",
       "      <td>1714.17</td>\n",
       "      <td>NaN</td>\n",
       "      <td>United Kingdom</td>\n",
       "    </tr>\n",
       "  </tbody>\n",
       "</table>\n",
       "<p>132220 rows × 8 columns</p>\n",
       "</div>"
      ],
      "text/plain": [
       "       InvoiceNo StockCode                      Description  Quantity  \\\n",
       "1443      536544     21773  DECORATIVE ROSE BATHROOM BOTTLE         1   \n",
       "1444      536544     21774  DECORATIVE CATS BATHROOM BOTTLE         2   \n",
       "1445      536544     21786               POLKADOT RAIN HAT          4   \n",
       "1446      536544     21787            RAIN PONCHO RETROSPOT         2   \n",
       "1447      536544     21790               VINTAGE SNAP CARDS         9   \n",
       "...          ...       ...                              ...       ...   \n",
       "541536    581498    85099B          JUMBO BAG RED RETROSPOT         5   \n",
       "541537    581498    85099C   JUMBO  BAG BAROQUE BLACK WHITE         4   \n",
       "541538    581498     85150    LADIES & GENTLEMEN METAL SIGN         1   \n",
       "541539    581498     85174                S/4 CACTI CANDLES         1   \n",
       "541540    581498       DOT                   DOTCOM POSTAGE         1   \n",
       "\n",
       "            InvoiceDate  UnitPrice  CustomerID         Country  \n",
       "1443    12/1/2010 14:32       2.51         NaN  United Kingdom  \n",
       "1444    12/1/2010 14:32       2.51         NaN  United Kingdom  \n",
       "1445    12/1/2010 14:32       0.85         NaN  United Kingdom  \n",
       "1446    12/1/2010 14:32       1.66         NaN  United Kingdom  \n",
       "1447    12/1/2010 14:32       1.66         NaN  United Kingdom  \n",
       "...                 ...        ...         ...             ...  \n",
       "541536  12/9/2011 10:26       4.13         NaN  United Kingdom  \n",
       "541537  12/9/2011 10:26       4.13         NaN  United Kingdom  \n",
       "541538  12/9/2011 10:26       4.96         NaN  United Kingdom  \n",
       "541539  12/9/2011 10:26      10.79         NaN  United Kingdom  \n",
       "541540  12/9/2011 10:26    1714.17         NaN  United Kingdom  \n",
       "\n",
       "[132220 rows x 8 columns]"
      ]
     },
     "execution_count": 8,
     "metadata": {},
     "output_type": "execute_result"
    }
   ],
   "source": [
    "new_users"
   ]
  },
  {
   "cell_type": "code",
   "execution_count": 9,
   "id": "b1ebd63e",
   "metadata": {},
   "outputs": [
    {
     "name": "stdout",
     "output_type": "stream",
     "text": [
      " There were 1428  invoices from new users from  9 countries, relative to  3408 items!\n"
     ]
    }
   ],
   "source": [
    "print(\" There were\", len(new_users.InvoiceNo.unique()), \" invoices from new users from \" , len(new_users.Country.unique()), \"countries, relative to \",len(new_users.StockCode.unique()), \"items!\")"
   ]
  },
  {
   "cell_type": "code",
   "execution_count": 10,
   "id": "7c819df4",
   "metadata": {},
   "outputs": [
    {
     "name": "stderr",
     "output_type": "stream",
     "text": [
      "C:\\Users\\olobo\\anaconda3\\envs\\Main Environment\\lib\\site-packages\\pandas\\core\\generic.py:5494: SettingWithCopyWarning: \n",
      "A value is trying to be set on a copy of a slice from a DataFrame.\n",
      "Try using .loc[row_indexer,col_indexer] = value instead\n",
      "\n",
      "See the caveats in the documentation: https://pandas.pydata.org/pandas-docs/stable/user_guide/indexing.html#returning-a-view-versus-a-copy\n",
      "  self[name] = value\n"
     ]
    },
    {
     "data": {
      "text/html": [
       "<div>\n",
       "<style scoped>\n",
       "    .dataframe tbody tr th:only-of-type {\n",
       "        vertical-align: middle;\n",
       "    }\n",
       "\n",
       "    .dataframe tbody tr th {\n",
       "        vertical-align: top;\n",
       "    }\n",
       "\n",
       "    .dataframe thead th {\n",
       "        text-align: right;\n",
       "    }\n",
       "</style>\n",
       "<table border=\"1\" class=\"dataframe\">\n",
       "  <thead>\n",
       "    <tr style=\"text-align: right;\">\n",
       "      <th></th>\n",
       "      <th>Description</th>\n",
       "      <th>Country</th>\n",
       "      <th>Quantity</th>\n",
       "    </tr>\n",
       "  </thead>\n",
       "  <tbody>\n",
       "    <tr>\n",
       "      <th>708</th>\n",
       "      <td>CHARLOTTE BAG SUKI DESIGN</td>\n",
       "      <td>United Kingdom</td>\n",
       "      <td>9167</td>\n",
       "    </tr>\n",
       "    <tr>\n",
       "      <th>2797</th>\n",
       "      <td>POPCORN HOLDER</td>\n",
       "      <td>United Kingdom</td>\n",
       "      <td>5803</td>\n",
       "    </tr>\n",
       "    <tr>\n",
       "      <th>2952</th>\n",
       "      <td>RED RETROSPOT CHARLOTTE BAG</td>\n",
       "      <td>United Kingdom</td>\n",
       "      <td>4946</td>\n",
       "    </tr>\n",
       "    <tr>\n",
       "      <th>4238</th>\n",
       "      <td>WOODLAND CHARLOTTE BAG</td>\n",
       "      <td>United Kingdom</td>\n",
       "      <td>4041</td>\n",
       "    </tr>\n",
       "    <tr>\n",
       "      <th>2483</th>\n",
       "      <td>PAPER CHAIN KIT 50'S CHRISTMAS</td>\n",
       "      <td>United Kingdom</td>\n",
       "      <td>3738</td>\n",
       "    </tr>\n",
       "    <tr>\n",
       "      <th>2862</th>\n",
       "      <td>RABBIT NIGHT LIGHT</td>\n",
       "      <td>United Kingdom</td>\n",
       "      <td>3537</td>\n",
       "    </tr>\n",
       "    <tr>\n",
       "      <th>2514</th>\n",
       "      <td>PARTY BUNTING</td>\n",
       "      <td>United Kingdom</td>\n",
       "      <td>2981</td>\n",
       "    </tr>\n",
       "    <tr>\n",
       "      <th>3758</th>\n",
       "      <td>STRAWBERRY CHARLOTTE BAG</td>\n",
       "      <td>United Kingdom</td>\n",
       "      <td>2951</td>\n",
       "    </tr>\n",
       "    <tr>\n",
       "      <th>2435</th>\n",
       "      <td>PACK OF 72 RETROSPOT CAKE CASES</td>\n",
       "      <td>United Kingdom</td>\n",
       "      <td>2521</td>\n",
       "    </tr>\n",
       "    <tr>\n",
       "      <th>706</th>\n",
       "      <td>CHARLOTTE BAG PINK POLKADOT</td>\n",
       "      <td>United Kingdom</td>\n",
       "      <td>2403</td>\n",
       "    </tr>\n",
       "  </tbody>\n",
       "</table>\n",
       "</div>"
      ],
      "text/plain": [
       "                          Description         Country  Quantity\n",
       "708         CHARLOTTE BAG SUKI DESIGN  United Kingdom      9167\n",
       "2797                   POPCORN HOLDER  United Kingdom      5803\n",
       "2952      RED RETROSPOT CHARLOTTE BAG  United Kingdom      4946\n",
       "4238           WOODLAND CHARLOTTE BAG  United Kingdom      4041\n",
       "2483  PAPER CHAIN KIT 50'S CHRISTMAS   United Kingdom      3738\n",
       "2862               RABBIT NIGHT LIGHT  United Kingdom      3537\n",
       "2514                    PARTY BUNTING  United Kingdom      2981\n",
       "3758         STRAWBERRY CHARLOTTE BAG  United Kingdom      2951\n",
       "2435  PACK OF 72 RETROSPOT CAKE CASES  United Kingdom      2521\n",
       "706       CHARLOTTE BAG PINK POLKADOT  United Kingdom      2403"
      ]
     },
     "execution_count": 10,
     "metadata": {},
     "output_type": "execute_result"
    }
   ],
   "source": [
    "new_users.Quantity = abs(new_users.Quantity)\n",
    "most_new_users_items = new_users.groupby(['Description','Country']).agg({'Quantity':['sum']}).reset_index()\n",
    "most_new_users_items.columns = ['Description','Country', 'Quantity']\n",
    "most_new_users_items.sort_values(by='Quantity', ascending=False).head(10)"
   ]
  },
  {
   "cell_type": "markdown",
   "id": "57a746d6",
   "metadata": {},
   "source": [
    "Since we are looking at **new customers**, the company **doesn't have any data relative to their historical purchases**.\n",
    "To create a recomendation system for this **small subset** of clients, it was used the country product most bought items to make some **recomendation to new users**!"
   ]
  },
  {
   "cell_type": "markdown",
   "id": "f1ab5c2d",
   "metadata": {},
   "source": [
    "## Recommendation for new users based on Country historical purchases "
   ]
  },
  {
   "cell_type": "markdown",
   "id": "e34ad15a",
   "metadata": {},
   "source": [
    "Checking for some inconsistencies/missing values"
   ]
  },
  {
   "cell_type": "code",
   "execution_count": 11,
   "id": "44bdaa51",
   "metadata": {},
   "outputs": [
    {
     "data": {
      "text/plain": [
       "InvoiceNo      0\n",
       "StockCode      0\n",
       "Description    0\n",
       "Quantity       0\n",
       "InvoiceDate    0\n",
       "UnitPrice      0\n",
       "CustomerID     0\n",
       "Country        0\n",
       "dtype: int64"
      ]
     },
     "execution_count": 11,
     "metadata": {},
     "output_type": "execute_result"
    }
   ],
   "source": [
    "retail_active.isna().sum()"
   ]
  },
  {
   "cell_type": "code",
   "execution_count": 12,
   "id": "2e42e0a3",
   "metadata": {},
   "outputs": [
    {
     "data": {
      "text/html": [
       "<div>\n",
       "<style scoped>\n",
       "    .dataframe tbody tr th:only-of-type {\n",
       "        vertical-align: middle;\n",
       "    }\n",
       "\n",
       "    .dataframe tbody tr th {\n",
       "        vertical-align: top;\n",
       "    }\n",
       "\n",
       "    .dataframe thead th {\n",
       "        text-align: right;\n",
       "    }\n",
       "</style>\n",
       "<table border=\"1\" class=\"dataframe\">\n",
       "  <thead>\n",
       "    <tr style=\"text-align: right;\">\n",
       "      <th></th>\n",
       "      <th>StockCode</th>\n",
       "      <th>Description</th>\n",
       "      <th>Quantity</th>\n",
       "      <th>Country</th>\n",
       "    </tr>\n",
       "  </thead>\n",
       "  <tbody>\n",
       "    <tr>\n",
       "      <th>0</th>\n",
       "      <td>85123A</td>\n",
       "      <td>WHITE HANGING HEART T-LIGHT HOLDER</td>\n",
       "      <td>6</td>\n",
       "      <td>United Kingdom</td>\n",
       "    </tr>\n",
       "    <tr>\n",
       "      <th>1</th>\n",
       "      <td>71053</td>\n",
       "      <td>WHITE METAL LANTERN</td>\n",
       "      <td>6</td>\n",
       "      <td>United Kingdom</td>\n",
       "    </tr>\n",
       "    <tr>\n",
       "      <th>2</th>\n",
       "      <td>84406B</td>\n",
       "      <td>CREAM CUPID HEARTS COAT HANGER</td>\n",
       "      <td>8</td>\n",
       "      <td>United Kingdom</td>\n",
       "    </tr>\n",
       "    <tr>\n",
       "      <th>3</th>\n",
       "      <td>84029G</td>\n",
       "      <td>KNITTED UNION FLAG HOT WATER BOTTLE</td>\n",
       "      <td>6</td>\n",
       "      <td>United Kingdom</td>\n",
       "    </tr>\n",
       "    <tr>\n",
       "      <th>4</th>\n",
       "      <td>84029E</td>\n",
       "      <td>RED WOOLLY HOTTIE WHITE HEART.</td>\n",
       "      <td>6</td>\n",
       "      <td>United Kingdom</td>\n",
       "    </tr>\n",
       "    <tr>\n",
       "      <th>...</th>\n",
       "      <td>...</td>\n",
       "      <td>...</td>\n",
       "      <td>...</td>\n",
       "      <td>...</td>\n",
       "    </tr>\n",
       "    <tr>\n",
       "      <th>541904</th>\n",
       "      <td>22613</td>\n",
       "      <td>PACK OF 20 SPACEBOY NAPKINS</td>\n",
       "      <td>12</td>\n",
       "      <td>France</td>\n",
       "    </tr>\n",
       "    <tr>\n",
       "      <th>541905</th>\n",
       "      <td>22899</td>\n",
       "      <td>CHILDREN'S APRON DOLLY GIRL</td>\n",
       "      <td>6</td>\n",
       "      <td>France</td>\n",
       "    </tr>\n",
       "    <tr>\n",
       "      <th>541906</th>\n",
       "      <td>23254</td>\n",
       "      <td>CHILDRENS CUTLERY DOLLY GIRL</td>\n",
       "      <td>4</td>\n",
       "      <td>France</td>\n",
       "    </tr>\n",
       "    <tr>\n",
       "      <th>541907</th>\n",
       "      <td>23255</td>\n",
       "      <td>CHILDRENS CUTLERY CIRCUS PARADE</td>\n",
       "      <td>4</td>\n",
       "      <td>France</td>\n",
       "    </tr>\n",
       "    <tr>\n",
       "      <th>541908</th>\n",
       "      <td>22138</td>\n",
       "      <td>BAKING SET 9 PIECE RETROSPOT</td>\n",
       "      <td>3</td>\n",
       "      <td>France</td>\n",
       "    </tr>\n",
       "  </tbody>\n",
       "</table>\n",
       "<p>397884 rows × 4 columns</p>\n",
       "</div>"
      ],
      "text/plain": [
       "       StockCode                          Description  Quantity  \\\n",
       "0         85123A   WHITE HANGING HEART T-LIGHT HOLDER         6   \n",
       "1          71053                  WHITE METAL LANTERN         6   \n",
       "2         84406B       CREAM CUPID HEARTS COAT HANGER         8   \n",
       "3         84029G  KNITTED UNION FLAG HOT WATER BOTTLE         6   \n",
       "4         84029E       RED WOOLLY HOTTIE WHITE HEART.         6   \n",
       "...          ...                                  ...       ...   \n",
       "541904     22613          PACK OF 20 SPACEBOY NAPKINS        12   \n",
       "541905     22899         CHILDREN'S APRON DOLLY GIRL          6   \n",
       "541906     23254        CHILDRENS CUTLERY DOLLY GIRL          4   \n",
       "541907     23255      CHILDRENS CUTLERY CIRCUS PARADE         4   \n",
       "541908     22138        BAKING SET 9 PIECE RETROSPOT          3   \n",
       "\n",
       "               Country  \n",
       "0       United Kingdom  \n",
       "1       United Kingdom  \n",
       "2       United Kingdom  \n",
       "3       United Kingdom  \n",
       "4       United Kingdom  \n",
       "...                ...  \n",
       "541904          France  \n",
       "541905          France  \n",
       "541906          France  \n",
       "541907          France  \n",
       "541908          France  \n",
       "\n",
       "[397884 rows x 4 columns]"
      ]
     },
     "execution_count": 12,
     "metadata": {},
     "output_type": "execute_result"
    }
   ],
   "source": [
    "retail_active[['StockCode', 'Description', 'Quantity','Country']]"
   ]
  },
  {
   "cell_type": "markdown",
   "id": "36743495",
   "metadata": {},
   "source": [
    "### Most bought items from historical data from regular customers"
   ]
  },
  {
   "cell_type": "code",
   "execution_count": 13,
   "id": "d8288f44",
   "metadata": {},
   "outputs": [
    {
     "data": {
      "text/html": [
       "<div>\n",
       "<style scoped>\n",
       "    .dataframe tbody tr th:only-of-type {\n",
       "        vertical-align: middle;\n",
       "    }\n",
       "\n",
       "    .dataframe tbody tr th {\n",
       "        vertical-align: top;\n",
       "    }\n",
       "\n",
       "    .dataframe thead th {\n",
       "        text-align: right;\n",
       "    }\n",
       "</style>\n",
       "<table border=\"1\" class=\"dataframe\">\n",
       "  <thead>\n",
       "    <tr style=\"text-align: right;\">\n",
       "      <th></th>\n",
       "      <th>Description</th>\n",
       "      <th>Country</th>\n",
       "      <th>Quantity</th>\n",
       "    </tr>\n",
       "  </thead>\n",
       "  <tbody>\n",
       "    <tr>\n",
       "      <th>11074</th>\n",
       "      <td>PAPER CRAFT , LITTLE BIRDIE</td>\n",
       "      <td>United Kingdom</td>\n",
       "      <td>80995</td>\n",
       "    </tr>\n",
       "    <tr>\n",
       "      <th>9417</th>\n",
       "      <td>MEDIUM CERAMIC TOP STORAGE JAR</td>\n",
       "      <td>United Kingdom</td>\n",
       "      <td>76919</td>\n",
       "    </tr>\n",
       "    <tr>\n",
       "      <th>18900</th>\n",
       "      <td>WORLD WAR 2 GLIDERS ASSTD DESIGNS</td>\n",
       "      <td>United Kingdom</td>\n",
       "      <td>49182</td>\n",
       "    </tr>\n",
       "    <tr>\n",
       "      <th>8272</th>\n",
       "      <td>JUMBO BAG RED RETROSPOT</td>\n",
       "      <td>United Kingdom</td>\n",
       "      <td>41981</td>\n",
       "    </tr>\n",
       "    <tr>\n",
       "      <th>18403</th>\n",
       "      <td>WHITE HANGING HEART T-LIGHT HOLDER</td>\n",
       "      <td>United Kingdom</td>\n",
       "      <td>34648</td>\n",
       "    </tr>\n",
       "    <tr>\n",
       "      <th>1100</th>\n",
       "      <td>ASSORTED COLOUR BIRD ORNAMENT</td>\n",
       "      <td>United Kingdom</td>\n",
       "      <td>32727</td>\n",
       "    </tr>\n",
       "    <tr>\n",
       "      <th>12342</th>\n",
       "      <td>POPCORN HOLDER</td>\n",
       "      <td>United Kingdom</td>\n",
       "      <td>28935</td>\n",
       "    </tr>\n",
       "    <tr>\n",
       "      <th>10437</th>\n",
       "      <td>PACK OF 12 LONDON TISSUES</td>\n",
       "      <td>United Kingdom</td>\n",
       "      <td>24337</td>\n",
       "    </tr>\n",
       "    <tr>\n",
       "      <th>2464</th>\n",
       "      <td>BROCADE RING PURSE</td>\n",
       "      <td>United Kingdom</td>\n",
       "      <td>22711</td>\n",
       "    </tr>\n",
       "    <tr>\n",
       "      <th>10799</th>\n",
       "      <td>PACK OF 72 RETROSPOT CAKE CASES</td>\n",
       "      <td>United Kingdom</td>\n",
       "      <td>22465</td>\n",
       "    </tr>\n",
       "  </tbody>\n",
       "</table>\n",
       "</div>"
      ],
      "text/plain": [
       "                              Description         Country  Quantity\n",
       "11074         PAPER CRAFT , LITTLE BIRDIE  United Kingdom     80995\n",
       "9417       MEDIUM CERAMIC TOP STORAGE JAR  United Kingdom     76919\n",
       "18900   WORLD WAR 2 GLIDERS ASSTD DESIGNS  United Kingdom     49182\n",
       "8272              JUMBO BAG RED RETROSPOT  United Kingdom     41981\n",
       "18403  WHITE HANGING HEART T-LIGHT HOLDER  United Kingdom     34648\n",
       "1100        ASSORTED COLOUR BIRD ORNAMENT  United Kingdom     32727\n",
       "12342                      POPCORN HOLDER  United Kingdom     28935\n",
       "10437          PACK OF 12 LONDON TISSUES   United Kingdom     24337\n",
       "2464                  BROCADE RING PURSE   United Kingdom     22711\n",
       "10799     PACK OF 72 RETROSPOT CAKE CASES  United Kingdom     22465"
      ]
     },
     "execution_count": 13,
     "metadata": {},
     "output_type": "execute_result"
    }
   ],
   "source": [
    "most_bought_items = retail_active.groupby(['Description','Country']).agg({'Quantity':['sum']}).reset_index()\n",
    "most_bought_items.columns = ['Description','Country', 'Quantity']\n",
    "most_bought_items.sort_values(by='Quantity', ascending=False).head(10)"
   ]
  },
  {
   "cell_type": "markdown",
   "id": "c7b49917",
   "metadata": {},
   "source": [
    "### Density Matrix"
   ]
  },
  {
   "cell_type": "code",
   "execution_count": 14,
   "id": "789bb1b3",
   "metadata": {},
   "outputs": [
    {
     "name": "stdout",
     "output_type": "stream",
     "text": [
      "Shape of coldstart_matrix:  (3877, 37)\n",
      "given_num_of_purchases =  19321\n",
      "possible_num_of_purchases =  143449\n",
      "density: 13.47%\n"
     ]
    }
   ],
   "source": [
    "#Calculate the density of the rating matrix by Country\n",
    "\n",
    "coldstart_matrix = most_bought_items.pivot(index = 'Description', columns ='Country', values = 'Quantity').fillna(0)\n",
    "print('Shape of coldstart_matrix: ', coldstart_matrix.shape)\n",
    "\n",
    "#0 represents that the item was not bought, so in order to have the number of items bought ,\n",
    "#the value has to be different than one\n",
    "given_num_of_purchases = np.count_nonzero(coldstart_matrix)\n",
    "print('given_num_of_purchases = ', given_num_of_purchases)\n",
    "possible_num_of_purchases = coldstart_matrix.shape[0] * coldstart_matrix.shape[1]\n",
    "print('possible_num_of_purchases = ', possible_num_of_purchases)\n",
    "density = (given_num_of_purchases/possible_num_of_purchases)\n",
    "density *= 100\n",
    "print ('density: {:4.2f}%'.format(density))"
   ]
  },
  {
   "cell_type": "markdown",
   "id": "83d28853",
   "metadata": {},
   "source": [
    "### Ranking Assignment --> Rank nº1 refers to the highest amount of a item purchases"
   ]
  },
  {
   "cell_type": "code",
   "execution_count": 15,
   "id": "4eae594d",
   "metadata": {},
   "outputs": [],
   "source": [
    "# Use popularity based recommender model to make predictions\n",
    "def recommend(database, country):  \n",
    "    df = database[(database.Country == country)]\n",
    "    Data_new_grouped = df.groupby('Description').agg({'Country': 'count'}).reset_index()\n",
    "    Data_new_grouped.rename(columns = {'Country': 'score'},inplace=True)\n",
    "    \n",
    "    train_data_sort = coldstart_matrix[country].sort_values(ascending = False).to_frame()\n",
    "    train_data_sort['Rank'] = coldstart_matrix[country].rank(ascending=0, method='first')\n",
    "    popularity_recommendations = train_data_sort.head(5)\n",
    "    \n",
    "    new_user_recommendations = popularity_recommendations \n",
    "          \n",
    "    #Add user country column for which the recommendations are being generated \n",
    "    new_user_recommendations['Country'] = country \n",
    "      \n",
    "    #Bring user country column to the front \n",
    "    cols = new_user_recommendations.columns.tolist() \n",
    "    cols = cols[-1:] + cols[:-1] \n",
    "    new_user_recommendations = new_user_recommendations[cols] \n",
    "          \n",
    "    return new_user_recommendations "
   ]
  },
  {
   "cell_type": "markdown",
   "id": "5e26d5e9",
   "metadata": {},
   "source": [
    "###  An example for a recommendation system for a new user for any of the following countries"
   ]
  },
  {
   "cell_type": "code",
   "execution_count": 16,
   "id": "1bb4ebcb",
   "metadata": {},
   "outputs": [],
   "source": [
    "find_recom = ['France','United Kingdom','USA']   # This list is user choice."
   ]
  },
  {
   "cell_type": "code",
   "execution_count": 17,
   "id": "55da4275",
   "metadata": {},
   "outputs": [
    {
     "name": "stdout",
     "output_type": "stream",
     "text": [
      "Here is the recommendation for the user's Country: France\n",
      "\n",
      "                              Country  France  Rank\n",
      "Description                                        \n",
      "RABBIT NIGHT LIGHT             France  4000.0   1.0\n",
      "MINI PAINT SET VINTAGE         France  2196.0   2.0\n",
      "RED TOADSTOOL LED NIGHT LIGHT  France  1291.0   3.0\n",
      "SET/6 RED SPOTTY PAPER CUPS    France  1272.0   4.0\n",
      "ASSORTED COLOUR BIRD ORNAMENT  France  1204.0   5.0\n",
      "\n",
      "\n",
      "Here is the recommendation for the user's Country: United Kingdom\n",
      "\n",
      "                                           Country  United Kingdom  Rank\n",
      "Description                                                             \n",
      "PAPER CRAFT , LITTLE BIRDIE         United Kingdom         80995.0   1.0\n",
      "MEDIUM CERAMIC TOP STORAGE JAR      United Kingdom         76919.0   2.0\n",
      "WORLD WAR 2 GLIDERS ASSTD DESIGNS   United Kingdom         49182.0   3.0\n",
      "JUMBO BAG RED RETROSPOT             United Kingdom         41981.0   4.0\n",
      "WHITE HANGING HEART T-LIGHT HOLDER  United Kingdom         34648.0   5.0\n",
      "\n",
      "\n",
      "Here is the recommendation for the user's Country: USA\n",
      "\n"
     ]
    },
    {
     "name": "stderr",
     "output_type": "stream",
     "text": [
      "<ipython-input-15-520eb6a50fcc>:14: SettingWithCopyWarning: \n",
      "A value is trying to be set on a copy of a slice from a DataFrame.\n",
      "Try using .loc[row_indexer,col_indexer] = value instead\n",
      "\n",
      "See the caveats in the documentation: https://pandas.pydata.org/pandas-docs/stable/user_guide/indexing.html#returning-a-view-versus-a-copy\n",
      "  new_user_recommendations['Country'] = country\n",
      "<ipython-input-15-520eb6a50fcc>:14: SettingWithCopyWarning: \n",
      "A value is trying to be set on a copy of a slice from a DataFrame.\n",
      "Try using .loc[row_indexer,col_indexer] = value instead\n",
      "\n",
      "See the caveats in the documentation: https://pandas.pydata.org/pandas-docs/stable/user_guide/indexing.html#returning-a-view-versus-a-copy\n",
      "  new_user_recommendations['Country'] = country\n",
      "<ipython-input-15-520eb6a50fcc>:14: SettingWithCopyWarning: \n",
      "A value is trying to be set on a copy of a slice from a DataFrame.\n",
      "Try using .loc[row_indexer,col_indexer] = value instead\n",
      "\n",
      "See the caveats in the documentation: https://pandas.pydata.org/pandas-docs/stable/user_guide/indexing.html#returning-a-view-versus-a-copy\n",
      "  new_user_recommendations['Country'] = country\n"
     ]
    },
    {
     "name": "stdout",
     "output_type": "stream",
     "text": [
      "                                    Country   USA  Rank\n",
      "Description                                            \n",
      "SET 12 COLOURING PENCILS DOILY          USA  88.0   1.0\n",
      "12 PENCILS SMALL TUBE RED RETROSPOT     USA  72.0   2.0\n",
      "SET/10 BLUE POLKADOT PARTY CANDLES      USA  72.0   3.0\n",
      "SET/10 IVORY POLKADOT PARTY CANDLES     USA  72.0   4.0\n",
      "SET/10 PINK POLKADOT PARTY CANDLES      USA  72.0   5.0\n",
      "\n",
      "\n"
     ]
    }
   ],
   "source": [
    "for i in find_recom:\n",
    "    print(\"Here is the recommendation for the user's Country: %s\\n\" %(i))\n",
    "    print(recommend(retail,i))    \n",
    "    print(\"\\n\") "
   ]
  },
  {
   "cell_type": "markdown",
   "id": "17662d88",
   "metadata": {},
   "source": [
    "## Recomendation System Predictions for Regular User "
   ]
  },
  {
   "cell_type": "markdown",
   "id": "a285a89c",
   "metadata": {},
   "source": [
    "### Tackling the Cold Start Problem"
   ]
  },
  {
   "cell_type": "markdown",
   "id": "c977e0b2",
   "metadata": {},
   "source": [
    "There are two kinds of user/ item interaction data available: explicit and implicit.\n",
    "- **Explicit**: A score, such as a rating or a like\n",
    "- **Implicit**: Not as obvious in terms of preference, such as a click, view, or purchase\n",
    "\n",
    "The most common example of explicit data discussed is movie ratings, which are given on a numeric scale. We can easily see whether a user enjoyed a movie based on the rating provided. The problem, however, is that most of the time, people don’t provide ratings at all, so the amount of explicit data available is quite scarce. Sometimes we get access to data about certain interactions between users and items that give us some degree of certainty on whether a user likes an item - this is what we call implicit data. With **implicit data**, the **more interactions a user has with a item**, the more **certain we are about its preference**. A common example might be viewing a product in Amazon website or even purchasing it."
   ]
  },
  {
   "cell_type": "markdown",
   "id": "715921cf",
   "metadata": {},
   "source": [
    "The right target audience for an advertisement is best calculated by looking at the **former visitors for the ad**. According to the basic assumption of the **collaborative filtering concept**, if an **ad was already popular with a certain group of people**, then **others** that **fit the group’s profile** are likely to **respond well to the ad**."
   ]
  },
  {
   "cell_type": "markdown",
   "id": "bcbf2e7c",
   "metadata": {},
   "source": [
    "In our case , we suggested an **Explicit** method for the recommmendation for **new users** based on the previous invoices of other customers such like a ranking/rating"
   ]
  },
  {
   "cell_type": "markdown",
   "id": "963bd7d0",
   "metadata": {},
   "source": [
    "For **Regular Users** where we have an historical data about their purchases and their behaviour, it was decided to apply a **Implicit approach** using the **ALS**"
   ]
  },
  {
   "cell_type": "markdown",
   "id": "3f52058d",
   "metadata": {},
   "source": [
    "## Alternating Least Squares"
   ]
  },
  {
   "cell_type": "markdown",
   "id": "f8c939de",
   "metadata": {},
   "source": [
    "Matrix factorization is applied in the realm of **dimensionality reduction**, where we are trying to reduce the number of features while still **keeping the relevant information**. This is the case with principal component analysis (PCA) and the very similar singular value decomposition (SVD).\n",
    "\n",
    "Essentially, can we take a large matrix of user/item interactions and figure out the **latent (or hidden) features that relate them to each other** in a much smaller matrix of user features and item features? That’s exactly what ALS is trying to do through matrix factorization."
   ]
  },
  {
   "cell_type": "markdown",
   "id": "a83f6694",
   "metadata": {},
   "source": [
    "## Inventory Check"
   ]
  },
  {
   "cell_type": "code",
   "execution_count": 18,
   "id": "f1d7de92",
   "metadata": {},
   "outputs": [],
   "source": [
    "items = retail_active[['StockCode', 'Description']].drop_duplicates() # Only get unique item/description pairs\n",
    "items['StockCode'] = items.StockCode.astype(str) # Encode as strings for future lookup ease"
   ]
  },
  {
   "cell_type": "code",
   "execution_count": 19,
   "id": "680441d9",
   "metadata": {},
   "outputs": [
    {
     "data": {
      "text/html": [
       "<div>\n",
       "<style scoped>\n",
       "    .dataframe tbody tr th:only-of-type {\n",
       "        vertical-align: middle;\n",
       "    }\n",
       "\n",
       "    .dataframe tbody tr th {\n",
       "        vertical-align: top;\n",
       "    }\n",
       "\n",
       "    .dataframe thead th {\n",
       "        text-align: right;\n",
       "    }\n",
       "</style>\n",
       "<table border=\"1\" class=\"dataframe\">\n",
       "  <thead>\n",
       "    <tr style=\"text-align: right;\">\n",
       "      <th></th>\n",
       "      <th>StockCode</th>\n",
       "      <th>Description</th>\n",
       "    </tr>\n",
       "  </thead>\n",
       "  <tbody>\n",
       "    <tr>\n",
       "      <th>0</th>\n",
       "      <td>85123A</td>\n",
       "      <td>WHITE HANGING HEART T-LIGHT HOLDER</td>\n",
       "    </tr>\n",
       "    <tr>\n",
       "      <th>1</th>\n",
       "      <td>71053</td>\n",
       "      <td>WHITE METAL LANTERN</td>\n",
       "    </tr>\n",
       "    <tr>\n",
       "      <th>2</th>\n",
       "      <td>84406B</td>\n",
       "      <td>CREAM CUPID HEARTS COAT HANGER</td>\n",
       "    </tr>\n",
       "    <tr>\n",
       "      <th>3</th>\n",
       "      <td>84029G</td>\n",
       "      <td>KNITTED UNION FLAG HOT WATER BOTTLE</td>\n",
       "    </tr>\n",
       "    <tr>\n",
       "      <th>4</th>\n",
       "      <td>84029E</td>\n",
       "      <td>RED WOOLLY HOTTIE WHITE HEART.</td>\n",
       "    </tr>\n",
       "    <tr>\n",
       "      <th>...</th>\n",
       "      <td>...</td>\n",
       "      <td>...</td>\n",
       "    </tr>\n",
       "    <tr>\n",
       "      <th>527067</th>\n",
       "      <td>90214W</td>\n",
       "      <td>LETTER \"W\" BLING KEY RING</td>\n",
       "    </tr>\n",
       "    <tr>\n",
       "      <th>527069</th>\n",
       "      <td>90214Z</td>\n",
       "      <td>LETTER \"Z\" BLING KEY RING</td>\n",
       "    </tr>\n",
       "    <tr>\n",
       "      <th>530382</th>\n",
       "      <td>90089</td>\n",
       "      <td>PINK CRYSTAL SKULL PHONE CHARM</td>\n",
       "    </tr>\n",
       "    <tr>\n",
       "      <th>537621</th>\n",
       "      <td>85123A</td>\n",
       "      <td>CREAM HANGING HEART T-LIGHT HOLDER</td>\n",
       "    </tr>\n",
       "    <tr>\n",
       "      <th>540421</th>\n",
       "      <td>23843</td>\n",
       "      <td>PAPER CRAFT , LITTLE BIRDIE</td>\n",
       "    </tr>\n",
       "  </tbody>\n",
       "</table>\n",
       "<p>3897 rows × 2 columns</p>\n",
       "</div>"
      ],
      "text/plain": [
       "       StockCode                          Description\n",
       "0         85123A   WHITE HANGING HEART T-LIGHT HOLDER\n",
       "1          71053                  WHITE METAL LANTERN\n",
       "2         84406B       CREAM CUPID HEARTS COAT HANGER\n",
       "3         84029G  KNITTED UNION FLAG HOT WATER BOTTLE\n",
       "4         84029E       RED WOOLLY HOTTIE WHITE HEART.\n",
       "...          ...                                  ...\n",
       "527067    90214W            LETTER \"W\" BLING KEY RING\n",
       "527069    90214Z            LETTER \"Z\" BLING KEY RING\n",
       "530382     90089       PINK CRYSTAL SKULL PHONE CHARM\n",
       "537621    85123A   CREAM HANGING HEART T-LIGHT HOLDER\n",
       "540421     23843          PAPER CRAFT , LITTLE BIRDIE\n",
       "\n",
       "[3897 rows x 2 columns]"
      ]
     },
     "execution_count": 19,
     "metadata": {},
     "output_type": "execute_result"
    }
   ],
   "source": [
    "items"
   ]
  },
  {
   "cell_type": "markdown",
   "id": "78c95692",
   "metadata": {},
   "source": [
    "Some items are missing since we are only using a dataset that has the customer_ID"
   ]
  },
  {
   "cell_type": "code",
   "execution_count": 20,
   "id": "9cbf2edc",
   "metadata": {},
   "outputs": [
    {
     "name": "stderr",
     "output_type": "stream",
     "text": [
      "<ipython-input-20-e7ecba190a1e>:1: SettingWithCopyWarning: \n",
      "A value is trying to be set on a copy of a slice from a DataFrame.\n",
      "Try using .loc[row_indexer,col_indexer] = value instead\n",
      "\n",
      "See the caveats in the documentation: https://pandas.pydata.org/pandas-docs/stable/user_guide/indexing.html#returning-a-view-versus-a-copy\n",
      "  retail_active['CustomerID'] = retail_active.CustomerID.astype(int) # Convert to int for customer ID\n"
     ]
    }
   ],
   "source": [
    "retail_active['CustomerID'] = retail_active.CustomerID.astype(int) # Convert to int for customer ID\n",
    "inventory = retail_active[['StockCode', 'Quantity', 'CustomerID']] # Get rid of unnecessary info"
   ]
  },
  {
   "cell_type": "code",
   "execution_count": 21,
   "id": "a0f7b7e7",
   "metadata": {},
   "outputs": [
    {
     "name": "stderr",
     "output_type": "stream",
     "text": [
      "C:\\Users\\olobo\\anaconda3\\envs\\Main Environment\\lib\\site-packages\\pandas\\core\\indexing.py:1637: SettingWithCopyWarning: \n",
      "A value is trying to be set on a copy of a slice from a DataFrame\n",
      "\n",
      "See the caveats in the documentation: https://pandas.pydata.org/pandas-docs/stable/user_guide/indexing.html#returning-a-view-versus-a-copy\n",
      "  self._setitem_single_block(indexer, value, name)\n"
     ]
    }
   ],
   "source": [
    "inventory = inventory.groupby(['CustomerID', 'StockCode']).sum().reset_index() # Group together\n",
    "inventory.Quantity.loc[inventory.Quantity == 0] = 1 # Replace a sum of zero purchases with a one to\n",
    "# indicate purchased\n",
    "purchases = inventory.query('Quantity > 0') # Only get customers where purchase totals were positive"
   ]
  },
  {
   "cell_type": "code",
   "execution_count": 22,
   "id": "f17745c0",
   "metadata": {},
   "outputs": [
    {
     "data": {
      "text/html": [
       "<div>\n",
       "<style scoped>\n",
       "    .dataframe tbody tr th:only-of-type {\n",
       "        vertical-align: middle;\n",
       "    }\n",
       "\n",
       "    .dataframe tbody tr th {\n",
       "        vertical-align: top;\n",
       "    }\n",
       "\n",
       "    .dataframe thead th {\n",
       "        text-align: right;\n",
       "    }\n",
       "</style>\n",
       "<table border=\"1\" class=\"dataframe\">\n",
       "  <thead>\n",
       "    <tr style=\"text-align: right;\">\n",
       "      <th></th>\n",
       "      <th>CustomerID</th>\n",
       "      <th>StockCode</th>\n",
       "      <th>Quantity</th>\n",
       "    </tr>\n",
       "  </thead>\n",
       "  <tbody>\n",
       "    <tr>\n",
       "      <th>0</th>\n",
       "      <td>12346</td>\n",
       "      <td>23166</td>\n",
       "      <td>74215</td>\n",
       "    </tr>\n",
       "    <tr>\n",
       "      <th>1</th>\n",
       "      <td>12347</td>\n",
       "      <td>16008</td>\n",
       "      <td>24</td>\n",
       "    </tr>\n",
       "    <tr>\n",
       "      <th>2</th>\n",
       "      <td>12347</td>\n",
       "      <td>17021</td>\n",
       "      <td>36</td>\n",
       "    </tr>\n",
       "    <tr>\n",
       "      <th>3</th>\n",
       "      <td>12347</td>\n",
       "      <td>20665</td>\n",
       "      <td>6</td>\n",
       "    </tr>\n",
       "    <tr>\n",
       "      <th>4</th>\n",
       "      <td>12347</td>\n",
       "      <td>20719</td>\n",
       "      <td>40</td>\n",
       "    </tr>\n",
       "    <tr>\n",
       "      <th>...</th>\n",
       "      <td>...</td>\n",
       "      <td>...</td>\n",
       "      <td>...</td>\n",
       "    </tr>\n",
       "    <tr>\n",
       "      <th>266787</th>\n",
       "      <td>18287</td>\n",
       "      <td>84920</td>\n",
       "      <td>4</td>\n",
       "    </tr>\n",
       "    <tr>\n",
       "      <th>266788</th>\n",
       "      <td>18287</td>\n",
       "      <td>85039A</td>\n",
       "      <td>96</td>\n",
       "    </tr>\n",
       "    <tr>\n",
       "      <th>266789</th>\n",
       "      <td>18287</td>\n",
       "      <td>85039B</td>\n",
       "      <td>120</td>\n",
       "    </tr>\n",
       "    <tr>\n",
       "      <th>266790</th>\n",
       "      <td>18287</td>\n",
       "      <td>85040A</td>\n",
       "      <td>48</td>\n",
       "    </tr>\n",
       "    <tr>\n",
       "      <th>266791</th>\n",
       "      <td>18287</td>\n",
       "      <td>85173</td>\n",
       "      <td>48</td>\n",
       "    </tr>\n",
       "  </tbody>\n",
       "</table>\n",
       "<p>266792 rows × 3 columns</p>\n",
       "</div>"
      ],
      "text/plain": [
       "        CustomerID StockCode  Quantity\n",
       "0            12346     23166     74215\n",
       "1            12347     16008        24\n",
       "2            12347     17021        36\n",
       "3            12347     20665         6\n",
       "4            12347     20719        40\n",
       "...            ...       ...       ...\n",
       "266787       18287     84920         4\n",
       "266788       18287    85039A        96\n",
       "266789       18287    85039B       120\n",
       "266790       18287    85040A        48\n",
       "266791       18287     85173        48\n",
       "\n",
       "[266792 rows x 3 columns]"
      ]
     },
     "execution_count": 22,
     "metadata": {},
     "output_type": "execute_result"
    }
   ],
   "source": [
    "purchases"
   ]
  },
  {
   "cell_type": "code",
   "execution_count": 23,
   "id": "01540a4e",
   "metadata": {},
   "outputs": [],
   "source": [
    "customers = list(np.sort(purchases.CustomerID.unique())) # Get our unique customers\n",
    "products = list(purchases.StockCode.unique()) # Get our unique products that were purchased\n",
    "quantity = list(purchases.Quantity) # All of our purchases\n",
    "\n",
    "customers_rows = purchases.CustomerID.astype('category').cat.codes \n",
    "# Get the associated row indices\n",
    "stock_itens_cols = purchases.StockCode.astype('category').cat.codes \n",
    "# Get the associated column indices\n",
    "matrix_customer = sparse.csr_matrix((quantity, (customers_rows, stock_itens_cols)), shape=(len(customers), len(products)))"
   ]
  },
  {
   "cell_type": "code",
   "execution_count": 24,
   "id": "4f87f3e3",
   "metadata": {},
   "outputs": [
    {
     "data": {
      "text/plain": [
       "<4338x3665 sparse matrix of type '<class 'numpy.intc'>'\n",
       "\twith 266792 stored elements in Compressed Sparse Row format>"
      ]
     },
     "execution_count": 24,
     "metadata": {},
     "output_type": "execute_result"
    }
   ],
   "source": [
    "matrix_customer"
   ]
  },
  {
   "cell_type": "code",
   "execution_count": 25,
   "id": "3308e235",
   "metadata": {},
   "outputs": [
    {
     "data": {
      "text/plain": [
       "98.3219330803578"
      ]
     },
     "execution_count": 25,
     "metadata": {},
     "output_type": "execute_result"
    }
   ],
   "source": [
    "matrix_size = matrix_customer.shape[0]*matrix_customer.shape[1] # Number of possible interactions in the matrix\n",
    "num_purchases = len(matrix_customer.nonzero()[0]) # Number of items interacted with\n",
    "sparsity = 100*(1 - (num_purchases/matrix_size))\n",
    "sparsity"
   ]
  },
  {
   "cell_type": "markdown",
   "id": "128b8fb0",
   "metadata": {},
   "source": [
    "**98.3%** of the interaction matrix is **sparse**!"
   ]
  },
  {
   "cell_type": "markdown",
   "id": "a3d6e844",
   "metadata": {},
   "source": [
    "## Train and Test Split"
   ]
  },
  {
   "cell_type": "code",
   "execution_count": 26,
   "id": "305dd71e",
   "metadata": {},
   "outputs": [],
   "source": [
    "#https://jessesw.com/Rec-System/\n",
    "def make_train(ratings, pct_test = 0.2):\n",
    "    '''\n",
    "    This function will take in the original user-item matrix and \"mask\" a percentage of the original ratings where a\n",
    "    user-item interaction has taken place for use as a test set. The test set will contain all of the original ratings, \n",
    "    while the training set replaces the specified percentage of them with a zero in the original ratings matrix. \n",
    "    \n",
    "    parameters: \n",
    "    \n",
    "    ratings - the original ratings matrix from which you want to generate a train/test set. Test is just a complete\n",
    "    copy of the original set. This is in the form of a sparse csr_matrix. \n",
    "    \n",
    "    pct_test - The percentage of user-item interactions where an interaction took place that you want to mask in the \n",
    "    training set for later comparison to the test set, which contains all of the original ratings. \n",
    "    \n",
    "    returns:\n",
    "    \n",
    "    training_set - The altered version of the original data with a certain percentage of the user-item pairs \n",
    "    that originally had interaction set back to zero.\n",
    "    \n",
    "    test_set - A copy of the original ratings matrix, unaltered, so it can be used to see how the rank order \n",
    "    compares with the actual interactions.\n",
    "    \n",
    "    user_inds - From the randomly selected user-item indices, which user rows were altered in the training data.\n",
    "    This will be necessary later when evaluating the performance via AUC.\n",
    "    '''\n",
    "    test_set = ratings.copy() # Make a copy of the original set to be the test set. \n",
    "    test_set[test_set != 0] = 1 # Store the test set as a binary preference matrix\n",
    "    training_set = ratings.copy() # Make a copy of the original data we can alter as our training set. \n",
    "    nonzero_inds = training_set.nonzero() # Find the indices in the ratings data where an interaction exists\n",
    "    nonzero_pairs = list(zip(nonzero_inds[0], nonzero_inds[1])) # Zip these pairs together of user,item index into list\n",
    "    random.seed(0) # Set the random seed to zero for reproducibility\n",
    "    num_samples = int(np.ceil(pct_test*len(nonzero_pairs))) # Round the number of samples needed to the nearest integer\n",
    "    samples = random.sample(nonzero_pairs, num_samples) # Sample a random number of user-item pairs without replacement\n",
    "    user_inds = [index[0] for index in samples] # Get the user row indices\n",
    "    item_inds = [index[1] for index in samples] # Get the item column indices\n",
    "    training_set[user_inds, item_inds] = 0 # Assign all of the randomly chosen user-item pairs to zero\n",
    "    training_set.eliminate_zeros() # Get rid of zeros in sparse array storage after update to save space\n",
    "    return training_set, test_set, list(set(user_inds)) # Output the unique list of user rows that were altered  "
   ]
  },
  {
   "cell_type": "markdown",
   "id": "9769aff2",
   "metadata": {},
   "source": [
    "This will return our **training set**, a **test set that has been binarized to 0/1 for purchased/not purchased**, and a list of which **users had at least one item masked**. We will test the performance of the recommender system on these users only"
   ]
  },
  {
   "cell_type": "code",
   "execution_count": 27,
   "id": "5ea300b2",
   "metadata": {},
   "outputs": [],
   "source": [
    "product_train, product_test, product_users_altered = make_train(matrix_customer, pct_test = 0.2)"
   ]
  },
  {
   "cell_type": "code",
   "execution_count": 28,
   "id": "f109c413",
   "metadata": {},
   "outputs": [
    {
     "data": {
      "text/plain": [
       "<4338x3665 sparse matrix of type '<class 'numpy.intc'>'\n",
       "\twith 213433 stored elements in Compressed Sparse Row format>"
      ]
     },
     "execution_count": 28,
     "metadata": {},
     "output_type": "execute_result"
    }
   ],
   "source": [
    "product_train"
   ]
  },
  {
   "cell_type": "code",
   "execution_count": 29,
   "id": "b1fca298",
   "metadata": {},
   "outputs": [
    {
     "name": "stderr",
     "output_type": "stream",
     "text": [
      "This method is deprecated. Please use the AlternatingLeastSquares class instead\n",
      "WARNING:root:Intel MKL BLAS detected. Its highly recommend to set the environment variable 'export MKL_NUM_THREADS=1' to disable its internal multithreading\n"
     ]
    },
    {
     "data": {
      "application/vnd.jupyter.widget-view+json": {
       "model_id": "b318dbd096f2455a9334f2637d89f0fc",
       "version_major": 2,
       "version_minor": 0
      },
      "text/plain": [
       "  0%|          | 0/50 [00:00<?, ?it/s]"
      ]
     },
     "metadata": {},
     "output_type": "display_data"
    }
   ],
   "source": [
    "alpha = 15\n",
    "user_vecs, item_vecs = implicit.alternating_least_squares((product_train*alpha).astype('double'), \n",
    "                                                          factors=20, \n",
    "                                                          regularization = 0.1, \n",
    "                                                         iterations = 50)"
   ]
  },
  {
   "cell_type": "code",
   "execution_count": 30,
   "id": "bf3bd78c",
   "metadata": {},
   "outputs": [],
   "source": [
    "def auc_score(predictions, test):\n",
    "    '''\n",
    "    This simple function will output the area under the curve using sklearn's metrics. \n",
    "    \n",
    "    parameters:\n",
    "    \n",
    "    - predictions: your prediction output\n",
    "    \n",
    "    - test: the actual target result you are comparing to\n",
    "    \n",
    "    returns:\n",
    "    \n",
    "    - AUC (area under the Receiver Operating Characterisic curve)\n",
    "    '''\n",
    "    fpr, tpr, thresholds = metrics.roc_curve(test, predictions)\n",
    "    return metrics.auc(fpr, tpr)   "
   ]
  },
  {
   "cell_type": "code",
   "execution_count": 31,
   "id": "63303dbe",
   "metadata": {},
   "outputs": [],
   "source": [
    "def calc_mean_auc(training_set, altered_users, predictions, test_set):\n",
    "    '''\n",
    "    This function will calculate the mean AUC by user for any user that had their user-item matrix altered. \n",
    "    \n",
    "    parameters:\n",
    "    \n",
    "    training_set - The training set resulting from make_train, where a certain percentage of the original\n",
    "    user/item interactions are reset to zero to hide them from the model \n",
    "    \n",
    "    predictions - The matrix of your predicted ratings for each user/item pair as output from the implicit MF.\n",
    "    These should be stored in a list, with user vectors as item zero and item vectors as item one. \n",
    "    \n",
    "    altered_users - The indices of the users where at least one user/item pair was altered from make_train function\n",
    "    \n",
    "    test_set - The test set constucted earlier from make_train function\n",
    "    \n",
    "    \n",
    "    \n",
    "    returns:\n",
    "    \n",
    "    The mean AUC (area under the Receiver Operator Characteristic curve) of the test set only on user-item interactions\n",
    "    there were originally zero to test ranking ability in addition to the most popular items as a benchmark.\n",
    "    '''\n",
    "    \n",
    "    \n",
    "    store_auc = [] # An empty list to store the AUC for each user that had an item removed from the training set\n",
    "    popularity_auc = [] # To store popular AUC scores\n",
    "    pop_items = np.array(test_set.sum(axis = 0)).reshape(-1) # Get sum of item iteractions to find most popular\n",
    "    item_vecs = predictions[1]\n",
    "    for user in altered_users: # Iterate through each user that had an item altered\n",
    "        training_row = training_set[user,:].toarray().reshape(-1) # Get the training set row\n",
    "        zero_inds = np.where(training_row == 0) # Find where the interaction had not yet occurred\n",
    "        # Get the predicted values based on our user/item vectors\n",
    "        user_vec = predictions[0][user,:]\n",
    "        pred = user_vec.dot(item_vecs).toarray()[0,zero_inds].reshape(-1)\n",
    "        # Get only the items that were originally zero\n",
    "        # Select all ratings from the MF prediction for this user that originally had no iteraction\n",
    "        actual = test_set[user,:].toarray()[0,zero_inds].reshape(-1) \n",
    "        # Select the binarized yes/no interaction pairs from the original full data\n",
    "        # that align with the same pairs in training \n",
    "        pop = pop_items[zero_inds] # Get the item popularity for our chosen items\n",
    "        store_auc.append(auc_score(pred, actual)) # Calculate AUC for the given user and store\n",
    "        popularity_auc.append(auc_score(pop, actual)) # Calculate AUC using most popular and score\n",
    "    # End users iteration\n",
    "    \n",
    "    return float('%.3f'%np.mean(store_auc)), float('%.3f'%np.mean(popularity_auc))  \n",
    "   # Return the mean AUC rounded to three decimal places for both test and popularity benchmark"
   ]
  },
  {
   "cell_type": "code",
   "execution_count": 32,
   "id": "d235b6e1",
   "metadata": {},
   "outputs": [
    {
     "data": {
      "text/plain": [
       "(0.875, 0.817)"
      ]
     },
     "execution_count": 32,
     "metadata": {},
     "output_type": "execute_result"
    }
   ],
   "source": [
    "calc_mean_auc(product_train, product_users_altered, \n",
    "              [sparse.csr_matrix(user_vecs), sparse.csr_matrix(item_vecs.T)], product_test)\n",
    "# AUC for our recommender system"
   ]
  },
  {
   "cell_type": "markdown",
   "id": "c4de1c41",
   "metadata": {},
   "source": [
    "Our recommender system beat popularity. **Our system** had a mean **AUC of 0.876**, while the **popular item benchmark** had a lower **AUC of 0.817**"
   ]
  },
  {
   "cell_type": "markdown",
   "id": "713c92f1",
   "metadata": {},
   "source": [
    "An AUC of 0.876 means the system is recommending items the user in fact **had purchased in the test set far more frequently** than items the user **never ended up** purchasing"
   ]
  },
  {
   "cell_type": "code",
   "execution_count": 33,
   "id": "79e6e37e",
   "metadata": {},
   "outputs": [],
   "source": [
    "customers_arr = np.array(list(np.sort(purchases.CustomerID.unique()))) # Array of customer IDs from the ratings matrix\n",
    "products_arr = np.array(list(purchases.StockCode.unique())) # Array of product IDs from the ratings matrix"
   ]
  },
  {
   "cell_type": "code",
   "execution_count": 34,
   "id": "9031086f",
   "metadata": {},
   "outputs": [
    {
     "data": {
      "text/plain": [
       "array([12346, 12347, 12348, ..., 18282, 18283, 18287], dtype=int64)"
      ]
     },
     "execution_count": 34,
     "metadata": {},
     "output_type": "execute_result"
    }
   ],
   "source": [
    "customers_arr"
   ]
  },
  {
   "cell_type": "markdown",
   "id": "d76c1f2e",
   "metadata": {},
   "source": [
    "## List of the item descriptions from the earlier created item lookup table."
   ]
  },
  {
   "cell_type": "code",
   "execution_count": 35,
   "id": "f9abf1d4",
   "metadata": {},
   "outputs": [],
   "source": [
    "def get_items_purchased(customer_id, mf_train, customers_list, products_list, item_lookup):\n",
    "    '''\n",
    "    This just tells me which items have been already purchased by a specific user in the training set. \n",
    "    \n",
    "    parameters: \n",
    "    \n",
    "    customer_id - Input the customer's id number that you want to see prior purchases of at least once\n",
    "    \n",
    "    mf_train - The initial ratings training set used (without weights applied)\n",
    "    \n",
    "    customers_list - The array of customers used in the ratings matrix\n",
    "    \n",
    "    products_list - The array of products used in the ratings matrix\n",
    "    \n",
    "    item_lookup - A simple pandas dataframe of the unique product ID/product descriptions available\n",
    "    \n",
    "    returns:\n",
    "    \n",
    "    A list of item IDs and item descriptions for a particular customer that were already purchased in the training set\n",
    "    '''\n",
    "    cust_ind = np.where(customers_list == customer_id)[0][0] # Returns the index row of our customer id\n",
    "    purchased_ind = mf_train[cust_ind,:].nonzero()[1] # Get column indices of purchased items\n",
    "    prod_codes = products_list[purchased_ind] # Get the stock codes for our purchased items\n",
    "    return item_lookup.loc[item_lookup.StockCode.isin(prod_codes)]"
   ]
  },
  {
   "cell_type": "code",
   "execution_count": 36,
   "id": "db060a4c",
   "metadata": {},
   "outputs": [
    {
     "data": {
      "text/plain": [
       "array([12346, 12347, 12348, 12349, 12350], dtype=int64)"
      ]
     },
     "execution_count": 36,
     "metadata": {},
     "output_type": "execute_result"
    }
   ],
   "source": [
    "customers_arr[:5]"
   ]
  },
  {
   "cell_type": "markdown",
   "id": "a51c7dde",
   "metadata": {},
   "source": [
    "### Item bought by client with id number 12350"
   ]
  },
  {
   "cell_type": "code",
   "execution_count": 37,
   "id": "2b169da2",
   "metadata": {
    "scrolled": true
   },
   "outputs": [
    {
     "data": {
      "text/html": [
       "<div>\n",
       "<style scoped>\n",
       "    .dataframe tbody tr th:only-of-type {\n",
       "        vertical-align: middle;\n",
       "    }\n",
       "\n",
       "    .dataframe tbody tr th {\n",
       "        vertical-align: top;\n",
       "    }\n",
       "\n",
       "    .dataframe thead th {\n",
       "        text-align: right;\n",
       "    }\n",
       "</style>\n",
       "<table border=\"1\" class=\"dataframe\">\n",
       "  <thead>\n",
       "    <tr style=\"text-align: right;\">\n",
       "      <th></th>\n",
       "      <th>StockCode</th>\n",
       "      <th>Description</th>\n",
       "    </tr>\n",
       "  </thead>\n",
       "  <tbody>\n",
       "    <tr>\n",
       "      <th>10108</th>\n",
       "      <td>22283</td>\n",
       "      <td>6 EGG HOUSE PAINTED WOOD</td>\n",
       "    </tr>\n",
       "  </tbody>\n",
       "</table>\n",
       "</div>"
      ],
      "text/plain": [
       "      StockCode               Description\n",
       "10108     22283  6 EGG HOUSE PAINTED WOOD"
      ]
     },
     "execution_count": 37,
     "metadata": {},
     "output_type": "execute_result"
    }
   ],
   "source": [
    "get_items_purchased(12346, product_train, customers_arr, products_arr, items)"
   ]
  },
  {
   "cell_type": "markdown",
   "id": "db19d354",
   "metadata": {},
   "source": [
    "## What items does the recommender system say this customer should purchase?"
   ]
  },
  {
   "cell_type": "code",
   "execution_count": 38,
   "id": "2bcd7b57",
   "metadata": {},
   "outputs": [],
   "source": [
    "def rec_items(customer_id, mf_train, user_vecs, item_vecs, customer_list, item_list, item_lookup, num_items = 10):\n",
    "    '''\n",
    "    This function will return the top recommended items to our users \n",
    "    \n",
    "    parameters:\n",
    "    \n",
    "    customer_id - Input the customer's id number that you want to get recommendations for\n",
    "    \n",
    "    mf_train - The training matrix you used for matrix factorization fitting\n",
    "    \n",
    "    user_vecs - the user vectors from your fitted matrix factorization\n",
    "    \n",
    "    item_vecs - the item vectors from your fitted matrix factorization\n",
    "    \n",
    "    customer_list - an array of the customer's ID numbers that make up the rows of your ratings matrix \n",
    "                    (in order of matrix)\n",
    "    \n",
    "    item_list - an array of the products that make up the columns of your ratings matrix\n",
    "                    (in order of matrix)\n",
    "    \n",
    "    item_lookup - A simple pandas dataframe of the unique product ID/product descriptions available\n",
    "    \n",
    "    num_items - The number of items you want to recommend in order of best recommendations. Default is 10. \n",
    "    \n",
    "    returns:\n",
    "    \n",
    "    - The top n recommendations chosen based on the user/item vectors for items never interacted with/purchased\n",
    "    '''\n",
    "    \n",
    "    cust_ind = np.where(customer_list == customer_id)[0][0] # Returns the index row of our customer id\n",
    "    pref_vec = mf_train[cust_ind,:].toarray() # Get the ratings from the training set ratings matrix\n",
    "    pref_vec = pref_vec.reshape(-1) + 1 # Add 1 to everything, so that items not purchased yet become equal to 1\n",
    "    pref_vec[pref_vec > 1] = 0 # Make everything already purchased zero\n",
    "    rec_vector = user_vecs[cust_ind,:].dot(item_vecs.T) # Get dot product of user vector and all item vectors\n",
    "    # Scale this recommendation vector between 0 and 1\n",
    "    min_max = MinMaxScaler()\n",
    "    rec_vector_scaled = min_max.fit_transform(rec_vector.reshape(-1,1))[:,0] \n",
    "    recommend_vector = pref_vec*rec_vector_scaled \n",
    "    # Items already purchased have their recommendation multiplied by zero\n",
    "    product_idx = np.argsort(recommend_vector)[::-1][:num_items] # Sort the indices of the items into order \n",
    "    # of best recommendations\n",
    "    rec_list = [] # start empty list to store items\n",
    "    for index in product_idx:\n",
    "        code = item_list[index]\n",
    "        rec_list.append([code, item_lookup.Description.loc[item_lookup.StockCode == code].iloc[0]]) \n",
    "        # Append our descriptions to the list\n",
    "    codes = [item[0] for item in rec_list]\n",
    "    descriptions = [item[1] for item in rec_list]\n",
    "    final_frame = pd.DataFrame({'StockCode': codes, 'Description': descriptions}) # Create a dataframe \n",
    "    return final_frame[['StockCode', 'Description']] # Switch order of columns around"
   ]
  },
  {
   "cell_type": "code",
   "execution_count": 39,
   "id": "ea822c44",
   "metadata": {},
   "outputs": [
    {
     "data": {
      "text/html": [
       "<div>\n",
       "<style scoped>\n",
       "    .dataframe tbody tr th:only-of-type {\n",
       "        vertical-align: middle;\n",
       "    }\n",
       "\n",
       "    .dataframe tbody tr th {\n",
       "        vertical-align: top;\n",
       "    }\n",
       "\n",
       "    .dataframe thead th {\n",
       "        text-align: right;\n",
       "    }\n",
       "</style>\n",
       "<table border=\"1\" class=\"dataframe\">\n",
       "  <thead>\n",
       "    <tr style=\"text-align: right;\">\n",
       "      <th></th>\n",
       "      <th>StockCode</th>\n",
       "      <th>Description</th>\n",
       "    </tr>\n",
       "  </thead>\n",
       "  <tbody>\n",
       "    <tr>\n",
       "      <th>0</th>\n",
       "      <td>22473</td>\n",
       "      <td>TV DINNER TRAY VINTAGE PAISLEY</td>\n",
       "    </tr>\n",
       "    <tr>\n",
       "      <th>1</th>\n",
       "      <td>22282</td>\n",
       "      <td>12 EGG HOUSE PAINTED WOOD</td>\n",
       "    </tr>\n",
       "    <tr>\n",
       "      <th>2</th>\n",
       "      <td>21015</td>\n",
       "      <td>DARK BIRD HOUSE TREE DECORATION</td>\n",
       "    </tr>\n",
       "    <tr>\n",
       "      <th>3</th>\n",
       "      <td>35965</td>\n",
       "      <td>FOLKART HEART NAPKIN RINGS</td>\n",
       "    </tr>\n",
       "    <tr>\n",
       "      <th>4</th>\n",
       "      <td>21949</td>\n",
       "      <td>SET OF 6 STRAWBERRY CHOPSTICKS</td>\n",
       "    </tr>\n",
       "    <tr>\n",
       "      <th>5</th>\n",
       "      <td>35911A</td>\n",
       "      <td>MULTICOLOUR RABBIT EGG WARMER</td>\n",
       "    </tr>\n",
       "    <tr>\n",
       "      <th>6</th>\n",
       "      <td>21948</td>\n",
       "      <td>SET OF 6 CAKE CHOPSTICKS</td>\n",
       "    </tr>\n",
       "    <tr>\n",
       "      <th>7</th>\n",
       "      <td>23154</td>\n",
       "      <td>SET OF 4 JAM JAR MAGNETS</td>\n",
       "    </tr>\n",
       "    <tr>\n",
       "      <th>8</th>\n",
       "      <td>22610</td>\n",
       "      <td>PENS ASSORTED FUNNY FACE</td>\n",
       "    </tr>\n",
       "    <tr>\n",
       "      <th>9</th>\n",
       "      <td>22311</td>\n",
       "      <td>OFFICE MUG WARMER BLACK+SILVER</td>\n",
       "    </tr>\n",
       "  </tbody>\n",
       "</table>\n",
       "</div>"
      ],
      "text/plain": [
       "  StockCode                      Description\n",
       "0     22473   TV DINNER TRAY VINTAGE PAISLEY\n",
       "1     22282        12 EGG HOUSE PAINTED WOOD\n",
       "2     21015  DARK BIRD HOUSE TREE DECORATION\n",
       "3     35965       FOLKART HEART NAPKIN RINGS\n",
       "4     21949   SET OF 6 STRAWBERRY CHOPSTICKS\n",
       "5    35911A    MULTICOLOUR RABBIT EGG WARMER\n",
       "6     21948         SET OF 6 CAKE CHOPSTICKS\n",
       "7     23154         SET OF 4 JAM JAR MAGNETS\n",
       "8     22610         PENS ASSORTED FUNNY FACE\n",
       "9     22311  OFFICE MUG WARMER BLACK+SILVER "
      ]
     },
     "execution_count": 39,
     "metadata": {},
     "output_type": "execute_result"
    }
   ],
   "source": [
    "rec_items(12346, product_train, user_vecs, item_vecs, customers_arr, products_arr, items,\n",
    "                       num_items = 10)"
   ]
  },
  {
   "cell_type": "code",
   "execution_count": null,
   "id": "991851a5",
   "metadata": {},
   "outputs": [],
   "source": []
  }
 ],
 "metadata": {
  "kernelspec": {
   "display_name": "Python 3",
   "language": "python",
   "name": "python3"
  },
  "language_info": {
   "codemirror_mode": {
    "name": "ipython",
    "version": 3
   },
   "file_extension": ".py",
   "mimetype": "text/x-python",
   "name": "python",
   "nbconvert_exporter": "python",
   "pygments_lexer": "ipython3",
   "version": "3.8.8"
  }
 },
 "nbformat": 4,
 "nbformat_minor": 5
}
