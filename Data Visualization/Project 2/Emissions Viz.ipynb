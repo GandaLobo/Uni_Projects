{
 "cells": [
  {
   "cell_type": "code",
   "execution_count": 7,
   "metadata": {},
   "outputs": [],
   "source": [
    "import dash\n",
    "import dash_core_components as dcc\n",
    "import dash_html_components as html\n",
    "import pandas as pd\n",
    "import numpy as np\n",
    "\n",
    "import geopandas as gpd\n",
    "import plotly.express as px\n",
    "    \n",
    "from dash.dependencies import Input, Output\n",
    "from plotly import graph_objs as go\n",
    "from plotly.graph_objs import *\n",
    "from datetime import datetime as dt"
   ]
  },
  {
   "cell_type": "code",
   "execution_count": 74,
   "metadata": {
    "scrolled": false
   },
   "outputs": [],
   "source": [
    "w = pd.read_csv(\"w.csv\")"
   ]
  },
  {
   "cell_type": "code",
   "execution_count": 78,
   "metadata": {},
   "outputs": [
    {
     "data": {
      "text/html": [
       "<div>\n",
       "<style scoped>\n",
       "    .dataframe tbody tr th:only-of-type {\n",
       "        vertical-align: middle;\n",
       "    }\n",
       "\n",
       "    .dataframe tbody tr th {\n",
       "        vertical-align: top;\n",
       "    }\n",
       "\n",
       "    .dataframe thead th {\n",
       "        text-align: right;\n",
       "    }\n",
       "</style>\n",
       "<table border=\"1\" class=\"dataframe\">\n",
       "  <thead>\n",
       "    <tr style=\"text-align: right;\">\n",
       "      <th></th>\n",
       "      <th>name</th>\n",
       "      <th>year</th>\n",
       "      <th>value</th>\n",
       "      <th>category</th>\n",
       "      <th>iso_a3</th>\n",
       "    </tr>\n",
       "  </thead>\n",
       "  <tbody>\n",
       "    <tr>\n",
       "      <th>0</th>\n",
       "      <td>Australia</td>\n",
       "      <td>2014</td>\n",
       "      <td>393126.946994</td>\n",
       "      <td>carbon_dioxide_co2_emissions_without_land_use_...</td>\n",
       "      <td>AUS</td>\n",
       "    </tr>\n",
       "    <tr>\n",
       "      <th>1</th>\n",
       "      <td>Australia</td>\n",
       "      <td>2013</td>\n",
       "      <td>396913.936530</td>\n",
       "      <td>carbon_dioxide_co2_emissions_without_land_use_...</td>\n",
       "      <td>AUS</td>\n",
       "    </tr>\n",
       "    <tr>\n",
       "      <th>2</th>\n",
       "      <td>Australia</td>\n",
       "      <td>2012</td>\n",
       "      <td>406462.847704</td>\n",
       "      <td>carbon_dioxide_co2_emissions_without_land_use_...</td>\n",
       "      <td>AUS</td>\n",
       "    </tr>\n",
       "    <tr>\n",
       "      <th>3</th>\n",
       "      <td>Australia</td>\n",
       "      <td>2011</td>\n",
       "      <td>403705.528314</td>\n",
       "      <td>carbon_dioxide_co2_emissions_without_land_use_...</td>\n",
       "      <td>AUS</td>\n",
       "    </tr>\n",
       "    <tr>\n",
       "      <th>4</th>\n",
       "      <td>Australia</td>\n",
       "      <td>2010</td>\n",
       "      <td>406200.993184</td>\n",
       "      <td>carbon_dioxide_co2_emissions_without_land_use_...</td>\n",
       "      <td>AUS</td>\n",
       "    </tr>\n",
       "    <tr>\n",
       "      <th>...</th>\n",
       "      <td>...</td>\n",
       "      <td>...</td>\n",
       "      <td>...</td>\n",
       "      <td>...</td>\n",
       "      <td>...</td>\n",
       "    </tr>\n",
       "    <tr>\n",
       "      <th>8401</th>\n",
       "      <td>United States of America</td>\n",
       "      <td>1994</td>\n",
       "      <td>593.222570</td>\n",
       "      <td>unspecified_mix_of_hydrofluorocarbons_hfcs_and...</td>\n",
       "      <td>USA</td>\n",
       "    </tr>\n",
       "    <tr>\n",
       "      <th>8402</th>\n",
       "      <td>United States of America</td>\n",
       "      <td>1993</td>\n",
       "      <td>586.939752</td>\n",
       "      <td>unspecified_mix_of_hydrofluorocarbons_hfcs_and...</td>\n",
       "      <td>USA</td>\n",
       "    </tr>\n",
       "    <tr>\n",
       "      <th>8403</th>\n",
       "      <td>United States of America</td>\n",
       "      <td>1992</td>\n",
       "      <td>574.414624</td>\n",
       "      <td>unspecified_mix_of_hydrofluorocarbons_hfcs_and...</td>\n",
       "      <td>USA</td>\n",
       "    </tr>\n",
       "    <tr>\n",
       "      <th>8404</th>\n",
       "      <td>United States of America</td>\n",
       "      <td>1991</td>\n",
       "      <td>566.900968</td>\n",
       "      <td>unspecified_mix_of_hydrofluorocarbons_hfcs_and...</td>\n",
       "      <td>USA</td>\n",
       "    </tr>\n",
       "    <tr>\n",
       "      <th>8405</th>\n",
       "      <td>United States of America</td>\n",
       "      <td>1990</td>\n",
       "      <td>293.205663</td>\n",
       "      <td>unspecified_mix_of_hydrofluorocarbons_hfcs_and...</td>\n",
       "      <td>USA</td>\n",
       "    </tr>\n",
       "  </tbody>\n",
       "</table>\n",
       "<p>8406 rows × 5 columns</p>\n",
       "</div>"
      ],
      "text/plain": [
       "                          name  year          value  \\\n",
       "0                    Australia  2014  393126.946994   \n",
       "1                    Australia  2013  396913.936530   \n",
       "2                    Australia  2012  406462.847704   \n",
       "3                    Australia  2011  403705.528314   \n",
       "4                    Australia  2010  406200.993184   \n",
       "...                        ...   ...            ...   \n",
       "8401  United States of America  1994     593.222570   \n",
       "8402  United States of America  1993     586.939752   \n",
       "8403  United States of America  1992     574.414624   \n",
       "8404  United States of America  1991     566.900968   \n",
       "8405  United States of America  1990     293.205663   \n",
       "\n",
       "                                               category iso_a3  \n",
       "0     carbon_dioxide_co2_emissions_without_land_use_...    AUS  \n",
       "1     carbon_dioxide_co2_emissions_without_land_use_...    AUS  \n",
       "2     carbon_dioxide_co2_emissions_without_land_use_...    AUS  \n",
       "3     carbon_dioxide_co2_emissions_without_land_use_...    AUS  \n",
       "4     carbon_dioxide_co2_emissions_without_land_use_...    AUS  \n",
       "...                                                 ...    ...  \n",
       "8401  unspecified_mix_of_hydrofluorocarbons_hfcs_and...    USA  \n",
       "8402  unspecified_mix_of_hydrofluorocarbons_hfcs_and...    USA  \n",
       "8403  unspecified_mix_of_hydrofluorocarbons_hfcs_and...    USA  \n",
       "8404  unspecified_mix_of_hydrofluorocarbons_hfcs_and...    USA  \n",
       "8405  unspecified_mix_of_hydrofluorocarbons_hfcs_and...    USA  \n",
       "\n",
       "[8406 rows x 5 columns]"
      ]
     },
     "execution_count": 78,
     "metadata": {},
     "output_type": "execute_result"
    }
   ],
   "source": [
    "w"
   ]
  },
  {
   "cell_type": "code",
   "execution_count": 80,
   "metadata": {
    "scrolled": true
   },
   "outputs": [],
   "source": [
    "w = w[w[\"category\"]==\"carbon_dioxide_co2_emissions_without_land_use_land_use_change_and_forestry_lulucf_in_kilotonne_co2_equivalent\"]"
   ]
  },
  {
   "cell_type": "code",
   "execution_count": 72,
   "metadata": {},
   "outputs": [
    {
     "data": {
      "text/html": [
       "<div>\n",
       "<style scoped>\n",
       "    .dataframe tbody tr th:only-of-type {\n",
       "        vertical-align: middle;\n",
       "    }\n",
       "\n",
       "    .dataframe tbody tr th {\n",
       "        vertical-align: top;\n",
       "    }\n",
       "\n",
       "    .dataframe thead th {\n",
       "        text-align: right;\n",
       "    }\n",
       "</style>\n",
       "<table border=\"1\" class=\"dataframe\">\n",
       "  <thead>\n",
       "    <tr style=\"text-align: right;\">\n",
       "      <th></th>\n",
       "      <th>iso_a3</th>\n",
       "      <th>value</th>\n",
       "      <th>category</th>\n",
       "    </tr>\n",
       "  </thead>\n",
       "  <tbody>\n",
       "    <tr>\n",
       "      <th>0</th>\n",
       "      <td>AUS</td>\n",
       "      <td>393126.946994</td>\n",
       "      <td>carbon_dioxide_co2_emissions_without_land_use_...</td>\n",
       "    </tr>\n",
       "    <tr>\n",
       "      <th>1</th>\n",
       "      <td>AUS</td>\n",
       "      <td>396913.936530</td>\n",
       "      <td>carbon_dioxide_co2_emissions_without_land_use_...</td>\n",
       "    </tr>\n",
       "    <tr>\n",
       "      <th>2</th>\n",
       "      <td>AUS</td>\n",
       "      <td>406462.847704</td>\n",
       "      <td>carbon_dioxide_co2_emissions_without_land_use_...</td>\n",
       "    </tr>\n",
       "    <tr>\n",
       "      <th>3</th>\n",
       "      <td>AUS</td>\n",
       "      <td>403705.528314</td>\n",
       "      <td>carbon_dioxide_co2_emissions_without_land_use_...</td>\n",
       "    </tr>\n",
       "    <tr>\n",
       "      <th>4</th>\n",
       "      <td>AUS</td>\n",
       "      <td>406200.993184</td>\n",
       "      <td>carbon_dioxide_co2_emissions_without_land_use_...</td>\n",
       "    </tr>\n",
       "    <tr>\n",
       "      <th>...</th>\n",
       "      <td>...</td>\n",
       "      <td>...</td>\n",
       "      <td>...</td>\n",
       "    </tr>\n",
       "    <tr>\n",
       "      <th>8401</th>\n",
       "      <td>USA</td>\n",
       "      <td>593.222570</td>\n",
       "      <td>unspecified_mix_of_hydrofluorocarbons_hfcs_and...</td>\n",
       "    </tr>\n",
       "    <tr>\n",
       "      <th>8402</th>\n",
       "      <td>USA</td>\n",
       "      <td>586.939752</td>\n",
       "      <td>unspecified_mix_of_hydrofluorocarbons_hfcs_and...</td>\n",
       "    </tr>\n",
       "    <tr>\n",
       "      <th>8403</th>\n",
       "      <td>USA</td>\n",
       "      <td>574.414624</td>\n",
       "      <td>unspecified_mix_of_hydrofluorocarbons_hfcs_and...</td>\n",
       "    </tr>\n",
       "    <tr>\n",
       "      <th>8404</th>\n",
       "      <td>USA</td>\n",
       "      <td>566.900968</td>\n",
       "      <td>unspecified_mix_of_hydrofluorocarbons_hfcs_and...</td>\n",
       "    </tr>\n",
       "    <tr>\n",
       "      <th>8405</th>\n",
       "      <td>USA</td>\n",
       "      <td>293.205663</td>\n",
       "      <td>unspecified_mix_of_hydrofluorocarbons_hfcs_and...</td>\n",
       "    </tr>\n",
       "  </tbody>\n",
       "</table>\n",
       "<p>8406 rows × 3 columns</p>\n",
       "</div>"
      ],
      "text/plain": [
       "     iso_a3          value                                           category\n",
       "0       AUS  393126.946994  carbon_dioxide_co2_emissions_without_land_use_...\n",
       "1       AUS  396913.936530  carbon_dioxide_co2_emissions_without_land_use_...\n",
       "2       AUS  406462.847704  carbon_dioxide_co2_emissions_without_land_use_...\n",
       "3       AUS  403705.528314  carbon_dioxide_co2_emissions_without_land_use_...\n",
       "4       AUS  406200.993184  carbon_dioxide_co2_emissions_without_land_use_...\n",
       "...     ...            ...                                                ...\n",
       "8401    USA     593.222570  unspecified_mix_of_hydrofluorocarbons_hfcs_and...\n",
       "8402    USA     586.939752  unspecified_mix_of_hydrofluorocarbons_hfcs_and...\n",
       "8403    USA     574.414624  unspecified_mix_of_hydrofluorocarbons_hfcs_and...\n",
       "8404    USA     566.900968  unspecified_mix_of_hydrofluorocarbons_hfcs_and...\n",
       "8405    USA     293.205663  unspecified_mix_of_hydrofluorocarbons_hfcs_and...\n",
       "\n",
       "[8406 rows x 3 columns]"
      ]
     },
     "execution_count": 72,
     "metadata": {},
     "output_type": "execute_result"
    }
   ],
   "source": [
    "w[['iso_a3','value',\"category\"]]"
   ]
  },
  {
   "cell_type": "code",
   "execution_count": null,
   "metadata": {},
   "outputs": [],
   "source": [
    "w= w.drop(columns=\"pop_est\")"
   ]
  },
  {
   "cell_type": "code",
   "execution_count": 39,
   "metadata": {},
   "outputs": [
    {
     "data": {
      "text/plain": [
       "array(['carbon_dioxide_co2_emissions_without_land_use_land_use_change_and_forestry_lulucf_in_kilotonne_co2_equivalent',\n",
       "       'greenhouse_gas_ghgs_emissions_including_indirect_co2_without_lulucf_in_kilotonne_co2_equivalent',\n",
       "       'greenhouse_gas_ghgs_emissions_without_land_use_land_use_change_and_forestry_lulucf_in_kilotonne_co2_equivalent',\n",
       "       'hydrofluorocarbons_hfcs_emissions_in_kilotonne_co2_equivalent',\n",
       "       'methane_ch4_emissions_without_land_use_land_use_change_and_forestry_lulucf_in_kilotonne_co2_equivalent',\n",
       "       'nitrogen_trifluoride_nf3_emissions_in_kilotonne_co2_equivalent',\n",
       "       'nitrous_oxide_n2o_emissions_without_land_use_land_use_change_and_forestry_lulucf_in_kilotonne_co2_equivalent',\n",
       "       'perfluorocarbons_pfcs_emissions_in_kilotonne_co2_equivalent',\n",
       "       'sulphur_hexafluoride_sf6_emissions_in_kilotonne_co2_equivalent',\n",
       "       'unspecified_mix_of_hydrofluorocarbons_hfcs_and_perfluorocarbons_pfcs_emissions_in_kilotonne_co2_equivalent'],\n",
       "      dtype=object)"
      ]
     },
     "execution_count": 39,
     "metadata": {},
     "output_type": "execute_result"
    }
   ],
   "source": [
    "w.category.unique()"
   ]
  },
  {
   "cell_type": "code",
   "execution_count": 44,
   "metadata": {},
   "outputs": [],
   "source": [
    "fig= px.choropleth(w, \n",
    "                   color = \"category\",\n",
    "                   color_continuous_scale=\"turbid\",\n",
    "                   range_color=(),\n",
    "                   animation_frame=\"value\",\n",
    "                   locations=w[\"iso_a3\"],\n",
    "                   title='Gas Emissions by year',\n",
    "                   locationmode='ISO-3',\n",
    "                  height = 600)"
   ]
  },
  {
   "cell_type": "code",
   "execution_count": 81,
   "metadata": {},
   "outputs": [],
   "source": [
    "fig4 = px.choropleth(w,\n",
    "                         locations=\"iso_a3\",\n",
    "                         animation_frame=\"year\",\n",
    "                         color=\"value\",\n",
    "                         color_continuous_scale=\"turbid\",\n",
    "                         locationmode='ISO-3',\n",
    "                         scope=\"world\",\n",
    "                         range_color=(),\n",
    "                         title='Gas Emissions by year',\n",
    "                         height=600\n",
    "                         )"
   ]
  },
  {
   "cell_type": "code",
   "execution_count": 82,
   "metadata": {},
   "outputs": [
    {
     "data": {
      "application/vnd.plotly.v1+json": {
       "config": {
        "plotlyServerURL": "https://plot.ly"
       },
       "data": [
        {
         "coloraxis": "coloraxis",
         "geo": "geo",
         "hovertemplate": "year=2014<br>iso_a3=%{location}<br>value=%{z}<extra></extra>",
         "locationmode": "ISO-3",
         "locations": [
          "AUS",
          "AUT",
          "BLR",
          "BEL",
          "BGR",
          "CAN",
          "HRV",
          "CYP",
          null,
          "DNK",
          "EST",
          null,
          "FIN",
          "-99",
          "DEU",
          "GRC",
          "HUN",
          "ISL",
          "IRL",
          "ITA",
          "JPN",
          "LVA",
          null,
          "LTU",
          "LUX",
          null,
          "NLD",
          "NZL",
          "-99",
          "POL",
          "PRT",
          "ROU",
          null,
          "SVK",
          "SVN",
          "ESP",
          "SWE",
          "CHE",
          "TUR",
          "UKR",
          "GBR",
          "USA"
         ],
         "name": "",
         "type": "choropleth",
         "z": [
          393126.946994288,
          64262.5639931315,
          60615.645730992,
          96325.4131833302,
          45139.955286201,
          574099.775511611,
          17607.3224145688,
          6878.555308563,
          101159.12216724,
          37460.6564588265,
          18918.7153387101,
          3463397.56376209,
          47597.7335272535,
          341152.531504158,
          792902.788025434,
          79628.2743994757,
          43573.4088387418,
          3272.20823296511,
          36559.0685812916,
          342826.677130676,
          1265490.60931631,
          7158.71803669862,
          161.541816662752,
          12732.798863701,
          9826.25327758284,
          2483.5367864507,
          157789.581719585,
          35616.9853050414,
          43869.4510924803,
          310307.297357959,
          48353.6903302063,
          74046.4676268308,
          1671568.65225681,
          33387.4287224285,
          13489.9800352085,
          253466.917957776,
          43404.9031709849,
          39265.0525915552,
          382213.401686307,
          247561.22104158,
          434794.556933168,
          5556006.57780565
         ]
        }
       ],
       "frames": [
        {
         "data": [
          {
           "coloraxis": "coloraxis",
           "geo": "geo",
           "hovertemplate": "year=2014<br>iso_a3=%{location}<br>value=%{z}<extra></extra>",
           "locationmode": "ISO-3",
           "locations": [
            "AUS",
            "AUT",
            "BLR",
            "BEL",
            "BGR",
            "CAN",
            "HRV",
            "CYP",
            null,
            "DNK",
            "EST",
            null,
            "FIN",
            "-99",
            "DEU",
            "GRC",
            "HUN",
            "ISL",
            "IRL",
            "ITA",
            "JPN",
            "LVA",
            null,
            "LTU",
            "LUX",
            null,
            "NLD",
            "NZL",
            "-99",
            "POL",
            "PRT",
            "ROU",
            null,
            "SVK",
            "SVN",
            "ESP",
            "SWE",
            "CHE",
            "TUR",
            "UKR",
            "GBR",
            "USA"
           ],
           "name": "",
           "type": "choropleth",
           "z": [
            393126.946994288,
            64262.5639931315,
            60615.645730992,
            96325.4131833302,
            45139.955286201,
            574099.775511611,
            17607.3224145688,
            6878.555308563,
            101159.12216724,
            37460.6564588265,
            18918.7153387101,
            3463397.56376209,
            47597.7335272535,
            341152.531504158,
            792902.788025434,
            79628.2743994757,
            43573.4088387418,
            3272.20823296511,
            36559.0685812916,
            342826.677130676,
            1265490.60931631,
            7158.71803669862,
            161.541816662752,
            12732.798863701,
            9826.25327758284,
            2483.5367864507,
            157789.581719585,
            35616.9853050414,
            43869.4510924803,
            310307.297357959,
            48353.6903302063,
            74046.4676268308,
            1671568.65225681,
            33387.4287224285,
            13489.9800352085,
            253466.917957776,
            43404.9031709849,
            39265.0525915552,
            382213.401686307,
            247561.22104158,
            434794.556933168,
            5556006.57780565
           ]
          }
         ],
         "name": "2014"
        },
        {
         "data": [
          {
           "coloraxis": "coloraxis",
           "geo": "geo",
           "hovertemplate": "year=2013<br>iso_a3=%{location}<br>value=%{z}<extra></extra>",
           "locationmode": "ISO-3",
           "locations": [
            "AUS",
            "AUT",
            "BLR",
            "BEL",
            "BGR",
            "CAN",
            "HRV",
            "CYP",
            null,
            "DNK",
            "EST",
            null,
            "FIN",
            "-99",
            "DEU",
            "GRC",
            "HUN",
            "ISL",
            "IRL",
            "ITA",
            "JPN",
            "LVA",
            null,
            "LTU",
            "LUX",
            null,
            null,
            "NLD",
            "NZL",
            "-99",
            "POL",
            "PRT",
            "ROU",
            null,
            "SVK",
            "SVN",
            "ESP",
            "SWE",
            "CHE",
            "TUR",
            "UKR",
            "GBR",
            "USA"
           ],
           "name": "",
           "type": "choropleth",
           "z": [
            396913.93653029,
            67957.1211123863,
            61510.987153813,
            101744.736736883,
            42534.9272034699,
            573094.038846396,
            18359.4998410627,
            6449.610812027,
            106477.08866661,
            41537.0358081307,
            19566.3683734371,
            3646389.52530377,
            51834.6967381541,
            369985.594525824,
            835792.632256705,
            82910.6259583055,
            43930.8781767816,
            3301.79631376577,
            37049.4238313976,
            362063.649296268,
            1311509.14921749,
            7353.22044369415,
            192.864415788715,
            12987.8175314716,
            10303.0396071267,
            2476.07442909592,
            74.4309201897803,
            165475.88439356,
            35094.2867396817,
            44309.0559727695,
            322440.486501595,
            48495.550477338,
            74083.358238036,
            1666644.42307436,
            35395.1548629239,
            15148.7253832075,
            252259.690488153,
            44899.1519357186,
            43181.6594395143,
            354961.042273042,
            287436.404374375,
            475832.050586927,
            5502550.71398641
           ]
          }
         ],
         "name": "2013"
        },
        {
         "data": [
          {
           "coloraxis": "coloraxis",
           "geo": "geo",
           "hovertemplate": "year=2012<br>iso_a3=%{location}<br>value=%{z}<extra></extra>",
           "locationmode": "ISO-3",
           "locations": [
            "AUS",
            "AUT",
            "BLR",
            "BEL",
            "BGR",
            "CAN",
            "HRV",
            "CYP",
            null,
            "DNK",
            "EST",
            null,
            "FIN",
            "-99",
            "DEU",
            "GRC",
            "HUN",
            "ISL",
            "IRL",
            "ITA",
            "JPN",
            "LVA",
            null,
            "LTU",
            "LUX",
            null,
            null,
            "NLD",
            "NZL",
            "-99",
            "POL",
            "PRT",
            "ROU",
            null,
            "SVK",
            "SVN",
            "ESP",
            "SWE",
            "CHE",
            "TUR",
            "UKR",
            "GBR",
            "USA"
           ],
           "name": "",
           "type": "choropleth",
           "z": [
            406462.8477036,
            67698.6586349119,
            60636.851387067,
            100931.595609756,
            48117.5560830313,
            563423.613154917,
            18776.3813482483,
            7160.971875548,
            109841.328902436,
            39524.4020330104,
            17304.6372276438,
            3728965.03097874,
            50983.2728750769,
            370491.153703148,
            817031.440197659,
            90710.5742463723,
            46774.9448452999,
            3290.57643132926,
            38031.6187161936,
            389340.763399181,
            1296186.35836425,
            7521.1225279261,
            185.63243136026,
            13975.5232139658,
            10872.0644823704,
            2868.63812814327,
            75.1655688427013,
            165665.023774753,
            35621.0260193518,
            44553.9656597819,
            326597.790549729,
            50262.4224416189,
            84661.2305445011,
            1727489.10411795,
            35867.8962742317,
            15800.18723876,
            279830.308257069,
            46559.6400230299,
            42241.5536052143,
            363126.007248006,
            295706.064347456,
            484388.090389505,
            5349220.94664921
           ]
          }
         ],
         "name": "2012"
        },
        {
         "data": [
          {
           "coloraxis": "coloraxis",
           "geo": "geo",
           "hovertemplate": "year=2011<br>iso_a3=%{location}<br>value=%{z}<extra></extra>",
           "locationmode": "ISO-3",
           "locations": [
            "AUS",
            "AUT",
            "BLR",
            "BEL",
            "BGR",
            "CAN",
            "HRV",
            "CYP",
            null,
            "DNK",
            "EST",
            null,
            "FIN",
            "-99",
            "DEU",
            "GRC",
            "HUN",
            "ISL",
            "IRL",
            "ITA",
            "JPN",
            "LVA",
            null,
            "LTU",
            "LUX",
            null,
            null,
            "NLD",
            "NZL",
            "-99",
            "POL",
            "PRT",
            "ROU",
            null,
            "SVK",
            "SVN",
            "ESP",
            "SWE",
            "CHE",
            "TUR",
            "UKR",
            "GBR",
            "USA"
           ],
           "name": "",
           "type": "choropleth",
           "z": [
            403705.528313991,
            70327.1670444138,
            61128.400592577,
            104945.713770963,
            53020.9811161954,
            558152.72293811,
            20614.4404738916,
            7696.667805268,
            114113.146744787,
            43970.7892561051,
            18449.9308643309,
            3789763.64094378,
            56478.7455886964,
            368183.438441815,
            812483.219621071,
            94102.9439816174,
            50272.8651021622,
            3298.56768958589,
            37895.1954270366,
            416499.534208263,
            1261862.93795353,
            7807.65940956673,
            177.088040245414,
            13919.0154984666,
            11168.5116663343,
            2785.89656845722,
            71.8818954508995,
            169792.136541403,
            34366.5826844218,
            44946.8693532922,
            333713.650695256,
            52150.653443811,
            86163.6343263804,
            1717221.95058062,
            37880.8531455433,
            16348.2391107374,
            283918.679194864,
            49133.5869433916,
            40973.1491672158,
            338094.408177677,
            301273.502167972,
            464885.748926953,
            5559507.66443653
           ]
          }
         ],
         "name": "2011"
        },
        {
         "data": [
          {
           "coloraxis": "coloraxis",
           "geo": "geo",
           "hovertemplate": "year=2010<br>iso_a3=%{location}<br>value=%{z}<extra></extra>",
           "locationmode": "ISO-3",
           "locations": [
            "AUS",
            "AUT",
            "BLR",
            "BEL",
            "BGR",
            "CAN",
            "HRV",
            "CYP",
            null,
            "DNK",
            "EST",
            null,
            "FIN",
            "-99",
            "DEU",
            "GRC",
            "HUN",
            "ISL",
            "IRL",
            "ITA",
            "JPN",
            "LVA",
            null,
            "LTU",
            "LUX",
            null,
            null,
            "NLD",
            "NZL",
            "-99",
            "POL",
            "PRT",
            "ROU",
            null,
            "SVK",
            "SVN",
            "ESP",
            "SWE",
            "CHE",
            "TUR",
            "UKR",
            "GBR",
            "USA"
           ],
           "name": "",
           "type": "choropleth",
           "z": [
            406200.993184341,
            72531.826129136,
            61632.492704327,
            114155.386728776,
            47678.6489573594,
            555003.760260925,
            21183.709310531,
            8004.912020822,
            115757.36858641,
            48993.4173755474,
            17833.779609149,
            3933290.52224844,
            63828.0182275297,
            394235.674136659,
            832259.203309583,
            97035.0827603655,
            52108.8927624657,
            3383.55221868805,
            41558.2750861697,
            428879.681194381,
            1212970.22514141,
            8524.08722660934,
            191.047501716787,
            13618.9126645228,
            11285.0274171344,
            2690.51803520544,
            75.4682651256747,
            182529.786939532,
            35017.2413542609,
            45833.8920681508,
            334026.154705205,
            53583.8858598739,
            80795.7740259277,
            1662592.25855081,
            38385.9425232062,
            16363.4297727931,
            283581.400657324,
            53057.7346342268,
            45027.0644798623,
            320356.658972933,
            287113.606385185,
            507595.711988819,
            5688756.00501015
           ]
          }
         ],
         "name": "2010"
        },
        {
         "data": [
          {
           "coloraxis": "coloraxis",
           "geo": "geo",
           "hovertemplate": "year=2009<br>iso_a3=%{location}<br>value=%{z}<extra></extra>",
           "locationmode": "ISO-3",
           "locations": [
            "AUS",
            "AUT",
            "BLR",
            "BEL",
            "BGR",
            "CAN",
            "HRV",
            "CYP",
            null,
            "DNK",
            "EST",
            null,
            "FIN",
            "-99",
            "DEU",
            "GRC",
            "HUN",
            "ISL",
            "IRL",
            "ITA",
            "JPN",
            "LVA",
            null,
            "LTU",
            "LUX",
            null,
            null,
            "NLD",
            "NZL",
            "-99",
            "POL",
            "PRT",
            "ROU",
            null,
            "SVK",
            "SVN",
            "ESP",
            "SWE",
            "CHE",
            "TUR",
            "UKR",
            "GBR",
            "USA"
           ],
           "name": "",
           "type": "choropleth",
           "z": [
            408448.47899963,
            67682.7251493548,
            59596.205375555,
            107282.543508312,
            45487.8735503956,
            542829.458896225,
            21965.6352675347,
            8372.396591774,
            113970.029219436,
            48592.2113851369,
            14153.005161794,
            3814305.25795781,
            55635.5827690138,
            383957.624293905,
            788422.437923384,
            103969.78429385,
            51630.6900244073,
            3521.8907096149,
            41996.3246778451,
            418881.076903293,
            1162606.19176432,
            7443.28601054364,
            205.590543733379,
            12727.12003622,
            10725.5221348792,
            2684.52129301397,
            77.7719361035662,
            170796.156580042,
            34806.4020881589,
            43212.0924688473,
            315937.965878291,
            58004.1969738053,
            85288.2940231284,
            1576703.96685802,
            37433.4334191131,
            16328.2103332782,
            296617.991048484,
            47267.4466673127,
            43509.0865581053,
            310580.701035275,
            269598.421828219,
            489012.500484764,
            5488320.28042503
           ]
          }
         ],
         "name": "2009"
        },
        {
         "data": [
          {
           "coloraxis": "coloraxis",
           "geo": "geo",
           "hovertemplate": "year=2008<br>iso_a3=%{location}<br>value=%{z}<extra></extra>",
           "locationmode": "ISO-3",
           "locations": [
            "AUS",
            "AUT",
            "BLR",
            "BEL",
            "BGR",
            "CAN",
            "HRV",
            "CYP",
            null,
            "DNK",
            "EST",
            null,
            "FIN",
            "-99",
            "DEU",
            "GRC",
            "HUN",
            "ISL",
            "IRL",
            "ITA",
            "JPN",
            "LVA",
            null,
            "LTU",
            "LUX",
            null,
            null,
            "NLD",
            "NZL",
            "-99",
            "POL",
            "PRT",
            "ROU",
            null,
            "SVK",
            "SVN",
            "ESP",
            "SWE",
            "CHE",
            "TUR",
            "UKR",
            "GBR",
            "USA"
           ],
           "name": "",
           "type": "choropleth",
           "z": [
            404237.828214077,
            74066.2557920763,
            63846.103794367,
            120362.609842562,
            53655.1401671903,
            577444.930222255,
            23715.3843178607,
            8620.395581741,
            121780.716313732,
            50935.6715289027,
            17264.5200333765,
            4149624.29618927,
            58461.6330236854,
            401878.86465183,
            853229.940752254,
            110255.765521907,
            57325.1623293437,
            3567.20925966227,
            47175.5402654915,
            467933.59324447,
            1235455.81022118,
            8184.97124654311,
            219.698915477856,
            14963.2547162584,
            11245.8724868627,
            2822.40616690519,
            81.376901087813,
            176174.418350642,
            37674.0517694367,
            44893.0941871551,
            329338.171084879,
            60550.0402031828,
            101035.420806089,
            1684999.82263502,
            41236.324036934,
            18219.7304323115,
            335994.803720112,
            50831.5768143801,
            44676.9439665557,
            323536.545145816,
            317063.843729194,
            539916.163191626,
            5923201.37582301
           ]
          }
         ],
         "name": "2008"
        },
        {
         "data": [
          {
           "coloraxis": "coloraxis",
           "geo": "geo",
           "hovertemplate": "year=2007<br>iso_a3=%{location}<br>value=%{z}<extra></extra>",
           "locationmode": "ISO-3",
           "locations": [
            "AUS",
            "AUT",
            "BLR",
            "BEL",
            "BGR",
            "CAN",
            "HRV",
            "CYP",
            null,
            "DNK",
            "EST",
            null,
            "FIN",
            "-99",
            "DEU",
            "GRC",
            "HUN",
            "ISL",
            "IRL",
            "ITA",
            "JPN",
            "LVA",
            null,
            "LTU",
            "LUX",
            null,
            null,
            "NLD",
            "NZL",
            "-99",
            "POL",
            "PRT",
            "ROU",
            null,
            "SVK",
            "SVN",
            "ESP",
            "SWE",
            "CHE",
            "TUR",
            "UKR",
            "GBR",
            "USA"
           ],
           "name": "",
           "type": "choropleth",
           "z": [
            398816.453543549,
            74268.1107226333,
            61563.881729088,
            118027.408646158,
            55184.4241047849,
            596041.321973836,
            24955.3759314165,
            8458.664261444,
            126933.162985254,
            54429.0851744511,
            18755.6479305233,
            4244213.12941646,
            66531.7208142561,
            408508.589897444,
            850795.7207597,
            114127.554270902,
            58419.0391671472,
            3236.89533653359,
            47493.1266838399,
            478237.711240526,
            1319799.19357988,
            8610.25539674785,
            200.920107913985,
            15624.07633974,
            11398.7059208596,
            2831.64226468627,
            82.7191922532151,
            173178.420395882,
            36651.3714858119,
            45842.8095311711,
            336268.110889212,
            62791.1477666385,
            104540.350942151,
            1653139.05550251,
            40725.2998364864,
            17272.3791866788,
            367292.283251434,
            52911.7267272877,
            43360.3856976932,
            333166.418749646,
            330087.250809744,
            553719.939024983,
            6121653.86307212
           ]
          }
         ],
         "name": "2007"
        },
        {
         "data": [
          {
           "coloraxis": "coloraxis",
           "geo": "geo",
           "hovertemplate": "year=2006<br>iso_a3=%{location}<br>value=%{z}<extra></extra>",
           "locationmode": "ISO-3",
           "locations": [
            "AUS",
            "AUT",
            "BLR",
            "BEL",
            "BGR",
            "CAN",
            "HRV",
            "CYP",
            null,
            "DNK",
            "EST",
            null,
            "FIN",
            "-99",
            "DEU",
            "GRC",
            "HUN",
            "ISL",
            "IRL",
            "ITA",
            "JPN",
            "LVA",
            null,
            "LTU",
            "LUX",
            null,
            null,
            "NLD",
            "NZL",
            "-99",
            "POL",
            "PRT",
            "ROU",
            null,
            "SVK",
            "SVN",
            "ESP",
            "SWE",
            "CHE",
            "TUR",
            "UKR",
            "GBR",
            "USA"
           ],
           "name": "",
           "type": "choropleth",
           "z": [
            391134.100909449,
            76934.9515340371,
            62229.398882869,
            122319.593759433,
            51446.2829381283,
            573479.269701141,
            23684.9350307817,
            8152.492308125,
            125923.402444959,
            59162.4996316885,
            15719.5289253761,
            4297988.16195699,
            68201.9059970754,
            417662.678913825,
            877422.45689212,
            111777.743714104,
            59751.7310814697,
            2939.27659673656,
            47405.9667288105,
            486594.066569872,
            1285177.83728116,
            8289.2066784209,
            231.217305115884,
            14303.032680413,
            11995.820174914,
            2776.31430670588,
            82.1239180016564,
            172772.892779103,
            37519.1047271712,
            43913.7448222241,
            336500.578934838,
            65465.41971559,
            106175.991142102,
            1653289.19267186,
            42320.4844795718,
            17129.8019864058,
            360063.336319558,
            53697.6559330674,
            45351.1719954308,
            302195.954579745,
            325586.622022044,
            562083.094783584,
            6042393.61487176
           ]
          }
         ],
         "name": "2006"
        },
        {
         "data": [
          {
           "coloraxis": "coloraxis",
           "geo": "geo",
           "hovertemplate": "year=2005<br>iso_a3=%{location}<br>value=%{z}<extra></extra>",
           "locationmode": "ISO-3",
           "locations": [
            "AUS",
            "AUT",
            "BLR",
            "BEL",
            "BGR",
            "CAN",
            "HRV",
            "CYP",
            null,
            "DNK",
            "EST",
            null,
            "FIN",
            "-99",
            "DEU",
            "GRC",
            "HUN",
            "ISL",
            "IRL",
            "ITA",
            "JPN",
            "LVA",
            null,
            "LTU",
            "LUX",
            null,
            null,
            "NLD",
            "NZL",
            "-99",
            "POL",
            "PRT",
            "ROU",
            null,
            "SVK",
            "SVN",
            "ESP",
            "SWE",
            "CHE",
            "TUR",
            "UKR",
            "GBR",
            "USA"
           ],
           "name": "",
           "type": "choropleth",
           "z": [
            385581.132806466,
            79588.5018807541,
            59664.73908178,
            125118.016504076,
            50191.1160644292,
            579225.335719904,
            23451.8458466746,
            7961.983988964,
            124590.137925265,
            51307.2445174626,
            16330.7338304477,
            4290586.66799942,
            56912.3148929823,
            428557.610248936,
            865958.513395873,
            113219.822395958,
            60329.5050120849,
            2797.31459197845,
            47952.2043880837,
            490914.262890322,
            1305938.82350271,
            7790.40393195636,
            228.970323897819,
            13946.8843032497,
            12130.9137942819,
            2736.31293358517,
            88.7506912513649,
            177540.473199828,
            37645.434299041,
            43548.2302876495,
            323372.578397668,
            70034.5294076015,
            102414.252372896,
            1593933.34385535,
            42581.0225015084,
            16938.3242617391,
            368745.068407983,
            53859.2057258473,
            45778.0894571267,
            279130.740814477,
            307341.483489843,
            563783.537554562,
            6122746.6118598
           ]
          }
         ],
         "name": "2005"
        },
        {
         "data": [
          {
           "coloraxis": "coloraxis",
           "geo": "geo",
           "hovertemplate": "year=2004<br>iso_a3=%{location}<br>value=%{z}<extra></extra>",
           "locationmode": "ISO-3",
           "locations": [
            "AUS",
            "AUT",
            "BLR",
            "BEL",
            "BGR",
            "CAN",
            "HRV",
            "CYP",
            null,
            "DNK",
            "EST",
            null,
            "FIN",
            "-99",
            "DEU",
            "GRC",
            "HUN",
            "ISL",
            "IRL",
            "ITA",
            "JPN",
            "LVA",
            null,
            "LTU",
            "LUX",
            null,
            null,
            "NLD",
            "NZL",
            "-99",
            "POL",
            "PRT",
            "ROU",
            null,
            "SVK",
            "SVN",
            "ESP",
            "SWE",
            "CHE",
            "TUR",
            "UKR",
            "GBR",
            "USA"
           ],
           "name": "",
           "type": "choropleth",
           "z": [
            381519.261592783,
            78388.9974250799,
            58457.64761596,
            128640.48346799,
            49170.3376894348,
            585414.860574334,
            23005.2348535353,
            7776.909404745,
            126876.916162316,
            54916.9105639724,
            17055.0742451822,
            4314560.87112777,
            68821.8128908428,
            423168.636085445,
            886344.629703686,
            109571.060909579,
            60231.6619844867,
            2837.02901057771,
            46042.4022484132,
            492746.255602992,
            1298433.88847959,
            7709.46076182043,
            229.296321626453,
            13185.4933655222,
            11871.1077184731,
            2604.74483182786,
            90.2005037527358,
            181546.25702136,
            36063.663329171,
            44320.0048845842,
            324279.449842642,
            67458.1591415789,
            104575.077756967,
            1575180.85973468,
            42576.9588896981,
            16639.1710998347,
            353472.612328343,
            56428.8031427144,
            45149.667089312,
            253172.078433031,
            296753.731531998,
            566598.164015122,
            6096978.36306809
           ]
          }
         ],
         "name": "2004"
        },
        {
         "data": [
          {
           "coloraxis": "coloraxis",
           "geo": "geo",
           "hovertemplate": "year=2003<br>iso_a3=%{location}<br>value=%{z}<extra></extra>",
           "locationmode": "ISO-3",
           "locations": [
            "AUS",
            "AUT",
            "BLR",
            "BEL",
            "BGR",
            "CAN",
            "HRV",
            "CYP",
            null,
            "DNK",
            "EST",
            null,
            "FIN",
            "-99",
            "DEU",
            "GRC",
            "HUN",
            "ISL",
            "IRL",
            "ITA",
            "JPN",
            "LVA",
            null,
            "LTU",
            "LUX",
            null,
            null,
            "NLD",
            "NZL",
            "-99",
            "POL",
            "PRT",
            "ROU",
            null,
            "SVK",
            "SVN",
            "ESP",
            "SWE",
            "CHE",
            "TUR",
            "UKR",
            "GBR",
            "USA"
           ],
           "name": "",
           "type": "choropleth",
           "z": [
            368345.977425107,
            78023.9538963192,
            54845.145835185,
            127523.989700176,
            49971.1515762142,
            587306.678537712,
            23355.2211046544,
            7550.081927808,
            126151.648802001,
            60493.9617162995,
            16833.2142927367,
            4306103.94478558,
            72522.5901920366,
            422312.884466797,
            900377.585440517,
            109126.567554916,
            61766.839595491,
            2792.72313185368,
            45554.322521515,
            489595.50811926,
            1299490.60851261,
            7703.77150791307,
            229.265875097937,
            12605.2382016521,
            10443.3832173203,
            2666.13432525932,
            95.2988549787458,
            179867.888967448,
            36497.1710064703,
            43906.7096554175,
            320230.170467384,
            64697.2992169906,
            105737.481034365,
            1568510.14348381,
            42060.5502497607,
            16289.385897298,
            336672.422515549,
            57203.5990740056,
            44587.9802671018,
            240902.462872633,
            285720.47993753,
            565475.5203474,
            5982289.16712555
           ]
          }
         ],
         "name": "2003"
        },
        {
         "data": [
          {
           "coloraxis": "coloraxis",
           "geo": "geo",
           "hovertemplate": "year=2002<br>iso_a3=%{location}<br>value=%{z}<extra></extra>",
           "locationmode": "ISO-3",
           "locations": [
            "AUS",
            "AUT",
            "BLR",
            "BEL",
            "BGR",
            "CAN",
            "HRV",
            "CYP",
            null,
            "DNK",
            "EST",
            null,
            "FIN",
            "-99",
            "DEU",
            "GRC",
            "HUN",
            "ISL",
            "IRL",
            "ITA",
            "JPN",
            "LVA",
            null,
            "LTU",
            "LUX",
            null,
            null,
            "NLD",
            "NZL",
            "-99",
            "POL",
            "PRT",
            "ROU",
            null,
            "SVK",
            "SVN",
            "ESP",
            "SWE",
            "CHE",
            "TUR",
            "UKR",
            "GBR",
            "USA"
           ],
           "name": "",
           "type": "choropleth",
           "z": [
            361861.387896028,
            72126.5914446168,
            53843.704423847,
            126015.194675856,
            45786.2947197982,
            569862.145645112,
            22031.1266650621,
            7160.388457603,
            122593.400101873,
            55339.6716999691,
            15020.2841500601,
            4208860.12268355,
            64946.4682059915,
            413569.247853298,
            899161.567421003,
            105051.466199101,
            58968.2277702584,
            2795.90731167373,
            45952.7301698154,
            473504.059244666,
            1294399.19841025,
            7508.74324201186,
            219.947204551546,
            12614.4250089828,
            10068.1403163216,
            2464.21222943374,
            98.1612757195457,
            176462.400587543,
            34768.2781829264,
            42655.8748276072,
            307535.642199397,
            69954.4945153443,
            100655.31311867,
            1531200.21174359,
            41593.5332476528,
            16526.3127114803,
            332200.842752654,
            56631.8961687906,
            43373.9855504706,
            226365.412047989,
            281939.349721843,
            554227.635799311,
            5935738.78360961
           ]
          }
         ],
         "name": "2002"
        },
        {
         "data": [
          {
           "coloraxis": "coloraxis",
           "geo": "geo",
           "hovertemplate": "year=2001<br>iso_a3=%{location}<br>value=%{z}<extra></extra>",
           "locationmode": "ISO-3",
           "locations": [
            "AUS",
            "AUT",
            "BLR",
            "BEL",
            "BGR",
            "CAN",
            "HRV",
            "CYP",
            null,
            "DNK",
            "EST",
            null,
            "FIN",
            "-99",
            "DEU",
            "GRC",
            "HUN",
            "ISL",
            "IRL",
            "ITA",
            "JPN",
            "LVA",
            null,
            "LTU",
            "LUX",
            null,
            null,
            "NLD",
            "NZL",
            "-99",
            "POL",
            "PRT",
            "ROU",
            null,
            "SVK",
            "SVN",
            "ESP",
            "SWE",
            "CHE",
            "TUR",
            "UKR",
            "GBR",
            "USA"
           ],
           "name": "",
           "type": "choropleth",
           "z": [
            357653.329899303,
            70299.4711482287,
            53783.847673632,
            125649.370538717,
            48568.9178318705,
            564617.020300164,
            20943.1099586839,
            6969.466175788,
            125541.536474736,
            55845.147180549,
            15493.8609887605,
            4232036.86327499,
            62442.6400686017,
            417864.70558616,
            915634.439635279,
            105407.307598309,
            59995.7344751382,
            2710.29472706565,
            47482.7207784323,
            471124.276709558,
            1257384.56001844,
            7480.50260667025,
            214.585310816839,
            12507.9666751041,
            9311.91612729174,
            2550.60406083421,
            98.5488680526432,
            177037.401595998,
            34581.7227646535,
            43530.3487635507,
            315274.093567475,
            66113.7557093707,
            100377.986962722,
            1542500.06477849,
            43468.0933515512,
            16384.7561407934,
            312395.403164009,
            55686.7457499206,
            45002.2787742299,
            217469.503285608,
            290774.709706588,
            570697.030328595,
            5894462.94151346
           ]
          }
         ],
         "name": "2001"
        },
        {
         "data": [
          {
           "coloraxis": "coloraxis",
           "geo": "geo",
           "hovertemplate": "year=2000<br>iso_a3=%{location}<br>value=%{z}<extra></extra>",
           "locationmode": "ISO-3",
           "locations": [
            "AUS",
            "AUT",
            "BLR",
            "BEL",
            "BGR",
            "CAN",
            "HRV",
            "CYP",
            null,
            "DNK",
            "EST",
            null,
            "FIN",
            "-99",
            "DEU",
            "GRC",
            "HUN",
            "ISL",
            "IRL",
            "ITA",
            "JPN",
            "LVA",
            null,
            "LTU",
            "LUX",
            null,
            null,
            "NLD",
            "NZL",
            "-99",
            "POL",
            "PRT",
            "ROU",
            null,
            "SVK",
            "SVN",
            "ESP",
            "SWE",
            "CHE",
            "TUR",
            "UKR",
            "GBR",
            "USA"
           ],
           "name": "",
           "type": "choropleth",
           "z": [
            349885.433108928,
            66274.7432545115,
            53686.857490672,
            126315.209948975,
            44896.670545605,
            572290.385518472,
            19789.1217501208,
            7095.964384675,
            125841.969268613,
            54148.9049729906,
            15141.3877177023,
            4165145.4407136,
            56973.3505273429,
            417116.544673865,
            899284.993390718,
            103019.664690088,
            58336.8070649933,
            2728.93748510151,
            45123.3354422644,
            465175.073350703,
            1274297.98807522,
            7069.94204019894,
            216.750456413769,
            11801.964898672,
            8798.1820808658,
            2414.28381121499,
            98.3243559267737,
            172059.812230581,
            32355.957023316,
            42194.6191784625,
            319120.405105406,
            66411.3299157974,
            95190.9034483113,
            1504182.72891476,
            41155.0114506149,
            15460.154173141,
            311599.723883928,
            54730.4244140378,
            43545.9597055165,
            232549.18950468,
            271429.773920677,
            561280.866183966,
            5992438.03977823
           ]
          }
         ],
         "name": "2000"
        },
        {
         "data": [
          {
           "coloraxis": "coloraxis",
           "geo": "geo",
           "hovertemplate": "year=1999<br>iso_a3=%{location}<br>value=%{z}<extra></extra>",
           "locationmode": "ISO-3",
           "locations": [
            "AUS",
            "AUT",
            "BLR",
            "BEL",
            "BGR",
            "CAN",
            "HRV",
            "CYP",
            null,
            "DNK",
            "EST",
            null,
            "FIN",
            "-99",
            "DEU",
            "GRC",
            "HUN",
            "ISL",
            "IRL",
            "ITA",
            "JPN",
            "LVA",
            null,
            "LTU",
            "LUX",
            null,
            null,
            "NLD",
            "NZL",
            "-99",
            "POL",
            "PRT",
            "ROU",
            null,
            "SVK",
            "SVN",
            "ESP",
            "SWE",
            "CHE",
            "TUR",
            "UKR",
            "GBR",
            "USA"
           ],
           "name": "",
           "type": "choropleth",
           "z": [
            343713.906947774,
            65660.1336422327,
            55033.952116896,
            124208.071769964,
            45751.789097251,
            550183.063388038,
            20215.653226001,
            6847.659115972,
            115475.259995958,
            58456.4158198368,
            15518.4906207187,
            4139002.99479822,
            58872.9308028447,
            420506.321957388,
            895336.786172859,
            97979.7783523224,
            61593.1410164197,
            2655.39472544564,
            42302.0878630807,
            459840.64226897,
            1253082.14716425,
            7709.04999256645,
            226.448838014394,
            13422.1511465775,
            7986.15588056852,
            2418.55556461069,
            100.659281930126,
            171228.109552445,
            31523.1860916854,
            42691.7563679429,
            329380.898350257,
            67612.8118918815,
            90443.3507659838,
            1512651.93084896,
            43181.3144851094,
            15353.0714374852,
            298531.027913034,
            55861.2192155216,
            44354.5431186679,
            206388.619824108,
            284109.569319534,
            553827.549146135,
            5818972.3854139
           ]
          }
         ],
         "name": "1999"
        },
        {
         "data": [
          {
           "coloraxis": "coloraxis",
           "geo": "geo",
           "hovertemplate": "year=1998<br>iso_a3=%{location}<br>value=%{z}<extra></extra>",
           "locationmode": "ISO-3",
           "locations": [
            "AUS",
            "AUT",
            "BLR",
            "BEL",
            "BGR",
            "CAN",
            "HRV",
            "CYP",
            null,
            "DNK",
            "EST",
            null,
            "FIN",
            "-99",
            "DEU",
            "GRC",
            "HUN",
            "ISL",
            "IRL",
            "ITA",
            "JPN",
            "LVA",
            null,
            "LTU",
            "LUX",
            null,
            null,
            "NLD",
            "NZL",
            "-99",
            "POL",
            "PRT",
            "ROU",
            null,
            "SVK",
            "SVN",
            "ESP",
            "SWE",
            "CHE",
            "TUR",
            "UKR",
            "GBR",
            "USA"
           ],
           "name": "",
           "type": "choropleth",
           "z": [
            334328.142646602,
            67047.2506680177,
            57426.329584039,
            129737.090031462,
            52143.3567693638,
            533794.453645326,
            19372.3876004329,
            6580.296149717,
            123696.517294897,
            61117.3416291516,
            16684.3031468739,
            4207666.03163804,
            59351.4981462986,
            429051.499923046,
            922778.540047935,
            98663.1941625214,
            61087.7637948753,
            2450.23426342854,
            40572.1758596239,
            454967.633181096,
            1218257.76164334,
            8300.59527801083,
            229.11710392684,
            15901.5175726569,
            7619.36328997421,
            2338.06278770006,
            99.8168591352245,
            176617.168521043,
            29927.5013796907,
            41939.0379176034,
            339145.82962033,
            59976.20991864,
            106813.977529299,
            1476588.92527691,
            44016.9870017177,
            15980.4778466171,
            274911.096949235,
            58733.4063631372,
            44522.3714213249,
            208365.343988278,
            309207.662874893,
            561253.722845185,
            5744672.1958021
           ]
          }
         ],
         "name": "1998"
        },
        {
         "data": [
          {
           "coloraxis": "coloraxis",
           "geo": "geo",
           "hovertemplate": "year=1997<br>iso_a3=%{location}<br>value=%{z}<extra></extra>",
           "locationmode": "ISO-3",
           "locations": [
            "AUS",
            "AUT",
            "BLR",
            "BEL",
            "BGR",
            "CAN",
            "HRV",
            "CYP",
            null,
            "DNK",
            "EST",
            null,
            "FIN",
            "-99",
            "DEU",
            "GRC",
            "HUN",
            "ISL",
            "IRL",
            "ITA",
            "JPN",
            "LVA",
            null,
            "LTU",
            "LUX",
            null,
            null,
            "NLD",
            "NZL",
            "-99",
            "POL",
            "PRT",
            "ROU",
            null,
            "SVK",
            "SVN",
            "ESP",
            "SWE",
            "CHE",
            "TUR",
            "UKR",
            "GBR",
            "USA"
           ],
           "name": "",
           "type": "choropleth",
           "z": [
            320439.116819391,
            67455.8927304212,
            60971.816305307,
            123495.742758683,
            54790.1341566389,
            525120.011175522,
            18666.4669752133,
            6287.031657389,
            128732.638710869,
            65457.8348433241,
            18223.6042706384,
            4216524.73281421,
            62698.0867925088,
            407475.111806521,
            930768.560542915,
            93839.8699189575,
            61549.9124641614,
            2450.24391979067,
            38675.594023595,
            444055.433535223,
            1253057.30667741,
            8677.54581083478,
            218.235372862382,
            15086.2857611334,
            8530.7453454746,
            2331.95473493565,
            101.0844813444,
            175487.970753103,
            31363.4526194792,
            41683.1333687712,
            368415.853280443,
            55454.2110573498,
            123515.853269646,
            1502079.86636293,
            45040.2697406883,
            16275.5596667516,
            266391.92680196,
            58154.5297192918,
            42971.6244552183,
            208480.069613411,
            334208.702214892,
            557608.779401985,
            5704996.86860223
           ]
          }
         ],
         "name": "1997"
        },
        {
         "data": [
          {
           "coloraxis": "coloraxis",
           "geo": "geo",
           "hovertemplate": "year=1996<br>iso_a3=%{location}<br>value=%{z}<extra></extra>",
           "locationmode": "ISO-3",
           "locations": [
            "AUS",
            "AUT",
            "BLR",
            "BEL",
            "BGR",
            "CAN",
            "HRV",
            "CYP",
            null,
            "DNK",
            "EST",
            null,
            "FIN",
            "-99",
            "DEU",
            "GRC",
            "HUN",
            "ISL",
            "IRL",
            "ITA",
            "JPN",
            "LVA",
            null,
            "LTU",
            "LUX",
            null,
            null,
            "NLD",
            "NZL",
            "-99",
            "POL",
            "PRT",
            "ROU",
            null,
            "SVK",
            "SVN",
            "ESP",
            "SWE",
            "CHE",
            "TUR",
            "UKR",
            "GBR",
            "USA"
           ],
           "name": "",
           "type": "choropleth",
           "z": [
            311914.819824229,
            67667.2626980903,
            57251.355700374,
            129010.471708927,
            57581.194759982,
            510619.682210148,
            17587.8984604534,
            6156.132133961,
            132234.071786388,
            75110.840989738,
            18666.1359705806,
            4304793.28338046,
            64038.9222021128,
            414013.070054113,
            958368.724698229,
            89134.4253965711,
            62950.2532137021,
            2385.91382557077,
            37335.1081070614,
            440235.507200098,
            1255264.19757618,
            9216.3839879477,
            205.809089624326,
            15676.8310317989,
            9217.19030053529,
            2329.18169821771,
            102.31953844658,
            182573.582902116,
            29368.2649922759,
            41586.7085615304,
            377308.59613738,
            52348.4688110753,
            131939.69450211,
            1581293.21958917,
            44978.9115789435,
            15945.1761136753,
            253708.870128625,
            63238.7859377907,
            44088.3349466694,
            194751.7794059,
            344347.189394243,
            582752.784369152,
            5630113.71546884
           ]
          }
         ],
         "name": "1996"
        },
        {
         "data": [
          {
           "coloraxis": "coloraxis",
           "geo": "geo",
           "hovertemplate": "year=1995<br>iso_a3=%{location}<br>value=%{z}<extra></extra>",
           "locationmode": "ISO-3",
           "locations": [
            "AUS",
            "AUT",
            "BLR",
            "BEL",
            "BGR",
            "CAN",
            "HRV",
            "CYP",
            null,
            "DNK",
            "EST",
            null,
            "FIN",
            "-99",
            "DEU",
            "GRC",
            "HUN",
            "ISL",
            "IRL",
            "ITA",
            "JPN",
            "LVA",
            null,
            "LTU",
            "LUX",
            null,
            null,
            "NLD",
            "NZL",
            "-99",
            "POL",
            "PRT",
            "ROU",
            null,
            "SVK",
            "SVN",
            "ESP",
            "SWE",
            "CHE",
            "TUR",
            "UKR",
            "GBR",
            "USA"
           ],
           "name": "",
           "type": "choropleth",
           "z": [
            305162.543548735,
            64202.1592201769,
            56005.93938238,
            125519.441990638,
            57221.6062924032,
            497224.83692526,
            16992.8004192757,
            5848.043785196,
            129767.166426691,
            61914.1610128897,
            17953.7359736926,
            4204480.85553967,
            58126.247543133,
            401571.225451732,
            938148.0930919,
            86980.6457725937,
            61354.4620207158,
            2299.61365454463,
            35718.7485642434,
            447201.168755567,
            1242494.02197198,
            9141.35351650325,
            204.05592043076,
            15022.5441346944,
            9155.85264991365,
            2313.21608944717,
            98.9904298934365,
            173196.297429017,
            28143.4576273053,
            38464.9066615123,
            363885.777573228,
            55134.3294664048,
            128587.003639727,
            1629496.29767829,
            44679.5449583075,
            15277.7447752259,
            265725.3506663,
            59318.672714076,
            43368.4571561622,
            178812.409473623,
            380871.283680675,
            561202.9539948,
            5441599.22972902
           ]
          }
         ],
         "name": "1995"
        },
        {
         "data": [
          {
           "coloraxis": "coloraxis",
           "geo": "geo",
           "hovertemplate": "year=1994<br>iso_a3=%{location}<br>value=%{z}<extra></extra>",
           "locationmode": "ISO-3",
           "locations": [
            "AUS",
            "AUT",
            "BLR",
            "BEL",
            "BGR",
            "CAN",
            "HRV",
            "CYP",
            null,
            "DNK",
            "EST",
            null,
            "FIN",
            "-99",
            "DEU",
            "GRC",
            "HUN",
            "ISL",
            "IRL",
            "ITA",
            "JPN",
            "LVA",
            null,
            "LTU",
            "LUX",
            null,
            null,
            "NLD",
            "NZL",
            "-99",
            "POL",
            "PRT",
            "ROU",
            null,
            "SVK",
            "SVN",
            "ESP",
            "SWE",
            "CHE",
            "TUR",
            "UKR",
            "GBR",
            "USA"
           ],
           "name": "",
           "type": "choropleth",
           "z": [
            293830.709141192,
            61189.1025048542,
            62402.279082903,
            124426.885709848,
            55649.0813153431,
            482691.671271798,
            16342.1818762402,
            5977.257104602,
            129188.734109272,
            64988.7809040025,
            19626.4459432317,
            4161321.31739286,
            61696.3853292446,
            394536.962436592,
            939207.328236553,
            86425.8565118787,
            61568.3745934751,
            2248.36895252634,
            34696.485727221,
            421404.099922133,
            1228936.69128837,
            10399.1411291737,
            200.961153022994,
            15765.4147628091,
            11560.5716944518,
            2302.77027658996,
            101.872636286934,
            175008.703110698,
            27879.0592141093,
            38434.7651928654,
            362012.958757259,
            51303.2041493178,
            122610.776956391,
            1685494.54694021,
            43638.4901175531,
            14648.7255407292,
            252389.348341529,
            59876.998756461,
            42613.303737038,
            164623.553279146,
            409721.673978029,
            569458.364876459,
            5377492.21747199
           ]
          }
         ],
         "name": "1994"
        },
        {
         "data": [
          {
           "coloraxis": "coloraxis",
           "geo": "geo",
           "hovertemplate": "year=1993<br>iso_a3=%{location}<br>value=%{z}<extra></extra>",
           "locationmode": "ISO-3",
           "locations": [
            "AUS",
            "AUT",
            "BLR",
            "BEL",
            "BGR",
            "CAN",
            "HRV",
            "CYP",
            null,
            "DNK",
            "EST",
            null,
            "FIN",
            "-99",
            "DEU",
            "GRC",
            "HUN",
            "ISL",
            "IRL",
            "ITA",
            "JPN",
            "LVA",
            null,
            "LTU",
            "LUX",
            null,
            null,
            "NLD",
            "NZL",
            "-99",
            "POL",
            "PRT",
            "ROU",
            null,
            "SVK",
            "SVN",
            "ESP",
            "SWE",
            "CHE",
            "TUR",
            "UKR",
            "GBR",
            "USA"
           ],
           "name": "",
           "type": "choropleth",
           "z": [
            289142.267681326,
            60790.7577213156,
            75551.755291625,
            121156.964954729,
            57203.9355176784,
            467607.237235461,
            17081.2280227503,
            5733.674102128,
            135588.565572531,
            61038.6712439614,
            18810.9639158495,
            4177106.50927114,
            56333.26799423,
            394334.83380057,
            955977.599356065,
            84263.0078976228,
            63174.9783732307,
            2294.50464413142,
            33574.9717415815,
            429158.009174904,
            1167714.71812869,
            11966.1455063059,
            214.867690812009,
            16347.1718255148,
            12375.507079302,
            2252.06276712832,
            100.881938455885,
            171497.891064769,
            27697.2273476821,
            36520.7838206741,
            366427.660913436,
            50502.1225996005,
            124819.100092444,
            1909577.84022625,
            46467.5491941913,
            14303.9936504337,
            239938.287255991,
            57425.9514469075,
            43556.2764199287,
            167443.152055541,
            498504.838991931,
            574764.752712009,
            5284758.62020545
           ]
          }
         ],
         "name": "1993"
        },
        {
         "data": [
          {
           "coloraxis": "coloraxis",
           "geo": "geo",
           "hovertemplate": "year=1992<br>iso_a3=%{location}<br>value=%{z}<extra></extra>",
           "locationmode": "ISO-3",
           "locations": [
            "AUS",
            "AUT",
            "BLR",
            "BEL",
            "BGR",
            "CAN",
            "HRV",
            "CYP",
            null,
            "DNK",
            "EST",
            null,
            "FIN",
            "-99",
            "DEU",
            "GRC",
            "HUN",
            "ISL",
            "IRL",
            "ITA",
            "JPN",
            "LVA",
            null,
            "LTU",
            "LUX",
            null,
            null,
            "NLD",
            "NZL",
            "-99",
            "POL",
            "PRT",
            "ROU",
            null,
            "SVK",
            "SVN",
            "ESP",
            "SWE",
            "CHE",
            "TUR",
            "UKR",
            "GBR",
            "USA"
           ],
           "name": "",
           "type": "choropleth",
           "z": [
            284766.092717838,
            60432.2493410185,
            87060.81028961,
            122217.919518023,
            56551.5935722778,
            468546.458912059,
            16607.1344792414,
            5482.974869661,
            141565.719740237,
            58960.3115236108,
            24187.827575953,
            4259922.81188982,
            54264.3793101323,
            414955.076785321,
            965790.835271489,
            84949.0258298748,
            62050.1263972833,
            2172.61936326312,
            33344.1023763207,
            435535.835117712,
            1174619.00608734,
            14244.6533850411,
            206.776032802858,
            21207.8873890696,
            12253.5715940463,
            2174.6344662953,
            101.742603038854,
            170975.242888508,
            28099.6999900939,
            34833.2478178252,
            365865.15951878,
            51850.5656733148,
            132732.908743069,
            2013175.48242406,
            48979.1257649755,
            14009.3986307298,
            248407.160135641,
            57482.0646582609,
            45974.7025405505,
            158571.546483621,
            577064.259624575,
            589306.018141796,
            5170274.35048577
           ]
          }
         ],
         "name": "1992"
        },
        {
         "data": [
          {
           "coloraxis": "coloraxis",
           "geo": "geo",
           "hovertemplate": "year=1991<br>iso_a3=%{location}<br>value=%{z}<extra></extra>",
           "locationmode": "ISO-3",
           "locations": [
            "AUS",
            "AUT",
            "BLR",
            "BEL",
            "BGR",
            "CAN",
            "HRV",
            "CYP",
            null,
            "DNK",
            "EST",
            null,
            "FIN",
            "-99",
            "DEU",
            "GRC",
            "HUN",
            "ISL",
            "IRL",
            "ITA",
            "JPN",
            "LVA",
            null,
            "LTU",
            "LUX",
            null,
            null,
            "NLD",
            "NZL",
            "-99",
            "POL",
            "PRT",
            "ROU",
            null,
            "SVK",
            "SVN",
            "ESP",
            "SWE",
            "CHE",
            "TUR",
            "UKR",
            "GBR",
            "USA"
           ],
           "name": "",
           "type": "choropleth",
           "z": [
            279741.639011863,
            65903.513308256,
            93649.166141388,
            123130.652897225,
            59769.3415026104,
            454246.137946001,
            17268.9103457996,
            5107.082886881,
            146047.33959314,
            64874.8138594637,
            33662.372514403,
            4403723.16147676,
            55187.1794528947,
            425042.920702848,
            1014119.71977239,
            83390.3546805713,
            69392.7256389081,
            2042.93697601045,
            33508.44202382,
            435938.613895185,
            1164474.34578731,
            18021.1952417204,
            206.146706845605,
            37908.6124957275,
            12467.5131948589,
            2041.24609263112,
            96.1472045795796,
            171081.473914794,
            26108.064501553,
            34070.978364376,
            375684.15694778,
            47406.8424856753,
            143586.607530198,
            2433187.64541119,
            53447.4400150003,
            14007.2826135476,
            239725.183689106,
            57755.634675433,
            46144.809538993,
            152335.174224314,
            621305.236399432,
            604652.896877579,
            5064879.75034285
           ]
          }
         ],
         "name": "1991"
        },
        {
         "data": [
          {
           "coloraxis": "coloraxis",
           "geo": "geo",
           "hovertemplate": "year=1990<br>iso_a3=%{location}<br>value=%{z}<extra></extra>",
           "locationmode": "ISO-3",
           "locations": [
            "AUS",
            "AUT",
            "BLR",
            "BEL",
            "BGR",
            "CAN",
            "HRV",
            "CYP",
            null,
            "DNK",
            "EST",
            null,
            "FIN",
            "-99",
            "DEU",
            "GRC",
            "HUN",
            "ISL",
            "IRL",
            "ITA",
            "JPN",
            "LVA",
            null,
            "LTU",
            "LUX",
            null,
            null,
            "NLD",
            "NZL",
            "-99",
            "POL",
            "PRT",
            "ROU",
            null,
            "SVK",
            "SVN",
            "ESP",
            "SWE",
            "CHE",
            "TUR",
            "UKR",
            "GBR",
            "USA"
           ],
           "name": "",
           "type": "choropleth",
           "z": [
            278265.898940768,
            62297.1655681668,
            100438.095063708,
            119982.503418506,
            78197.8812570199,
            463493.332387577,
            23390.075209187,
            4621.007176785,
            161662.018871736,
            54306.4333356516,
            36666.0272974484,
            4462205.14458363,
            56950.8481820202,
            400652.624020681,
            1052238.2340002,
            83403.7199982216,
            73115.1986276439,
            2106.02606837613,
            32768.5267614461,
            436204.249867101,
            1155993.61991868,
            19794.2944546485,
            198.775112043709,
            35812.8936845412,
            11944.0073852812,
            1860.47364818374,
            95.3851833205759,
            162497.559622722,
            25419.7716716116,
            35694.8243978959,
            378782.539166168,
            45809.0714101803,
            174731.886787722,
            2589725.30553003,
            61837.5667856109,
            15088.3050462456,
            230154.963134126,
            57546.5432515479,
            44115.5340859731,
            146750.63697943,
            693024.76655995,
            596398.473207427,
            5115095.04749812
           ]
          }
         ],
         "name": "1990"
        }
       ],
       "layout": {
        "coloraxis": {
         "colorbar": {
          "title": {
           "text": "value"
          }
         },
         "colorscale": [
          [
           0,
           "rgb(232, 245, 171)"
          ],
          [
           0.09090909090909091,
           "rgb(220, 219, 137)"
          ],
          [
           0.18181818181818182,
           "rgb(209, 193, 107)"
          ],
          [
           0.2727272727272727,
           "rgb(199, 168, 83)"
          ],
          [
           0.36363636363636365,
           "rgb(186, 143, 66)"
          ],
          [
           0.45454545454545453,
           "rgb(170, 121, 60)"
          ],
          [
           0.5454545454545454,
           "rgb(151, 103, 58)"
          ],
          [
           0.6363636363636364,
           "rgb(129, 87, 56)"
          ],
          [
           0.7272727272727273,
           "rgb(104, 72, 53)"
          ],
          [
           0.8181818181818182,
           "rgb(80, 59, 46)"
          ],
          [
           0.9090909090909091,
           "rgb(57, 45, 37)"
          ],
          [
           1,
           "rgb(34, 30, 27)"
          ]
         ]
        },
        "geo": {
         "center": {},
         "domain": {
          "x": [
           0,
           1
          ],
          "y": [
           0,
           1
          ]
         },
         "scope": "world"
        },
        "height": 600,
        "legend": {
         "tracegroupgap": 0
        },
        "sliders": [
         {
          "active": 0,
          "currentvalue": {
           "prefix": "year="
          },
          "len": 0.9,
          "pad": {
           "b": 10,
           "t": 60
          },
          "steps": [
           {
            "args": [
             [
              "2014"
             ],
             {
              "frame": {
               "duration": 0,
               "redraw": true
              },
              "fromcurrent": true,
              "mode": "immediate",
              "transition": {
               "duration": 0,
               "easing": "linear"
              }
             }
            ],
            "label": "2014",
            "method": "animate"
           },
           {
            "args": [
             [
              "2013"
             ],
             {
              "frame": {
               "duration": 0,
               "redraw": true
              },
              "fromcurrent": true,
              "mode": "immediate",
              "transition": {
               "duration": 0,
               "easing": "linear"
              }
             }
            ],
            "label": "2013",
            "method": "animate"
           },
           {
            "args": [
             [
              "2012"
             ],
             {
              "frame": {
               "duration": 0,
               "redraw": true
              },
              "fromcurrent": true,
              "mode": "immediate",
              "transition": {
               "duration": 0,
               "easing": "linear"
              }
             }
            ],
            "label": "2012",
            "method": "animate"
           },
           {
            "args": [
             [
              "2011"
             ],
             {
              "frame": {
               "duration": 0,
               "redraw": true
              },
              "fromcurrent": true,
              "mode": "immediate",
              "transition": {
               "duration": 0,
               "easing": "linear"
              }
             }
            ],
            "label": "2011",
            "method": "animate"
           },
           {
            "args": [
             [
              "2010"
             ],
             {
              "frame": {
               "duration": 0,
               "redraw": true
              },
              "fromcurrent": true,
              "mode": "immediate",
              "transition": {
               "duration": 0,
               "easing": "linear"
              }
             }
            ],
            "label": "2010",
            "method": "animate"
           },
           {
            "args": [
             [
              "2009"
             ],
             {
              "frame": {
               "duration": 0,
               "redraw": true
              },
              "fromcurrent": true,
              "mode": "immediate",
              "transition": {
               "duration": 0,
               "easing": "linear"
              }
             }
            ],
            "label": "2009",
            "method": "animate"
           },
           {
            "args": [
             [
              "2008"
             ],
             {
              "frame": {
               "duration": 0,
               "redraw": true
              },
              "fromcurrent": true,
              "mode": "immediate",
              "transition": {
               "duration": 0,
               "easing": "linear"
              }
             }
            ],
            "label": "2008",
            "method": "animate"
           },
           {
            "args": [
             [
              "2007"
             ],
             {
              "frame": {
               "duration": 0,
               "redraw": true
              },
              "fromcurrent": true,
              "mode": "immediate",
              "transition": {
               "duration": 0,
               "easing": "linear"
              }
             }
            ],
            "label": "2007",
            "method": "animate"
           },
           {
            "args": [
             [
              "2006"
             ],
             {
              "frame": {
               "duration": 0,
               "redraw": true
              },
              "fromcurrent": true,
              "mode": "immediate",
              "transition": {
               "duration": 0,
               "easing": "linear"
              }
             }
            ],
            "label": "2006",
            "method": "animate"
           },
           {
            "args": [
             [
              "2005"
             ],
             {
              "frame": {
               "duration": 0,
               "redraw": true
              },
              "fromcurrent": true,
              "mode": "immediate",
              "transition": {
               "duration": 0,
               "easing": "linear"
              }
             }
            ],
            "label": "2005",
            "method": "animate"
           },
           {
            "args": [
             [
              "2004"
             ],
             {
              "frame": {
               "duration": 0,
               "redraw": true
              },
              "fromcurrent": true,
              "mode": "immediate",
              "transition": {
               "duration": 0,
               "easing": "linear"
              }
             }
            ],
            "label": "2004",
            "method": "animate"
           },
           {
            "args": [
             [
              "2003"
             ],
             {
              "frame": {
               "duration": 0,
               "redraw": true
              },
              "fromcurrent": true,
              "mode": "immediate",
              "transition": {
               "duration": 0,
               "easing": "linear"
              }
             }
            ],
            "label": "2003",
            "method": "animate"
           },
           {
            "args": [
             [
              "2002"
             ],
             {
              "frame": {
               "duration": 0,
               "redraw": true
              },
              "fromcurrent": true,
              "mode": "immediate",
              "transition": {
               "duration": 0,
               "easing": "linear"
              }
             }
            ],
            "label": "2002",
            "method": "animate"
           },
           {
            "args": [
             [
              "2001"
             ],
             {
              "frame": {
               "duration": 0,
               "redraw": true
              },
              "fromcurrent": true,
              "mode": "immediate",
              "transition": {
               "duration": 0,
               "easing": "linear"
              }
             }
            ],
            "label": "2001",
            "method": "animate"
           },
           {
            "args": [
             [
              "2000"
             ],
             {
              "frame": {
               "duration": 0,
               "redraw": true
              },
              "fromcurrent": true,
              "mode": "immediate",
              "transition": {
               "duration": 0,
               "easing": "linear"
              }
             }
            ],
            "label": "2000",
            "method": "animate"
           },
           {
            "args": [
             [
              "1999"
             ],
             {
              "frame": {
               "duration": 0,
               "redraw": true
              },
              "fromcurrent": true,
              "mode": "immediate",
              "transition": {
               "duration": 0,
               "easing": "linear"
              }
             }
            ],
            "label": "1999",
            "method": "animate"
           },
           {
            "args": [
             [
              "1998"
             ],
             {
              "frame": {
               "duration": 0,
               "redraw": true
              },
              "fromcurrent": true,
              "mode": "immediate",
              "transition": {
               "duration": 0,
               "easing": "linear"
              }
             }
            ],
            "label": "1998",
            "method": "animate"
           },
           {
            "args": [
             [
              "1997"
             ],
             {
              "frame": {
               "duration": 0,
               "redraw": true
              },
              "fromcurrent": true,
              "mode": "immediate",
              "transition": {
               "duration": 0,
               "easing": "linear"
              }
             }
            ],
            "label": "1997",
            "method": "animate"
           },
           {
            "args": [
             [
              "1996"
             ],
             {
              "frame": {
               "duration": 0,
               "redraw": true
              },
              "fromcurrent": true,
              "mode": "immediate",
              "transition": {
               "duration": 0,
               "easing": "linear"
              }
             }
            ],
            "label": "1996",
            "method": "animate"
           },
           {
            "args": [
             [
              "1995"
             ],
             {
              "frame": {
               "duration": 0,
               "redraw": true
              },
              "fromcurrent": true,
              "mode": "immediate",
              "transition": {
               "duration": 0,
               "easing": "linear"
              }
             }
            ],
            "label": "1995",
            "method": "animate"
           },
           {
            "args": [
             [
              "1994"
             ],
             {
              "frame": {
               "duration": 0,
               "redraw": true
              },
              "fromcurrent": true,
              "mode": "immediate",
              "transition": {
               "duration": 0,
               "easing": "linear"
              }
             }
            ],
            "label": "1994",
            "method": "animate"
           },
           {
            "args": [
             [
              "1993"
             ],
             {
              "frame": {
               "duration": 0,
               "redraw": true
              },
              "fromcurrent": true,
              "mode": "immediate",
              "transition": {
               "duration": 0,
               "easing": "linear"
              }
             }
            ],
            "label": "1993",
            "method": "animate"
           },
           {
            "args": [
             [
              "1992"
             ],
             {
              "frame": {
               "duration": 0,
               "redraw": true
              },
              "fromcurrent": true,
              "mode": "immediate",
              "transition": {
               "duration": 0,
               "easing": "linear"
              }
             }
            ],
            "label": "1992",
            "method": "animate"
           },
           {
            "args": [
             [
              "1991"
             ],
             {
              "frame": {
               "duration": 0,
               "redraw": true
              },
              "fromcurrent": true,
              "mode": "immediate",
              "transition": {
               "duration": 0,
               "easing": "linear"
              }
             }
            ],
            "label": "1991",
            "method": "animate"
           },
           {
            "args": [
             [
              "1990"
             ],
             {
              "frame": {
               "duration": 0,
               "redraw": true
              },
              "fromcurrent": true,
              "mode": "immediate",
              "transition": {
               "duration": 0,
               "easing": "linear"
              }
             }
            ],
            "label": "1990",
            "method": "animate"
           }
          ],
          "x": 0.1,
          "xanchor": "left",
          "y": 0,
          "yanchor": "top"
         }
        ],
        "template": {
         "data": {
          "bar": [
           {
            "error_x": {
             "color": "#2a3f5f"
            },
            "error_y": {
             "color": "#2a3f5f"
            },
            "marker": {
             "line": {
              "color": "#E5ECF6",
              "width": 0.5
             }
            },
            "type": "bar"
           }
          ],
          "barpolar": [
           {
            "marker": {
             "line": {
              "color": "#E5ECF6",
              "width": 0.5
             }
            },
            "type": "barpolar"
           }
          ],
          "carpet": [
           {
            "aaxis": {
             "endlinecolor": "#2a3f5f",
             "gridcolor": "white",
             "linecolor": "white",
             "minorgridcolor": "white",
             "startlinecolor": "#2a3f5f"
            },
            "baxis": {
             "endlinecolor": "#2a3f5f",
             "gridcolor": "white",
             "linecolor": "white",
             "minorgridcolor": "white",
             "startlinecolor": "#2a3f5f"
            },
            "type": "carpet"
           }
          ],
          "choropleth": [
           {
            "colorbar": {
             "outlinewidth": 0,
             "ticks": ""
            },
            "type": "choropleth"
           }
          ],
          "contour": [
           {
            "colorbar": {
             "outlinewidth": 0,
             "ticks": ""
            },
            "colorscale": [
             [
              0,
              "#0d0887"
             ],
             [
              0.1111111111111111,
              "#46039f"
             ],
             [
              0.2222222222222222,
              "#7201a8"
             ],
             [
              0.3333333333333333,
              "#9c179e"
             ],
             [
              0.4444444444444444,
              "#bd3786"
             ],
             [
              0.5555555555555556,
              "#d8576b"
             ],
             [
              0.6666666666666666,
              "#ed7953"
             ],
             [
              0.7777777777777778,
              "#fb9f3a"
             ],
             [
              0.8888888888888888,
              "#fdca26"
             ],
             [
              1,
              "#f0f921"
             ]
            ],
            "type": "contour"
           }
          ],
          "contourcarpet": [
           {
            "colorbar": {
             "outlinewidth": 0,
             "ticks": ""
            },
            "type": "contourcarpet"
           }
          ],
          "heatmap": [
           {
            "colorbar": {
             "outlinewidth": 0,
             "ticks": ""
            },
            "colorscale": [
             [
              0,
              "#0d0887"
             ],
             [
              0.1111111111111111,
              "#46039f"
             ],
             [
              0.2222222222222222,
              "#7201a8"
             ],
             [
              0.3333333333333333,
              "#9c179e"
             ],
             [
              0.4444444444444444,
              "#bd3786"
             ],
             [
              0.5555555555555556,
              "#d8576b"
             ],
             [
              0.6666666666666666,
              "#ed7953"
             ],
             [
              0.7777777777777778,
              "#fb9f3a"
             ],
             [
              0.8888888888888888,
              "#fdca26"
             ],
             [
              1,
              "#f0f921"
             ]
            ],
            "type": "heatmap"
           }
          ],
          "heatmapgl": [
           {
            "colorbar": {
             "outlinewidth": 0,
             "ticks": ""
            },
            "colorscale": [
             [
              0,
              "#0d0887"
             ],
             [
              0.1111111111111111,
              "#46039f"
             ],
             [
              0.2222222222222222,
              "#7201a8"
             ],
             [
              0.3333333333333333,
              "#9c179e"
             ],
             [
              0.4444444444444444,
              "#bd3786"
             ],
             [
              0.5555555555555556,
              "#d8576b"
             ],
             [
              0.6666666666666666,
              "#ed7953"
             ],
             [
              0.7777777777777778,
              "#fb9f3a"
             ],
             [
              0.8888888888888888,
              "#fdca26"
             ],
             [
              1,
              "#f0f921"
             ]
            ],
            "type": "heatmapgl"
           }
          ],
          "histogram": [
           {
            "marker": {
             "colorbar": {
              "outlinewidth": 0,
              "ticks": ""
             }
            },
            "type": "histogram"
           }
          ],
          "histogram2d": [
           {
            "colorbar": {
             "outlinewidth": 0,
             "ticks": ""
            },
            "colorscale": [
             [
              0,
              "#0d0887"
             ],
             [
              0.1111111111111111,
              "#46039f"
             ],
             [
              0.2222222222222222,
              "#7201a8"
             ],
             [
              0.3333333333333333,
              "#9c179e"
             ],
             [
              0.4444444444444444,
              "#bd3786"
             ],
             [
              0.5555555555555556,
              "#d8576b"
             ],
             [
              0.6666666666666666,
              "#ed7953"
             ],
             [
              0.7777777777777778,
              "#fb9f3a"
             ],
             [
              0.8888888888888888,
              "#fdca26"
             ],
             [
              1,
              "#f0f921"
             ]
            ],
            "type": "histogram2d"
           }
          ],
          "histogram2dcontour": [
           {
            "colorbar": {
             "outlinewidth": 0,
             "ticks": ""
            },
            "colorscale": [
             [
              0,
              "#0d0887"
             ],
             [
              0.1111111111111111,
              "#46039f"
             ],
             [
              0.2222222222222222,
              "#7201a8"
             ],
             [
              0.3333333333333333,
              "#9c179e"
             ],
             [
              0.4444444444444444,
              "#bd3786"
             ],
             [
              0.5555555555555556,
              "#d8576b"
             ],
             [
              0.6666666666666666,
              "#ed7953"
             ],
             [
              0.7777777777777778,
              "#fb9f3a"
             ],
             [
              0.8888888888888888,
              "#fdca26"
             ],
             [
              1,
              "#f0f921"
             ]
            ],
            "type": "histogram2dcontour"
           }
          ],
          "mesh3d": [
           {
            "colorbar": {
             "outlinewidth": 0,
             "ticks": ""
            },
            "type": "mesh3d"
           }
          ],
          "parcoords": [
           {
            "line": {
             "colorbar": {
              "outlinewidth": 0,
              "ticks": ""
             }
            },
            "type": "parcoords"
           }
          ],
          "pie": [
           {
            "automargin": true,
            "type": "pie"
           }
          ],
          "scatter": [
           {
            "marker": {
             "colorbar": {
              "outlinewidth": 0,
              "ticks": ""
             }
            },
            "type": "scatter"
           }
          ],
          "scatter3d": [
           {
            "line": {
             "colorbar": {
              "outlinewidth": 0,
              "ticks": ""
             }
            },
            "marker": {
             "colorbar": {
              "outlinewidth": 0,
              "ticks": ""
             }
            },
            "type": "scatter3d"
           }
          ],
          "scattercarpet": [
           {
            "marker": {
             "colorbar": {
              "outlinewidth": 0,
              "ticks": ""
             }
            },
            "type": "scattercarpet"
           }
          ],
          "scattergeo": [
           {
            "marker": {
             "colorbar": {
              "outlinewidth": 0,
              "ticks": ""
             }
            },
            "type": "scattergeo"
           }
          ],
          "scattergl": [
           {
            "marker": {
             "colorbar": {
              "outlinewidth": 0,
              "ticks": ""
             }
            },
            "type": "scattergl"
           }
          ],
          "scattermapbox": [
           {
            "marker": {
             "colorbar": {
              "outlinewidth": 0,
              "ticks": ""
             }
            },
            "type": "scattermapbox"
           }
          ],
          "scatterpolar": [
           {
            "marker": {
             "colorbar": {
              "outlinewidth": 0,
              "ticks": ""
             }
            },
            "type": "scatterpolar"
           }
          ],
          "scatterpolargl": [
           {
            "marker": {
             "colorbar": {
              "outlinewidth": 0,
              "ticks": ""
             }
            },
            "type": "scatterpolargl"
           }
          ],
          "scatterternary": [
           {
            "marker": {
             "colorbar": {
              "outlinewidth": 0,
              "ticks": ""
             }
            },
            "type": "scatterternary"
           }
          ],
          "surface": [
           {
            "colorbar": {
             "outlinewidth": 0,
             "ticks": ""
            },
            "colorscale": [
             [
              0,
              "#0d0887"
             ],
             [
              0.1111111111111111,
              "#46039f"
             ],
             [
              0.2222222222222222,
              "#7201a8"
             ],
             [
              0.3333333333333333,
              "#9c179e"
             ],
             [
              0.4444444444444444,
              "#bd3786"
             ],
             [
              0.5555555555555556,
              "#d8576b"
             ],
             [
              0.6666666666666666,
              "#ed7953"
             ],
             [
              0.7777777777777778,
              "#fb9f3a"
             ],
             [
              0.8888888888888888,
              "#fdca26"
             ],
             [
              1,
              "#f0f921"
             ]
            ],
            "type": "surface"
           }
          ],
          "table": [
           {
            "cells": {
             "fill": {
              "color": "#EBF0F8"
             },
             "line": {
              "color": "white"
             }
            },
            "header": {
             "fill": {
              "color": "#C8D4E3"
             },
             "line": {
              "color": "white"
             }
            },
            "type": "table"
           }
          ]
         },
         "layout": {
          "annotationdefaults": {
           "arrowcolor": "#2a3f5f",
           "arrowhead": 0,
           "arrowwidth": 1
          },
          "autotypenumbers": "strict",
          "coloraxis": {
           "colorbar": {
            "outlinewidth": 0,
            "ticks": ""
           }
          },
          "colorscale": {
           "diverging": [
            [
             0,
             "#8e0152"
            ],
            [
             0.1,
             "#c51b7d"
            ],
            [
             0.2,
             "#de77ae"
            ],
            [
             0.3,
             "#f1b6da"
            ],
            [
             0.4,
             "#fde0ef"
            ],
            [
             0.5,
             "#f7f7f7"
            ],
            [
             0.6,
             "#e6f5d0"
            ],
            [
             0.7,
             "#b8e186"
            ],
            [
             0.8,
             "#7fbc41"
            ],
            [
             0.9,
             "#4d9221"
            ],
            [
             1,
             "#276419"
            ]
           ],
           "sequential": [
            [
             0,
             "#0d0887"
            ],
            [
             0.1111111111111111,
             "#46039f"
            ],
            [
             0.2222222222222222,
             "#7201a8"
            ],
            [
             0.3333333333333333,
             "#9c179e"
            ],
            [
             0.4444444444444444,
             "#bd3786"
            ],
            [
             0.5555555555555556,
             "#d8576b"
            ],
            [
             0.6666666666666666,
             "#ed7953"
            ],
            [
             0.7777777777777778,
             "#fb9f3a"
            ],
            [
             0.8888888888888888,
             "#fdca26"
            ],
            [
             1,
             "#f0f921"
            ]
           ],
           "sequentialminus": [
            [
             0,
             "#0d0887"
            ],
            [
             0.1111111111111111,
             "#46039f"
            ],
            [
             0.2222222222222222,
             "#7201a8"
            ],
            [
             0.3333333333333333,
             "#9c179e"
            ],
            [
             0.4444444444444444,
             "#bd3786"
            ],
            [
             0.5555555555555556,
             "#d8576b"
            ],
            [
             0.6666666666666666,
             "#ed7953"
            ],
            [
             0.7777777777777778,
             "#fb9f3a"
            ],
            [
             0.8888888888888888,
             "#fdca26"
            ],
            [
             1,
             "#f0f921"
            ]
           ]
          },
          "colorway": [
           "#636efa",
           "#EF553B",
           "#00cc96",
           "#ab63fa",
           "#FFA15A",
           "#19d3f3",
           "#FF6692",
           "#B6E880",
           "#FF97FF",
           "#FECB52"
          ],
          "font": {
           "color": "#2a3f5f"
          },
          "geo": {
           "bgcolor": "white",
           "lakecolor": "white",
           "landcolor": "#E5ECF6",
           "showlakes": true,
           "showland": true,
           "subunitcolor": "white"
          },
          "hoverlabel": {
           "align": "left"
          },
          "hovermode": "closest",
          "mapbox": {
           "style": "light"
          },
          "paper_bgcolor": "white",
          "plot_bgcolor": "#E5ECF6",
          "polar": {
           "angularaxis": {
            "gridcolor": "white",
            "linecolor": "white",
            "ticks": ""
           },
           "bgcolor": "#E5ECF6",
           "radialaxis": {
            "gridcolor": "white",
            "linecolor": "white",
            "ticks": ""
           }
          },
          "scene": {
           "xaxis": {
            "backgroundcolor": "#E5ECF6",
            "gridcolor": "white",
            "gridwidth": 2,
            "linecolor": "white",
            "showbackground": true,
            "ticks": "",
            "zerolinecolor": "white"
           },
           "yaxis": {
            "backgroundcolor": "#E5ECF6",
            "gridcolor": "white",
            "gridwidth": 2,
            "linecolor": "white",
            "showbackground": true,
            "ticks": "",
            "zerolinecolor": "white"
           },
           "zaxis": {
            "backgroundcolor": "#E5ECF6",
            "gridcolor": "white",
            "gridwidth": 2,
            "linecolor": "white",
            "showbackground": true,
            "ticks": "",
            "zerolinecolor": "white"
           }
          },
          "shapedefaults": {
           "line": {
            "color": "#2a3f5f"
           }
          },
          "ternary": {
           "aaxis": {
            "gridcolor": "white",
            "linecolor": "white",
            "ticks": ""
           },
           "baxis": {
            "gridcolor": "white",
            "linecolor": "white",
            "ticks": ""
           },
           "bgcolor": "#E5ECF6",
           "caxis": {
            "gridcolor": "white",
            "linecolor": "white",
            "ticks": ""
           }
          },
          "title": {
           "x": 0.05
          },
          "xaxis": {
           "automargin": true,
           "gridcolor": "white",
           "linecolor": "white",
           "ticks": "",
           "title": {
            "standoff": 15
           },
           "zerolinecolor": "white",
           "zerolinewidth": 2
          },
          "yaxis": {
           "automargin": true,
           "gridcolor": "white",
           "linecolor": "white",
           "ticks": "",
           "title": {
            "standoff": 15
           },
           "zerolinecolor": "white",
           "zerolinewidth": 2
          }
         }
        },
        "title": {
         "text": "Gas Emissions by year"
        },
        "updatemenus": [
         {
          "buttons": [
           {
            "args": [
             null,
             {
              "frame": {
               "duration": 500,
               "redraw": true
              },
              "fromcurrent": true,
              "mode": "immediate",
              "transition": {
               "duration": 500,
               "easing": "linear"
              }
             }
            ],
            "label": "&#9654;",
            "method": "animate"
           },
           {
            "args": [
             [
              null
             ],
             {
              "frame": {
               "duration": 0,
               "redraw": true
              },
              "fromcurrent": true,
              "mode": "immediate",
              "transition": {
               "duration": 0,
               "easing": "linear"
              }
             }
            ],
            "label": "&#9724;",
            "method": "animate"
           }
          ],
          "direction": "left",
          "pad": {
           "r": 10,
           "t": 70
          },
          "showactive": false,
          "type": "buttons",
          "x": 0.1,
          "xanchor": "right",
          "y": 0,
          "yanchor": "top"
         }
        ]
       }
      },
      "text/html": [
       "<div>                            <div id=\"29461324-f695-4524-b323-fb7217954e6f\" class=\"plotly-graph-div\" style=\"height:600px; width:100%;\"></div>            <script type=\"text/javascript\">                require([\"plotly\"], function(Plotly) {                    window.PLOTLYENV=window.PLOTLYENV || {};                                    if (document.getElementById(\"29461324-f695-4524-b323-fb7217954e6f\")) {                    Plotly.newPlot(                        \"29461324-f695-4524-b323-fb7217954e6f\",                        [{\"coloraxis\": \"coloraxis\", \"geo\": \"geo\", \"hovertemplate\": \"year=2014<br>iso_a3=%{location}<br>value=%{z}<extra></extra>\", \"locationmode\": \"ISO-3\", \"locations\": [\"AUS\", \"AUT\", \"BLR\", \"BEL\", \"BGR\", \"CAN\", \"HRV\", \"CYP\", null, \"DNK\", \"EST\", null, \"FIN\", \"-99\", \"DEU\", \"GRC\", \"HUN\", \"ISL\", \"IRL\", \"ITA\", \"JPN\", \"LVA\", null, \"LTU\", \"LUX\", null, \"NLD\", \"NZL\", \"-99\", \"POL\", \"PRT\", \"ROU\", null, \"SVK\", \"SVN\", \"ESP\", \"SWE\", \"CHE\", \"TUR\", \"UKR\", \"GBR\", \"USA\"], \"name\": \"\", \"type\": \"choropleth\", \"z\": [393126.946994288, 64262.5639931315, 60615.645730992, 96325.4131833302, 45139.955286201, 574099.775511611, 17607.3224145688, 6878.555308563, 101159.12216724, 37460.6564588265, 18918.7153387101, 3463397.56376209, 47597.7335272535, 341152.531504158, 792902.788025434, 79628.2743994757, 43573.4088387418, 3272.20823296511, 36559.0685812916, 342826.677130676, 1265490.60931631, 7158.71803669862, 161.541816662752, 12732.798863701, 9826.25327758284, 2483.5367864507, 157789.581719585, 35616.9853050414, 43869.4510924803, 310307.297357959, 48353.6903302063, 74046.4676268308, 1671568.65225681, 33387.4287224285, 13489.9800352085, 253466.917957776, 43404.9031709849, 39265.0525915552, 382213.401686307, 247561.22104158, 434794.556933168, 5556006.57780565]}],                        {\"coloraxis\": {\"colorbar\": {\"title\": {\"text\": \"value\"}}, \"colorscale\": [[0.0, \"rgb(232, 245, 171)\"], [0.09090909090909091, \"rgb(220, 219, 137)\"], [0.18181818181818182, \"rgb(209, 193, 107)\"], [0.2727272727272727, \"rgb(199, 168, 83)\"], [0.36363636363636365, \"rgb(186, 143, 66)\"], [0.45454545454545453, \"rgb(170, 121, 60)\"], [0.5454545454545454, \"rgb(151, 103, 58)\"], [0.6363636363636364, \"rgb(129, 87, 56)\"], [0.7272727272727273, \"rgb(104, 72, 53)\"], [0.8181818181818182, \"rgb(80, 59, 46)\"], [0.9090909090909091, \"rgb(57, 45, 37)\"], [1.0, \"rgb(34, 30, 27)\"]]}, \"geo\": {\"center\": {}, \"domain\": {\"x\": [0.0, 1.0], \"y\": [0.0, 1.0]}, \"scope\": \"world\"}, \"height\": 600, \"legend\": {\"tracegroupgap\": 0}, \"sliders\": [{\"active\": 0, \"currentvalue\": {\"prefix\": \"year=\"}, \"len\": 0.9, \"pad\": {\"b\": 10, \"t\": 60}, \"steps\": [{\"args\": [[\"2014\"], {\"frame\": {\"duration\": 0, \"redraw\": true}, \"fromcurrent\": true, \"mode\": \"immediate\", \"transition\": {\"duration\": 0, \"easing\": \"linear\"}}], \"label\": \"2014\", \"method\": \"animate\"}, {\"args\": [[\"2013\"], {\"frame\": {\"duration\": 0, \"redraw\": true}, \"fromcurrent\": true, \"mode\": \"immediate\", \"transition\": {\"duration\": 0, \"easing\": \"linear\"}}], \"label\": \"2013\", \"method\": \"animate\"}, {\"args\": [[\"2012\"], {\"frame\": {\"duration\": 0, \"redraw\": true}, \"fromcurrent\": true, \"mode\": \"immediate\", \"transition\": {\"duration\": 0, \"easing\": \"linear\"}}], \"label\": \"2012\", \"method\": \"animate\"}, {\"args\": [[\"2011\"], {\"frame\": {\"duration\": 0, \"redraw\": true}, \"fromcurrent\": true, \"mode\": \"immediate\", \"transition\": {\"duration\": 0, \"easing\": \"linear\"}}], \"label\": \"2011\", \"method\": \"animate\"}, {\"args\": [[\"2010\"], {\"frame\": {\"duration\": 0, \"redraw\": true}, \"fromcurrent\": true, \"mode\": \"immediate\", \"transition\": {\"duration\": 0, \"easing\": \"linear\"}}], \"label\": \"2010\", \"method\": \"animate\"}, {\"args\": [[\"2009\"], {\"frame\": {\"duration\": 0, \"redraw\": true}, \"fromcurrent\": true, \"mode\": \"immediate\", \"transition\": {\"duration\": 0, \"easing\": \"linear\"}}], \"label\": \"2009\", \"method\": \"animate\"}, {\"args\": [[\"2008\"], {\"frame\": {\"duration\": 0, \"redraw\": true}, \"fromcurrent\": true, \"mode\": \"immediate\", \"transition\": {\"duration\": 0, \"easing\": \"linear\"}}], \"label\": \"2008\", \"method\": \"animate\"}, {\"args\": [[\"2007\"], {\"frame\": {\"duration\": 0, \"redraw\": true}, \"fromcurrent\": true, \"mode\": \"immediate\", \"transition\": {\"duration\": 0, \"easing\": \"linear\"}}], \"label\": \"2007\", \"method\": \"animate\"}, {\"args\": [[\"2006\"], {\"frame\": {\"duration\": 0, \"redraw\": true}, \"fromcurrent\": true, \"mode\": \"immediate\", \"transition\": {\"duration\": 0, \"easing\": \"linear\"}}], \"label\": \"2006\", \"method\": \"animate\"}, {\"args\": [[\"2005\"], {\"frame\": {\"duration\": 0, \"redraw\": true}, \"fromcurrent\": true, \"mode\": \"immediate\", \"transition\": {\"duration\": 0, \"easing\": \"linear\"}}], \"label\": \"2005\", \"method\": \"animate\"}, {\"args\": [[\"2004\"], {\"frame\": {\"duration\": 0, \"redraw\": true}, \"fromcurrent\": true, \"mode\": \"immediate\", \"transition\": {\"duration\": 0, \"easing\": \"linear\"}}], \"label\": \"2004\", \"method\": \"animate\"}, {\"args\": [[\"2003\"], {\"frame\": {\"duration\": 0, \"redraw\": true}, \"fromcurrent\": true, \"mode\": \"immediate\", \"transition\": {\"duration\": 0, \"easing\": \"linear\"}}], \"label\": \"2003\", \"method\": \"animate\"}, {\"args\": [[\"2002\"], {\"frame\": {\"duration\": 0, \"redraw\": true}, \"fromcurrent\": true, \"mode\": \"immediate\", \"transition\": {\"duration\": 0, \"easing\": \"linear\"}}], \"label\": \"2002\", \"method\": \"animate\"}, {\"args\": [[\"2001\"], {\"frame\": {\"duration\": 0, \"redraw\": true}, \"fromcurrent\": true, \"mode\": \"immediate\", \"transition\": {\"duration\": 0, \"easing\": \"linear\"}}], \"label\": \"2001\", \"method\": \"animate\"}, {\"args\": [[\"2000\"], {\"frame\": {\"duration\": 0, \"redraw\": true}, \"fromcurrent\": true, \"mode\": \"immediate\", \"transition\": {\"duration\": 0, \"easing\": \"linear\"}}], \"label\": \"2000\", \"method\": \"animate\"}, {\"args\": [[\"1999\"], {\"frame\": {\"duration\": 0, \"redraw\": true}, \"fromcurrent\": true, \"mode\": \"immediate\", \"transition\": {\"duration\": 0, \"easing\": \"linear\"}}], \"label\": \"1999\", \"method\": \"animate\"}, {\"args\": [[\"1998\"], {\"frame\": {\"duration\": 0, \"redraw\": true}, \"fromcurrent\": true, \"mode\": \"immediate\", \"transition\": {\"duration\": 0, \"easing\": \"linear\"}}], \"label\": \"1998\", \"method\": \"animate\"}, {\"args\": [[\"1997\"], {\"frame\": {\"duration\": 0, \"redraw\": true}, \"fromcurrent\": true, \"mode\": \"immediate\", \"transition\": {\"duration\": 0, \"easing\": \"linear\"}}], \"label\": \"1997\", \"method\": \"animate\"}, {\"args\": [[\"1996\"], {\"frame\": {\"duration\": 0, \"redraw\": true}, \"fromcurrent\": true, \"mode\": \"immediate\", \"transition\": {\"duration\": 0, \"easing\": \"linear\"}}], \"label\": \"1996\", \"method\": \"animate\"}, {\"args\": [[\"1995\"], {\"frame\": {\"duration\": 0, \"redraw\": true}, \"fromcurrent\": true, \"mode\": \"immediate\", \"transition\": {\"duration\": 0, \"easing\": \"linear\"}}], \"label\": \"1995\", \"method\": \"animate\"}, {\"args\": [[\"1994\"], {\"frame\": {\"duration\": 0, \"redraw\": true}, \"fromcurrent\": true, \"mode\": \"immediate\", \"transition\": {\"duration\": 0, \"easing\": \"linear\"}}], \"label\": \"1994\", \"method\": \"animate\"}, {\"args\": [[\"1993\"], {\"frame\": {\"duration\": 0, \"redraw\": true}, \"fromcurrent\": true, \"mode\": \"immediate\", \"transition\": {\"duration\": 0, \"easing\": \"linear\"}}], \"label\": \"1993\", \"method\": \"animate\"}, {\"args\": [[\"1992\"], {\"frame\": {\"duration\": 0, \"redraw\": true}, \"fromcurrent\": true, \"mode\": \"immediate\", \"transition\": {\"duration\": 0, \"easing\": \"linear\"}}], \"label\": \"1992\", \"method\": \"animate\"}, {\"args\": [[\"1991\"], {\"frame\": {\"duration\": 0, \"redraw\": true}, \"fromcurrent\": true, \"mode\": \"immediate\", \"transition\": {\"duration\": 0, \"easing\": \"linear\"}}], \"label\": \"1991\", \"method\": \"animate\"}, {\"args\": [[\"1990\"], {\"frame\": {\"duration\": 0, \"redraw\": true}, \"fromcurrent\": true, \"mode\": \"immediate\", \"transition\": {\"duration\": 0, \"easing\": \"linear\"}}], \"label\": \"1990\", \"method\": \"animate\"}], \"x\": 0.1, \"xanchor\": \"left\", \"y\": 0, \"yanchor\": \"top\"}], \"template\": {\"data\": {\"bar\": [{\"error_x\": {\"color\": \"#2a3f5f\"}, \"error_y\": {\"color\": \"#2a3f5f\"}, \"marker\": {\"line\": {\"color\": \"#E5ECF6\", \"width\": 0.5}}, \"type\": \"bar\"}], \"barpolar\": [{\"marker\": {\"line\": {\"color\": \"#E5ECF6\", \"width\": 0.5}}, \"type\": \"barpolar\"}], \"carpet\": [{\"aaxis\": {\"endlinecolor\": \"#2a3f5f\", \"gridcolor\": \"white\", \"linecolor\": \"white\", \"minorgridcolor\": \"white\", \"startlinecolor\": \"#2a3f5f\"}, \"baxis\": {\"endlinecolor\": \"#2a3f5f\", \"gridcolor\": \"white\", \"linecolor\": \"white\", \"minorgridcolor\": \"white\", \"startlinecolor\": \"#2a3f5f\"}, \"type\": \"carpet\"}], \"choropleth\": [{\"colorbar\": {\"outlinewidth\": 0, \"ticks\": \"\"}, \"type\": \"choropleth\"}], \"contour\": [{\"colorbar\": {\"outlinewidth\": 0, \"ticks\": \"\"}, \"colorscale\": [[0.0, \"#0d0887\"], [0.1111111111111111, \"#46039f\"], [0.2222222222222222, \"#7201a8\"], [0.3333333333333333, \"#9c179e\"], [0.4444444444444444, \"#bd3786\"], [0.5555555555555556, \"#d8576b\"], [0.6666666666666666, \"#ed7953\"], [0.7777777777777778, \"#fb9f3a\"], [0.8888888888888888, \"#fdca26\"], [1.0, \"#f0f921\"]], \"type\": \"contour\"}], \"contourcarpet\": [{\"colorbar\": {\"outlinewidth\": 0, \"ticks\": \"\"}, \"type\": \"contourcarpet\"}], \"heatmap\": [{\"colorbar\": {\"outlinewidth\": 0, \"ticks\": \"\"}, \"colorscale\": [[0.0, \"#0d0887\"], [0.1111111111111111, \"#46039f\"], [0.2222222222222222, \"#7201a8\"], [0.3333333333333333, \"#9c179e\"], [0.4444444444444444, \"#bd3786\"], [0.5555555555555556, \"#d8576b\"], [0.6666666666666666, \"#ed7953\"], [0.7777777777777778, \"#fb9f3a\"], [0.8888888888888888, \"#fdca26\"], [1.0, \"#f0f921\"]], \"type\": \"heatmap\"}], \"heatmapgl\": [{\"colorbar\": {\"outlinewidth\": 0, \"ticks\": \"\"}, \"colorscale\": [[0.0, \"#0d0887\"], [0.1111111111111111, \"#46039f\"], [0.2222222222222222, \"#7201a8\"], [0.3333333333333333, \"#9c179e\"], [0.4444444444444444, \"#bd3786\"], [0.5555555555555556, \"#d8576b\"], [0.6666666666666666, \"#ed7953\"], [0.7777777777777778, \"#fb9f3a\"], [0.8888888888888888, \"#fdca26\"], [1.0, \"#f0f921\"]], \"type\": \"heatmapgl\"}], \"histogram\": [{\"marker\": {\"colorbar\": {\"outlinewidth\": 0, \"ticks\": \"\"}}, \"type\": \"histogram\"}], \"histogram2d\": [{\"colorbar\": {\"outlinewidth\": 0, \"ticks\": \"\"}, \"colorscale\": [[0.0, \"#0d0887\"], [0.1111111111111111, \"#46039f\"], [0.2222222222222222, \"#7201a8\"], [0.3333333333333333, \"#9c179e\"], [0.4444444444444444, \"#bd3786\"], [0.5555555555555556, \"#d8576b\"], [0.6666666666666666, \"#ed7953\"], [0.7777777777777778, \"#fb9f3a\"], [0.8888888888888888, \"#fdca26\"], [1.0, \"#f0f921\"]], \"type\": \"histogram2d\"}], \"histogram2dcontour\": [{\"colorbar\": {\"outlinewidth\": 0, \"ticks\": \"\"}, \"colorscale\": [[0.0, \"#0d0887\"], [0.1111111111111111, \"#46039f\"], [0.2222222222222222, \"#7201a8\"], [0.3333333333333333, \"#9c179e\"], [0.4444444444444444, \"#bd3786\"], [0.5555555555555556, \"#d8576b\"], [0.6666666666666666, \"#ed7953\"], [0.7777777777777778, \"#fb9f3a\"], [0.8888888888888888, \"#fdca26\"], [1.0, \"#f0f921\"]], \"type\": \"histogram2dcontour\"}], \"mesh3d\": [{\"colorbar\": {\"outlinewidth\": 0, \"ticks\": \"\"}, \"type\": \"mesh3d\"}], \"parcoords\": [{\"line\": {\"colorbar\": {\"outlinewidth\": 0, \"ticks\": \"\"}}, \"type\": \"parcoords\"}], \"pie\": [{\"automargin\": true, \"type\": \"pie\"}], \"scatter\": [{\"marker\": {\"colorbar\": {\"outlinewidth\": 0, \"ticks\": \"\"}}, \"type\": \"scatter\"}], \"scatter3d\": [{\"line\": {\"colorbar\": {\"outlinewidth\": 0, \"ticks\": \"\"}}, \"marker\": {\"colorbar\": {\"outlinewidth\": 0, \"ticks\": \"\"}}, \"type\": \"scatter3d\"}], \"scattercarpet\": [{\"marker\": {\"colorbar\": {\"outlinewidth\": 0, \"ticks\": \"\"}}, \"type\": \"scattercarpet\"}], \"scattergeo\": [{\"marker\": {\"colorbar\": {\"outlinewidth\": 0, \"ticks\": \"\"}}, \"type\": \"scattergeo\"}], \"scattergl\": [{\"marker\": {\"colorbar\": {\"outlinewidth\": 0, \"ticks\": \"\"}}, \"type\": \"scattergl\"}], \"scattermapbox\": [{\"marker\": {\"colorbar\": {\"outlinewidth\": 0, \"ticks\": \"\"}}, \"type\": \"scattermapbox\"}], \"scatterpolar\": [{\"marker\": {\"colorbar\": {\"outlinewidth\": 0, \"ticks\": \"\"}}, \"type\": \"scatterpolar\"}], \"scatterpolargl\": [{\"marker\": {\"colorbar\": {\"outlinewidth\": 0, \"ticks\": \"\"}}, \"type\": \"scatterpolargl\"}], \"scatterternary\": [{\"marker\": {\"colorbar\": {\"outlinewidth\": 0, \"ticks\": \"\"}}, \"type\": \"scatterternary\"}], \"surface\": [{\"colorbar\": {\"outlinewidth\": 0, \"ticks\": \"\"}, \"colorscale\": [[0.0, \"#0d0887\"], [0.1111111111111111, \"#46039f\"], [0.2222222222222222, \"#7201a8\"], [0.3333333333333333, \"#9c179e\"], [0.4444444444444444, \"#bd3786\"], [0.5555555555555556, \"#d8576b\"], [0.6666666666666666, \"#ed7953\"], [0.7777777777777778, \"#fb9f3a\"], [0.8888888888888888, \"#fdca26\"], [1.0, \"#f0f921\"]], \"type\": \"surface\"}], \"table\": [{\"cells\": {\"fill\": {\"color\": \"#EBF0F8\"}, \"line\": {\"color\": \"white\"}}, \"header\": {\"fill\": {\"color\": \"#C8D4E3\"}, \"line\": {\"color\": \"white\"}}, \"type\": \"table\"}]}, \"layout\": {\"annotationdefaults\": {\"arrowcolor\": \"#2a3f5f\", \"arrowhead\": 0, \"arrowwidth\": 1}, \"autotypenumbers\": \"strict\", \"coloraxis\": {\"colorbar\": {\"outlinewidth\": 0, \"ticks\": \"\"}}, \"colorscale\": {\"diverging\": [[0, \"#8e0152\"], [0.1, \"#c51b7d\"], [0.2, \"#de77ae\"], [0.3, \"#f1b6da\"], [0.4, \"#fde0ef\"], [0.5, \"#f7f7f7\"], [0.6, \"#e6f5d0\"], [0.7, \"#b8e186\"], [0.8, \"#7fbc41\"], [0.9, \"#4d9221\"], [1, \"#276419\"]], \"sequential\": [[0.0, \"#0d0887\"], [0.1111111111111111, \"#46039f\"], [0.2222222222222222, \"#7201a8\"], [0.3333333333333333, \"#9c179e\"], [0.4444444444444444, \"#bd3786\"], [0.5555555555555556, \"#d8576b\"], [0.6666666666666666, \"#ed7953\"], [0.7777777777777778, \"#fb9f3a\"], [0.8888888888888888, \"#fdca26\"], [1.0, \"#f0f921\"]], \"sequentialminus\": [[0.0, \"#0d0887\"], [0.1111111111111111, \"#46039f\"], [0.2222222222222222, \"#7201a8\"], [0.3333333333333333, \"#9c179e\"], [0.4444444444444444, \"#bd3786\"], [0.5555555555555556, \"#d8576b\"], [0.6666666666666666, \"#ed7953\"], [0.7777777777777778, \"#fb9f3a\"], [0.8888888888888888, \"#fdca26\"], [1.0, \"#f0f921\"]]}, \"colorway\": [\"#636efa\", \"#EF553B\", \"#00cc96\", \"#ab63fa\", \"#FFA15A\", \"#19d3f3\", \"#FF6692\", \"#B6E880\", \"#FF97FF\", \"#FECB52\"], \"font\": {\"color\": \"#2a3f5f\"}, \"geo\": {\"bgcolor\": \"white\", \"lakecolor\": \"white\", \"landcolor\": \"#E5ECF6\", \"showlakes\": true, \"showland\": true, \"subunitcolor\": \"white\"}, \"hoverlabel\": {\"align\": \"left\"}, \"hovermode\": \"closest\", \"mapbox\": {\"style\": \"light\"}, \"paper_bgcolor\": \"white\", \"plot_bgcolor\": \"#E5ECF6\", \"polar\": {\"angularaxis\": {\"gridcolor\": \"white\", \"linecolor\": \"white\", \"ticks\": \"\"}, \"bgcolor\": \"#E5ECF6\", \"radialaxis\": {\"gridcolor\": \"white\", \"linecolor\": \"white\", \"ticks\": \"\"}}, \"scene\": {\"xaxis\": {\"backgroundcolor\": \"#E5ECF6\", \"gridcolor\": \"white\", \"gridwidth\": 2, \"linecolor\": \"white\", \"showbackground\": true, \"ticks\": \"\", \"zerolinecolor\": \"white\"}, \"yaxis\": {\"backgroundcolor\": \"#E5ECF6\", \"gridcolor\": \"white\", \"gridwidth\": 2, \"linecolor\": \"white\", \"showbackground\": true, \"ticks\": \"\", \"zerolinecolor\": \"white\"}, \"zaxis\": {\"backgroundcolor\": \"#E5ECF6\", \"gridcolor\": \"white\", \"gridwidth\": 2, \"linecolor\": \"white\", \"showbackground\": true, \"ticks\": \"\", \"zerolinecolor\": \"white\"}}, \"shapedefaults\": {\"line\": {\"color\": \"#2a3f5f\"}}, \"ternary\": {\"aaxis\": {\"gridcolor\": \"white\", \"linecolor\": \"white\", \"ticks\": \"\"}, \"baxis\": {\"gridcolor\": \"white\", \"linecolor\": \"white\", \"ticks\": \"\"}, \"bgcolor\": \"#E5ECF6\", \"caxis\": {\"gridcolor\": \"white\", \"linecolor\": \"white\", \"ticks\": \"\"}}, \"title\": {\"x\": 0.05}, \"xaxis\": {\"automargin\": true, \"gridcolor\": \"white\", \"linecolor\": \"white\", \"ticks\": \"\", \"title\": {\"standoff\": 15}, \"zerolinecolor\": \"white\", \"zerolinewidth\": 2}, \"yaxis\": {\"automargin\": true, \"gridcolor\": \"white\", \"linecolor\": \"white\", \"ticks\": \"\", \"title\": {\"standoff\": 15}, \"zerolinecolor\": \"white\", \"zerolinewidth\": 2}}}, \"title\": {\"text\": \"Gas Emissions by year\"}, \"updatemenus\": [{\"buttons\": [{\"args\": [null, {\"frame\": {\"duration\": 500, \"redraw\": true}, \"fromcurrent\": true, \"mode\": \"immediate\", \"transition\": {\"duration\": 500, \"easing\": \"linear\"}}], \"label\": \"&#9654;\", \"method\": \"animate\"}, {\"args\": [[null], {\"frame\": {\"duration\": 0, \"redraw\": true}, \"fromcurrent\": true, \"mode\": \"immediate\", \"transition\": {\"duration\": 0, \"easing\": \"linear\"}}], \"label\": \"&#9724;\", \"method\": \"animate\"}], \"direction\": \"left\", \"pad\": {\"r\": 10, \"t\": 70}, \"showactive\": false, \"type\": \"buttons\", \"x\": 0.1, \"xanchor\": \"right\", \"y\": 0, \"yanchor\": \"top\"}]},                        {\"responsive\": true}                    ).then(function(){\n",
       "                            Plotly.addFrames('29461324-f695-4524-b323-fb7217954e6f', [{\"data\": [{\"coloraxis\": \"coloraxis\", \"geo\": \"geo\", \"hovertemplate\": \"year=2014<br>iso_a3=%{location}<br>value=%{z}<extra></extra>\", \"locationmode\": \"ISO-3\", \"locations\": [\"AUS\", \"AUT\", \"BLR\", \"BEL\", \"BGR\", \"CAN\", \"HRV\", \"CYP\", null, \"DNK\", \"EST\", null, \"FIN\", \"-99\", \"DEU\", \"GRC\", \"HUN\", \"ISL\", \"IRL\", \"ITA\", \"JPN\", \"LVA\", null, \"LTU\", \"LUX\", null, \"NLD\", \"NZL\", \"-99\", \"POL\", \"PRT\", \"ROU\", null, \"SVK\", \"SVN\", \"ESP\", \"SWE\", \"CHE\", \"TUR\", \"UKR\", \"GBR\", \"USA\"], \"name\": \"\", \"z\": [393126.946994288, 64262.5639931315, 60615.645730992, 96325.4131833302, 45139.955286201, 574099.775511611, 17607.3224145688, 6878.555308563, 101159.12216724, 37460.6564588265, 18918.7153387101, 3463397.56376209, 47597.7335272535, 341152.531504158, 792902.788025434, 79628.2743994757, 43573.4088387418, 3272.20823296511, 36559.0685812916, 342826.677130676, 1265490.60931631, 7158.71803669862, 161.541816662752, 12732.798863701, 9826.25327758284, 2483.5367864507, 157789.581719585, 35616.9853050414, 43869.4510924803, 310307.297357959, 48353.6903302063, 74046.4676268308, 1671568.65225681, 33387.4287224285, 13489.9800352085, 253466.917957776, 43404.9031709849, 39265.0525915552, 382213.401686307, 247561.22104158, 434794.556933168, 5556006.57780565], \"type\": \"choropleth\"}], \"name\": \"2014\"}, {\"data\": [{\"coloraxis\": \"coloraxis\", \"geo\": \"geo\", \"hovertemplate\": \"year=2013<br>iso_a3=%{location}<br>value=%{z}<extra></extra>\", \"locationmode\": \"ISO-3\", \"locations\": [\"AUS\", \"AUT\", \"BLR\", \"BEL\", \"BGR\", \"CAN\", \"HRV\", \"CYP\", null, \"DNK\", \"EST\", null, \"FIN\", \"-99\", \"DEU\", \"GRC\", \"HUN\", \"ISL\", \"IRL\", \"ITA\", \"JPN\", \"LVA\", null, \"LTU\", \"LUX\", null, null, \"NLD\", \"NZL\", \"-99\", \"POL\", \"PRT\", \"ROU\", null, \"SVK\", \"SVN\", \"ESP\", \"SWE\", \"CHE\", \"TUR\", \"UKR\", \"GBR\", \"USA\"], \"name\": \"\", \"z\": [396913.93653029, 67957.1211123863, 61510.987153813, 101744.736736883, 42534.9272034699, 573094.038846396, 18359.4998410627, 6449.610812027, 106477.08866661, 41537.0358081307, 19566.3683734371, 3646389.52530377, 51834.6967381541, 369985.594525824, 835792.632256705, 82910.6259583055, 43930.8781767816, 3301.79631376577, 37049.4238313976, 362063.649296268, 1311509.14921749, 7353.22044369415, 192.864415788715, 12987.8175314716, 10303.0396071267, 2476.07442909592, 74.4309201897803, 165475.88439356, 35094.2867396817, 44309.0559727695, 322440.486501595, 48495.550477338, 74083.358238036, 1666644.42307436, 35395.1548629239, 15148.7253832075, 252259.690488153, 44899.1519357186, 43181.6594395143, 354961.042273042, 287436.404374375, 475832.050586927, 5502550.71398641], \"type\": \"choropleth\"}], \"name\": \"2013\"}, {\"data\": [{\"coloraxis\": \"coloraxis\", \"geo\": \"geo\", \"hovertemplate\": \"year=2012<br>iso_a3=%{location}<br>value=%{z}<extra></extra>\", \"locationmode\": \"ISO-3\", \"locations\": [\"AUS\", \"AUT\", \"BLR\", \"BEL\", \"BGR\", \"CAN\", \"HRV\", \"CYP\", null, \"DNK\", \"EST\", null, \"FIN\", \"-99\", \"DEU\", \"GRC\", \"HUN\", \"ISL\", \"IRL\", \"ITA\", \"JPN\", \"LVA\", null, \"LTU\", \"LUX\", null, null, \"NLD\", \"NZL\", \"-99\", \"POL\", \"PRT\", \"ROU\", null, \"SVK\", \"SVN\", \"ESP\", \"SWE\", \"CHE\", \"TUR\", \"UKR\", \"GBR\", \"USA\"], \"name\": \"\", \"z\": [406462.8477036, 67698.6586349119, 60636.851387067, 100931.595609756, 48117.5560830313, 563423.613154917, 18776.3813482483, 7160.971875548, 109841.328902436, 39524.4020330104, 17304.6372276438, 3728965.03097874, 50983.2728750769, 370491.153703148, 817031.440197659, 90710.5742463723, 46774.9448452999, 3290.57643132926, 38031.6187161936, 389340.763399181, 1296186.35836425, 7521.1225279261, 185.63243136026, 13975.5232139658, 10872.0644823704, 2868.63812814327, 75.1655688427013, 165665.023774753, 35621.0260193518, 44553.9656597819, 326597.790549729, 50262.4224416189, 84661.2305445011, 1727489.10411795, 35867.8962742317, 15800.18723876, 279830.308257069, 46559.6400230299, 42241.5536052143, 363126.007248006, 295706.064347456, 484388.090389505, 5349220.94664921], \"type\": \"choropleth\"}], \"name\": \"2012\"}, {\"data\": [{\"coloraxis\": \"coloraxis\", \"geo\": \"geo\", \"hovertemplate\": \"year=2011<br>iso_a3=%{location}<br>value=%{z}<extra></extra>\", \"locationmode\": \"ISO-3\", \"locations\": [\"AUS\", \"AUT\", \"BLR\", \"BEL\", \"BGR\", \"CAN\", \"HRV\", \"CYP\", null, \"DNK\", \"EST\", null, \"FIN\", \"-99\", \"DEU\", \"GRC\", \"HUN\", \"ISL\", \"IRL\", \"ITA\", \"JPN\", \"LVA\", null, \"LTU\", \"LUX\", null, null, \"NLD\", \"NZL\", \"-99\", \"POL\", \"PRT\", \"ROU\", null, \"SVK\", \"SVN\", \"ESP\", \"SWE\", \"CHE\", \"TUR\", \"UKR\", \"GBR\", \"USA\"], \"name\": \"\", \"z\": [403705.528313991, 70327.1670444138, 61128.400592577, 104945.713770963, 53020.9811161954, 558152.72293811, 20614.4404738916, 7696.667805268, 114113.146744787, 43970.7892561051, 18449.9308643309, 3789763.64094378, 56478.7455886964, 368183.438441815, 812483.219621071, 94102.9439816174, 50272.8651021622, 3298.56768958589, 37895.1954270366, 416499.534208263, 1261862.93795353, 7807.65940956673, 177.088040245414, 13919.0154984666, 11168.5116663343, 2785.89656845722, 71.8818954508995, 169792.136541403, 34366.5826844218, 44946.8693532922, 333713.650695256, 52150.653443811, 86163.6343263804, 1717221.95058062, 37880.8531455433, 16348.2391107374, 283918.679194864, 49133.5869433916, 40973.1491672158, 338094.408177677, 301273.502167972, 464885.748926953, 5559507.66443653], \"type\": \"choropleth\"}], \"name\": \"2011\"}, {\"data\": [{\"coloraxis\": \"coloraxis\", \"geo\": \"geo\", \"hovertemplate\": \"year=2010<br>iso_a3=%{location}<br>value=%{z}<extra></extra>\", \"locationmode\": \"ISO-3\", \"locations\": [\"AUS\", \"AUT\", \"BLR\", \"BEL\", \"BGR\", \"CAN\", \"HRV\", \"CYP\", null, \"DNK\", \"EST\", null, \"FIN\", \"-99\", \"DEU\", \"GRC\", \"HUN\", \"ISL\", \"IRL\", \"ITA\", \"JPN\", \"LVA\", null, \"LTU\", \"LUX\", null, null, \"NLD\", \"NZL\", \"-99\", \"POL\", \"PRT\", \"ROU\", null, \"SVK\", \"SVN\", \"ESP\", \"SWE\", \"CHE\", \"TUR\", \"UKR\", \"GBR\", \"USA\"], \"name\": \"\", \"z\": [406200.993184341, 72531.826129136, 61632.492704327, 114155.386728776, 47678.6489573594, 555003.760260925, 21183.709310531, 8004.912020822, 115757.36858641, 48993.4173755474, 17833.779609149, 3933290.52224844, 63828.0182275297, 394235.674136659, 832259.203309583, 97035.0827603655, 52108.8927624657, 3383.55221868805, 41558.2750861697, 428879.681194381, 1212970.22514141, 8524.08722660934, 191.047501716787, 13618.9126645228, 11285.0274171344, 2690.51803520544, 75.4682651256747, 182529.786939532, 35017.2413542609, 45833.8920681508, 334026.154705205, 53583.8858598739, 80795.7740259277, 1662592.25855081, 38385.9425232062, 16363.4297727931, 283581.400657324, 53057.7346342268, 45027.0644798623, 320356.658972933, 287113.606385185, 507595.711988819, 5688756.00501015], \"type\": \"choropleth\"}], \"name\": \"2010\"}, {\"data\": [{\"coloraxis\": \"coloraxis\", \"geo\": \"geo\", \"hovertemplate\": \"year=2009<br>iso_a3=%{location}<br>value=%{z}<extra></extra>\", \"locationmode\": \"ISO-3\", \"locations\": [\"AUS\", \"AUT\", \"BLR\", \"BEL\", \"BGR\", \"CAN\", \"HRV\", \"CYP\", null, \"DNK\", \"EST\", null, \"FIN\", \"-99\", \"DEU\", \"GRC\", \"HUN\", \"ISL\", \"IRL\", \"ITA\", \"JPN\", \"LVA\", null, \"LTU\", \"LUX\", null, null, \"NLD\", \"NZL\", \"-99\", \"POL\", \"PRT\", \"ROU\", null, \"SVK\", \"SVN\", \"ESP\", \"SWE\", \"CHE\", \"TUR\", \"UKR\", \"GBR\", \"USA\"], \"name\": \"\", \"z\": [408448.47899963, 67682.7251493548, 59596.205375555, 107282.543508312, 45487.8735503956, 542829.458896225, 21965.6352675347, 8372.396591774, 113970.029219436, 48592.2113851369, 14153.005161794, 3814305.25795781, 55635.5827690138, 383957.624293905, 788422.437923384, 103969.78429385, 51630.6900244073, 3521.8907096149, 41996.3246778451, 418881.076903293, 1162606.19176432, 7443.28601054364, 205.590543733379, 12727.12003622, 10725.5221348792, 2684.52129301397, 77.7719361035662, 170796.156580042, 34806.4020881589, 43212.0924688473, 315937.965878291, 58004.1969738053, 85288.2940231284, 1576703.96685802, 37433.4334191131, 16328.2103332782, 296617.991048484, 47267.4466673127, 43509.0865581053, 310580.701035275, 269598.421828219, 489012.500484764, 5488320.28042503], \"type\": \"choropleth\"}], \"name\": \"2009\"}, {\"data\": [{\"coloraxis\": \"coloraxis\", \"geo\": \"geo\", \"hovertemplate\": \"year=2008<br>iso_a3=%{location}<br>value=%{z}<extra></extra>\", \"locationmode\": \"ISO-3\", \"locations\": [\"AUS\", \"AUT\", \"BLR\", \"BEL\", \"BGR\", \"CAN\", \"HRV\", \"CYP\", null, \"DNK\", \"EST\", null, \"FIN\", \"-99\", \"DEU\", \"GRC\", \"HUN\", \"ISL\", \"IRL\", \"ITA\", \"JPN\", \"LVA\", null, \"LTU\", \"LUX\", null, null, \"NLD\", \"NZL\", \"-99\", \"POL\", \"PRT\", \"ROU\", null, \"SVK\", \"SVN\", \"ESP\", \"SWE\", \"CHE\", \"TUR\", \"UKR\", \"GBR\", \"USA\"], \"name\": \"\", \"z\": [404237.828214077, 74066.2557920763, 63846.103794367, 120362.609842562, 53655.1401671903, 577444.930222255, 23715.3843178607, 8620.395581741, 121780.716313732, 50935.6715289027, 17264.5200333765, 4149624.29618927, 58461.6330236854, 401878.86465183, 853229.940752254, 110255.765521907, 57325.1623293437, 3567.20925966227, 47175.5402654915, 467933.59324447, 1235455.81022118, 8184.97124654311, 219.698915477856, 14963.2547162584, 11245.8724868627, 2822.40616690519, 81.376901087813, 176174.418350642, 37674.0517694367, 44893.0941871551, 329338.171084879, 60550.0402031828, 101035.420806089, 1684999.82263502, 41236.324036934, 18219.7304323115, 335994.803720112, 50831.5768143801, 44676.9439665557, 323536.545145816, 317063.843729194, 539916.163191626, 5923201.37582301], \"type\": \"choropleth\"}], \"name\": \"2008\"}, {\"data\": [{\"coloraxis\": \"coloraxis\", \"geo\": \"geo\", \"hovertemplate\": \"year=2007<br>iso_a3=%{location}<br>value=%{z}<extra></extra>\", \"locationmode\": \"ISO-3\", \"locations\": [\"AUS\", \"AUT\", \"BLR\", \"BEL\", \"BGR\", \"CAN\", \"HRV\", \"CYP\", null, \"DNK\", \"EST\", null, \"FIN\", \"-99\", \"DEU\", \"GRC\", \"HUN\", \"ISL\", \"IRL\", \"ITA\", \"JPN\", \"LVA\", null, \"LTU\", \"LUX\", null, null, \"NLD\", \"NZL\", \"-99\", \"POL\", \"PRT\", \"ROU\", null, \"SVK\", \"SVN\", \"ESP\", \"SWE\", \"CHE\", \"TUR\", \"UKR\", \"GBR\", \"USA\"], \"name\": \"\", \"z\": [398816.453543549, 74268.1107226333, 61563.881729088, 118027.408646158, 55184.4241047849, 596041.321973836, 24955.3759314165, 8458.664261444, 126933.162985254, 54429.0851744511, 18755.6479305233, 4244213.12941646, 66531.7208142561, 408508.589897444, 850795.7207597, 114127.554270902, 58419.0391671472, 3236.89533653359, 47493.1266838399, 478237.711240526, 1319799.19357988, 8610.25539674785, 200.920107913985, 15624.07633974, 11398.7059208596, 2831.64226468627, 82.7191922532151, 173178.420395882, 36651.3714858119, 45842.8095311711, 336268.110889212, 62791.1477666385, 104540.350942151, 1653139.05550251, 40725.2998364864, 17272.3791866788, 367292.283251434, 52911.7267272877, 43360.3856976932, 333166.418749646, 330087.250809744, 553719.939024983, 6121653.86307212], \"type\": \"choropleth\"}], \"name\": \"2007\"}, {\"data\": [{\"coloraxis\": \"coloraxis\", \"geo\": \"geo\", \"hovertemplate\": \"year=2006<br>iso_a3=%{location}<br>value=%{z}<extra></extra>\", \"locationmode\": \"ISO-3\", \"locations\": [\"AUS\", \"AUT\", \"BLR\", \"BEL\", \"BGR\", \"CAN\", \"HRV\", \"CYP\", null, \"DNK\", \"EST\", null, \"FIN\", \"-99\", \"DEU\", \"GRC\", \"HUN\", \"ISL\", \"IRL\", \"ITA\", \"JPN\", \"LVA\", null, \"LTU\", \"LUX\", null, null, \"NLD\", \"NZL\", \"-99\", \"POL\", \"PRT\", \"ROU\", null, \"SVK\", \"SVN\", \"ESP\", \"SWE\", \"CHE\", \"TUR\", \"UKR\", \"GBR\", \"USA\"], \"name\": \"\", \"z\": [391134.100909449, 76934.9515340371, 62229.398882869, 122319.593759433, 51446.2829381283, 573479.269701141, 23684.9350307817, 8152.492308125, 125923.402444959, 59162.4996316885, 15719.5289253761, 4297988.16195699, 68201.9059970754, 417662.678913825, 877422.45689212, 111777.743714104, 59751.7310814697, 2939.27659673656, 47405.9667288105, 486594.066569872, 1285177.83728116, 8289.2066784209, 231.217305115884, 14303.032680413, 11995.820174914, 2776.31430670588, 82.1239180016564, 172772.892779103, 37519.1047271712, 43913.7448222241, 336500.578934838, 65465.41971559, 106175.991142102, 1653289.19267186, 42320.4844795718, 17129.8019864058, 360063.336319558, 53697.6559330674, 45351.1719954308, 302195.954579745, 325586.622022044, 562083.094783584, 6042393.61487176], \"type\": \"choropleth\"}], \"name\": \"2006\"}, {\"data\": [{\"coloraxis\": \"coloraxis\", \"geo\": \"geo\", \"hovertemplate\": \"year=2005<br>iso_a3=%{location}<br>value=%{z}<extra></extra>\", \"locationmode\": \"ISO-3\", \"locations\": [\"AUS\", \"AUT\", \"BLR\", \"BEL\", \"BGR\", \"CAN\", \"HRV\", \"CYP\", null, \"DNK\", \"EST\", null, \"FIN\", \"-99\", \"DEU\", \"GRC\", \"HUN\", \"ISL\", \"IRL\", \"ITA\", \"JPN\", \"LVA\", null, \"LTU\", \"LUX\", null, null, \"NLD\", \"NZL\", \"-99\", \"POL\", \"PRT\", \"ROU\", null, \"SVK\", \"SVN\", \"ESP\", \"SWE\", \"CHE\", \"TUR\", \"UKR\", \"GBR\", \"USA\"], \"name\": \"\", \"z\": [385581.132806466, 79588.5018807541, 59664.73908178, 125118.016504076, 50191.1160644292, 579225.335719904, 23451.8458466746, 7961.983988964, 124590.137925265, 51307.2445174626, 16330.7338304477, 4290586.66799942, 56912.3148929823, 428557.610248936, 865958.513395873, 113219.822395958, 60329.5050120849, 2797.31459197845, 47952.2043880837, 490914.262890322, 1305938.82350271, 7790.40393195636, 228.970323897819, 13946.8843032497, 12130.9137942819, 2736.31293358517, 88.7506912513649, 177540.473199828, 37645.434299041, 43548.2302876495, 323372.578397668, 70034.5294076015, 102414.252372896, 1593933.34385535, 42581.0225015084, 16938.3242617391, 368745.068407983, 53859.2057258473, 45778.0894571267, 279130.740814477, 307341.483489843, 563783.537554562, 6122746.6118598], \"type\": \"choropleth\"}], \"name\": \"2005\"}, {\"data\": [{\"coloraxis\": \"coloraxis\", \"geo\": \"geo\", \"hovertemplate\": \"year=2004<br>iso_a3=%{location}<br>value=%{z}<extra></extra>\", \"locationmode\": \"ISO-3\", \"locations\": [\"AUS\", \"AUT\", \"BLR\", \"BEL\", \"BGR\", \"CAN\", \"HRV\", \"CYP\", null, \"DNK\", \"EST\", null, \"FIN\", \"-99\", \"DEU\", \"GRC\", \"HUN\", \"ISL\", \"IRL\", \"ITA\", \"JPN\", \"LVA\", null, \"LTU\", \"LUX\", null, null, \"NLD\", \"NZL\", \"-99\", \"POL\", \"PRT\", \"ROU\", null, \"SVK\", \"SVN\", \"ESP\", \"SWE\", \"CHE\", \"TUR\", \"UKR\", \"GBR\", \"USA\"], \"name\": \"\", \"z\": [381519.261592783, 78388.9974250799, 58457.64761596, 128640.48346799, 49170.3376894348, 585414.860574334, 23005.2348535353, 7776.909404745, 126876.916162316, 54916.9105639724, 17055.0742451822, 4314560.87112777, 68821.8128908428, 423168.636085445, 886344.629703686, 109571.060909579, 60231.6619844867, 2837.02901057771, 46042.4022484132, 492746.255602992, 1298433.88847959, 7709.46076182043, 229.296321626453, 13185.4933655222, 11871.1077184731, 2604.74483182786, 90.2005037527358, 181546.25702136, 36063.663329171, 44320.0048845842, 324279.449842642, 67458.1591415789, 104575.077756967, 1575180.85973468, 42576.9588896981, 16639.1710998347, 353472.612328343, 56428.8031427144, 45149.667089312, 253172.078433031, 296753.731531998, 566598.164015122, 6096978.36306809], \"type\": \"choropleth\"}], \"name\": \"2004\"}, {\"data\": [{\"coloraxis\": \"coloraxis\", \"geo\": \"geo\", \"hovertemplate\": \"year=2003<br>iso_a3=%{location}<br>value=%{z}<extra></extra>\", \"locationmode\": \"ISO-3\", \"locations\": [\"AUS\", \"AUT\", \"BLR\", \"BEL\", \"BGR\", \"CAN\", \"HRV\", \"CYP\", null, \"DNK\", \"EST\", null, \"FIN\", \"-99\", \"DEU\", \"GRC\", \"HUN\", \"ISL\", \"IRL\", \"ITA\", \"JPN\", \"LVA\", null, \"LTU\", \"LUX\", null, null, \"NLD\", \"NZL\", \"-99\", \"POL\", \"PRT\", \"ROU\", null, \"SVK\", \"SVN\", \"ESP\", \"SWE\", \"CHE\", \"TUR\", \"UKR\", \"GBR\", \"USA\"], \"name\": \"\", \"z\": [368345.977425107, 78023.9538963192, 54845.145835185, 127523.989700176, 49971.1515762142, 587306.678537712, 23355.2211046544, 7550.081927808, 126151.648802001, 60493.9617162995, 16833.2142927367, 4306103.94478558, 72522.5901920366, 422312.884466797, 900377.585440517, 109126.567554916, 61766.839595491, 2792.72313185368, 45554.322521515, 489595.50811926, 1299490.60851261, 7703.77150791307, 229.265875097937, 12605.2382016521, 10443.3832173203, 2666.13432525932, 95.2988549787458, 179867.888967448, 36497.1710064703, 43906.7096554175, 320230.170467384, 64697.2992169906, 105737.481034365, 1568510.14348381, 42060.5502497607, 16289.385897298, 336672.422515549, 57203.5990740056, 44587.9802671018, 240902.462872633, 285720.47993753, 565475.5203474, 5982289.16712555], \"type\": \"choropleth\"}], \"name\": \"2003\"}, {\"data\": [{\"coloraxis\": \"coloraxis\", \"geo\": \"geo\", \"hovertemplate\": \"year=2002<br>iso_a3=%{location}<br>value=%{z}<extra></extra>\", \"locationmode\": \"ISO-3\", \"locations\": [\"AUS\", \"AUT\", \"BLR\", \"BEL\", \"BGR\", \"CAN\", \"HRV\", \"CYP\", null, \"DNK\", \"EST\", null, \"FIN\", \"-99\", \"DEU\", \"GRC\", \"HUN\", \"ISL\", \"IRL\", \"ITA\", \"JPN\", \"LVA\", null, \"LTU\", \"LUX\", null, null, \"NLD\", \"NZL\", \"-99\", \"POL\", \"PRT\", \"ROU\", null, \"SVK\", \"SVN\", \"ESP\", \"SWE\", \"CHE\", \"TUR\", \"UKR\", \"GBR\", \"USA\"], \"name\": \"\", \"z\": [361861.387896028, 72126.5914446168, 53843.704423847, 126015.194675856, 45786.2947197982, 569862.145645112, 22031.1266650621, 7160.388457603, 122593.400101873, 55339.6716999691, 15020.2841500601, 4208860.12268355, 64946.4682059915, 413569.247853298, 899161.567421003, 105051.466199101, 58968.2277702584, 2795.90731167373, 45952.7301698154, 473504.059244666, 1294399.19841025, 7508.74324201186, 219.947204551546, 12614.4250089828, 10068.1403163216, 2464.21222943374, 98.1612757195457, 176462.400587543, 34768.2781829264, 42655.8748276072, 307535.642199397, 69954.4945153443, 100655.31311867, 1531200.21174359, 41593.5332476528, 16526.3127114803, 332200.842752654, 56631.8961687906, 43373.9855504706, 226365.412047989, 281939.349721843, 554227.635799311, 5935738.78360961], \"type\": \"choropleth\"}], \"name\": \"2002\"}, {\"data\": [{\"coloraxis\": \"coloraxis\", \"geo\": \"geo\", \"hovertemplate\": \"year=2001<br>iso_a3=%{location}<br>value=%{z}<extra></extra>\", \"locationmode\": \"ISO-3\", \"locations\": [\"AUS\", \"AUT\", \"BLR\", \"BEL\", \"BGR\", \"CAN\", \"HRV\", \"CYP\", null, \"DNK\", \"EST\", null, \"FIN\", \"-99\", \"DEU\", \"GRC\", \"HUN\", \"ISL\", \"IRL\", \"ITA\", \"JPN\", \"LVA\", null, \"LTU\", \"LUX\", null, null, \"NLD\", \"NZL\", \"-99\", \"POL\", \"PRT\", \"ROU\", null, \"SVK\", \"SVN\", \"ESP\", \"SWE\", \"CHE\", \"TUR\", \"UKR\", \"GBR\", \"USA\"], \"name\": \"\", \"z\": [357653.329899303, 70299.4711482287, 53783.847673632, 125649.370538717, 48568.9178318705, 564617.020300164, 20943.1099586839, 6969.466175788, 125541.536474736, 55845.147180549, 15493.8609887605, 4232036.86327499, 62442.6400686017, 417864.70558616, 915634.439635279, 105407.307598309, 59995.7344751382, 2710.29472706565, 47482.7207784323, 471124.276709558, 1257384.56001844, 7480.50260667025, 214.585310816839, 12507.9666751041, 9311.91612729174, 2550.60406083421, 98.5488680526432, 177037.401595998, 34581.7227646535, 43530.3487635507, 315274.093567475, 66113.7557093707, 100377.986962722, 1542500.06477849, 43468.0933515512, 16384.7561407934, 312395.403164009, 55686.7457499206, 45002.2787742299, 217469.503285608, 290774.709706588, 570697.030328595, 5894462.94151346], \"type\": \"choropleth\"}], \"name\": \"2001\"}, {\"data\": [{\"coloraxis\": \"coloraxis\", \"geo\": \"geo\", \"hovertemplate\": \"year=2000<br>iso_a3=%{location}<br>value=%{z}<extra></extra>\", \"locationmode\": \"ISO-3\", \"locations\": [\"AUS\", \"AUT\", \"BLR\", \"BEL\", \"BGR\", \"CAN\", \"HRV\", \"CYP\", null, \"DNK\", \"EST\", null, \"FIN\", \"-99\", \"DEU\", \"GRC\", \"HUN\", \"ISL\", \"IRL\", \"ITA\", \"JPN\", \"LVA\", null, \"LTU\", \"LUX\", null, null, \"NLD\", \"NZL\", \"-99\", \"POL\", \"PRT\", \"ROU\", null, \"SVK\", \"SVN\", \"ESP\", \"SWE\", \"CHE\", \"TUR\", \"UKR\", \"GBR\", \"USA\"], \"name\": \"\", \"z\": [349885.433108928, 66274.7432545115, 53686.857490672, 126315.209948975, 44896.670545605, 572290.385518472, 19789.1217501208, 7095.964384675, 125841.969268613, 54148.9049729906, 15141.3877177023, 4165145.4407136, 56973.3505273429, 417116.544673865, 899284.993390718, 103019.664690088, 58336.8070649933, 2728.93748510151, 45123.3354422644, 465175.073350703, 1274297.98807522, 7069.94204019894, 216.750456413769, 11801.964898672, 8798.1820808658, 2414.28381121499, 98.3243559267737, 172059.812230581, 32355.957023316, 42194.6191784625, 319120.405105406, 66411.3299157974, 95190.9034483113, 1504182.72891476, 41155.0114506149, 15460.154173141, 311599.723883928, 54730.4244140378, 43545.9597055165, 232549.18950468, 271429.773920677, 561280.866183966, 5992438.03977823], \"type\": \"choropleth\"}], \"name\": \"2000\"}, {\"data\": [{\"coloraxis\": \"coloraxis\", \"geo\": \"geo\", \"hovertemplate\": \"year=1999<br>iso_a3=%{location}<br>value=%{z}<extra></extra>\", \"locationmode\": \"ISO-3\", \"locations\": [\"AUS\", \"AUT\", \"BLR\", \"BEL\", \"BGR\", \"CAN\", \"HRV\", \"CYP\", null, \"DNK\", \"EST\", null, \"FIN\", \"-99\", \"DEU\", \"GRC\", \"HUN\", \"ISL\", \"IRL\", \"ITA\", \"JPN\", \"LVA\", null, \"LTU\", \"LUX\", null, null, \"NLD\", \"NZL\", \"-99\", \"POL\", \"PRT\", \"ROU\", null, \"SVK\", \"SVN\", \"ESP\", \"SWE\", \"CHE\", \"TUR\", \"UKR\", \"GBR\", \"USA\"], \"name\": \"\", \"z\": [343713.906947774, 65660.1336422327, 55033.952116896, 124208.071769964, 45751.789097251, 550183.063388038, 20215.653226001, 6847.659115972, 115475.259995958, 58456.4158198368, 15518.4906207187, 4139002.99479822, 58872.9308028447, 420506.321957388, 895336.786172859, 97979.7783523224, 61593.1410164197, 2655.39472544564, 42302.0878630807, 459840.64226897, 1253082.14716425, 7709.04999256645, 226.448838014394, 13422.1511465775, 7986.15588056852, 2418.55556461069, 100.659281930126, 171228.109552445, 31523.1860916854, 42691.7563679429, 329380.898350257, 67612.8118918815, 90443.3507659838, 1512651.93084896, 43181.3144851094, 15353.0714374852, 298531.027913034, 55861.2192155216, 44354.5431186679, 206388.619824108, 284109.569319534, 553827.549146135, 5818972.3854139], \"type\": \"choropleth\"}], \"name\": \"1999\"}, {\"data\": [{\"coloraxis\": \"coloraxis\", \"geo\": \"geo\", \"hovertemplate\": \"year=1998<br>iso_a3=%{location}<br>value=%{z}<extra></extra>\", \"locationmode\": \"ISO-3\", \"locations\": [\"AUS\", \"AUT\", \"BLR\", \"BEL\", \"BGR\", \"CAN\", \"HRV\", \"CYP\", null, \"DNK\", \"EST\", null, \"FIN\", \"-99\", \"DEU\", \"GRC\", \"HUN\", \"ISL\", \"IRL\", \"ITA\", \"JPN\", \"LVA\", null, \"LTU\", \"LUX\", null, null, \"NLD\", \"NZL\", \"-99\", \"POL\", \"PRT\", \"ROU\", null, \"SVK\", \"SVN\", \"ESP\", \"SWE\", \"CHE\", \"TUR\", \"UKR\", \"GBR\", \"USA\"], \"name\": \"\", \"z\": [334328.142646602, 67047.2506680177, 57426.329584039, 129737.090031462, 52143.3567693638, 533794.453645326, 19372.3876004329, 6580.296149717, 123696.517294897, 61117.3416291516, 16684.3031468739, 4207666.03163804, 59351.4981462986, 429051.499923046, 922778.540047935, 98663.1941625214, 61087.7637948753, 2450.23426342854, 40572.1758596239, 454967.633181096, 1218257.76164334, 8300.59527801083, 229.11710392684, 15901.5175726569, 7619.36328997421, 2338.06278770006, 99.8168591352245, 176617.168521043, 29927.5013796907, 41939.0379176034, 339145.82962033, 59976.20991864, 106813.977529299, 1476588.92527691, 44016.9870017177, 15980.4778466171, 274911.096949235, 58733.4063631372, 44522.3714213249, 208365.343988278, 309207.662874893, 561253.722845185, 5744672.1958021], \"type\": \"choropleth\"}], \"name\": \"1998\"}, {\"data\": [{\"coloraxis\": \"coloraxis\", \"geo\": \"geo\", \"hovertemplate\": \"year=1997<br>iso_a3=%{location}<br>value=%{z}<extra></extra>\", \"locationmode\": \"ISO-3\", \"locations\": [\"AUS\", \"AUT\", \"BLR\", \"BEL\", \"BGR\", \"CAN\", \"HRV\", \"CYP\", null, \"DNK\", \"EST\", null, \"FIN\", \"-99\", \"DEU\", \"GRC\", \"HUN\", \"ISL\", \"IRL\", \"ITA\", \"JPN\", \"LVA\", null, \"LTU\", \"LUX\", null, null, \"NLD\", \"NZL\", \"-99\", \"POL\", \"PRT\", \"ROU\", null, \"SVK\", \"SVN\", \"ESP\", \"SWE\", \"CHE\", \"TUR\", \"UKR\", \"GBR\", \"USA\"], \"name\": \"\", \"z\": [320439.116819391, 67455.8927304212, 60971.816305307, 123495.742758683, 54790.1341566389, 525120.011175522, 18666.4669752133, 6287.031657389, 128732.638710869, 65457.8348433241, 18223.6042706384, 4216524.73281421, 62698.0867925088, 407475.111806521, 930768.560542915, 93839.8699189575, 61549.9124641614, 2450.24391979067, 38675.594023595, 444055.433535223, 1253057.30667741, 8677.54581083478, 218.235372862382, 15086.2857611334, 8530.7453454746, 2331.95473493565, 101.0844813444, 175487.970753103, 31363.4526194792, 41683.1333687712, 368415.853280443, 55454.2110573498, 123515.853269646, 1502079.86636293, 45040.2697406883, 16275.5596667516, 266391.92680196, 58154.5297192918, 42971.6244552183, 208480.069613411, 334208.702214892, 557608.779401985, 5704996.86860223], \"type\": \"choropleth\"}], \"name\": \"1997\"}, {\"data\": [{\"coloraxis\": \"coloraxis\", \"geo\": \"geo\", \"hovertemplate\": \"year=1996<br>iso_a3=%{location}<br>value=%{z}<extra></extra>\", \"locationmode\": \"ISO-3\", \"locations\": [\"AUS\", \"AUT\", \"BLR\", \"BEL\", \"BGR\", \"CAN\", \"HRV\", \"CYP\", null, \"DNK\", \"EST\", null, \"FIN\", \"-99\", \"DEU\", \"GRC\", \"HUN\", \"ISL\", \"IRL\", \"ITA\", \"JPN\", \"LVA\", null, \"LTU\", \"LUX\", null, null, \"NLD\", \"NZL\", \"-99\", \"POL\", \"PRT\", \"ROU\", null, \"SVK\", \"SVN\", \"ESP\", \"SWE\", \"CHE\", \"TUR\", \"UKR\", \"GBR\", \"USA\"], \"name\": \"\", \"z\": [311914.819824229, 67667.2626980903, 57251.355700374, 129010.471708927, 57581.194759982, 510619.682210148, 17587.8984604534, 6156.132133961, 132234.071786388, 75110.840989738, 18666.1359705806, 4304793.28338046, 64038.9222021128, 414013.070054113, 958368.724698229, 89134.4253965711, 62950.2532137021, 2385.91382557077, 37335.1081070614, 440235.507200098, 1255264.19757618, 9216.3839879477, 205.809089624326, 15676.8310317989, 9217.19030053529, 2329.18169821771, 102.31953844658, 182573.582902116, 29368.2649922759, 41586.7085615304, 377308.59613738, 52348.4688110753, 131939.69450211, 1581293.21958917, 44978.9115789435, 15945.1761136753, 253708.870128625, 63238.7859377907, 44088.3349466694, 194751.7794059, 344347.189394243, 582752.784369152, 5630113.71546884], \"type\": \"choropleth\"}], \"name\": \"1996\"}, {\"data\": [{\"coloraxis\": \"coloraxis\", \"geo\": \"geo\", \"hovertemplate\": \"year=1995<br>iso_a3=%{location}<br>value=%{z}<extra></extra>\", \"locationmode\": \"ISO-3\", \"locations\": [\"AUS\", \"AUT\", \"BLR\", \"BEL\", \"BGR\", \"CAN\", \"HRV\", \"CYP\", null, \"DNK\", \"EST\", null, \"FIN\", \"-99\", \"DEU\", \"GRC\", \"HUN\", \"ISL\", \"IRL\", \"ITA\", \"JPN\", \"LVA\", null, \"LTU\", \"LUX\", null, null, \"NLD\", \"NZL\", \"-99\", \"POL\", \"PRT\", \"ROU\", null, \"SVK\", \"SVN\", \"ESP\", \"SWE\", \"CHE\", \"TUR\", \"UKR\", \"GBR\", \"USA\"], \"name\": \"\", \"z\": [305162.543548735, 64202.1592201769, 56005.93938238, 125519.441990638, 57221.6062924032, 497224.83692526, 16992.8004192757, 5848.043785196, 129767.166426691, 61914.1610128897, 17953.7359736926, 4204480.85553967, 58126.247543133, 401571.225451732, 938148.0930919, 86980.6457725937, 61354.4620207158, 2299.61365454463, 35718.7485642434, 447201.168755567, 1242494.02197198, 9141.35351650325, 204.05592043076, 15022.5441346944, 9155.85264991365, 2313.21608944717, 98.9904298934365, 173196.297429017, 28143.4576273053, 38464.9066615123, 363885.777573228, 55134.3294664048, 128587.003639727, 1629496.29767829, 44679.5449583075, 15277.7447752259, 265725.3506663, 59318.672714076, 43368.4571561622, 178812.409473623, 380871.283680675, 561202.9539948, 5441599.22972902], \"type\": \"choropleth\"}], \"name\": \"1995\"}, {\"data\": [{\"coloraxis\": \"coloraxis\", \"geo\": \"geo\", \"hovertemplate\": \"year=1994<br>iso_a3=%{location}<br>value=%{z}<extra></extra>\", \"locationmode\": \"ISO-3\", \"locations\": [\"AUS\", \"AUT\", \"BLR\", \"BEL\", \"BGR\", \"CAN\", \"HRV\", \"CYP\", null, \"DNK\", \"EST\", null, \"FIN\", \"-99\", \"DEU\", \"GRC\", \"HUN\", \"ISL\", \"IRL\", \"ITA\", \"JPN\", \"LVA\", null, \"LTU\", \"LUX\", null, null, \"NLD\", \"NZL\", \"-99\", \"POL\", \"PRT\", \"ROU\", null, \"SVK\", \"SVN\", \"ESP\", \"SWE\", \"CHE\", \"TUR\", \"UKR\", \"GBR\", \"USA\"], \"name\": \"\", \"z\": [293830.709141192, 61189.1025048542, 62402.279082903, 124426.885709848, 55649.0813153431, 482691.671271798, 16342.1818762402, 5977.257104602, 129188.734109272, 64988.7809040025, 19626.4459432317, 4161321.31739286, 61696.3853292446, 394536.962436592, 939207.328236553, 86425.8565118787, 61568.3745934751, 2248.36895252634, 34696.485727221, 421404.099922133, 1228936.69128837, 10399.1411291737, 200.961153022994, 15765.4147628091, 11560.5716944518, 2302.77027658996, 101.872636286934, 175008.703110698, 27879.0592141093, 38434.7651928654, 362012.958757259, 51303.2041493178, 122610.776956391, 1685494.54694021, 43638.4901175531, 14648.7255407292, 252389.348341529, 59876.998756461, 42613.303737038, 164623.553279146, 409721.673978029, 569458.364876459, 5377492.21747199], \"type\": \"choropleth\"}], \"name\": \"1994\"}, {\"data\": [{\"coloraxis\": \"coloraxis\", \"geo\": \"geo\", \"hovertemplate\": \"year=1993<br>iso_a3=%{location}<br>value=%{z}<extra></extra>\", \"locationmode\": \"ISO-3\", \"locations\": [\"AUS\", \"AUT\", \"BLR\", \"BEL\", \"BGR\", \"CAN\", \"HRV\", \"CYP\", null, \"DNK\", \"EST\", null, \"FIN\", \"-99\", \"DEU\", \"GRC\", \"HUN\", \"ISL\", \"IRL\", \"ITA\", \"JPN\", \"LVA\", null, \"LTU\", \"LUX\", null, null, \"NLD\", \"NZL\", \"-99\", \"POL\", \"PRT\", \"ROU\", null, \"SVK\", \"SVN\", \"ESP\", \"SWE\", \"CHE\", \"TUR\", \"UKR\", \"GBR\", \"USA\"], \"name\": \"\", \"z\": [289142.267681326, 60790.7577213156, 75551.755291625, 121156.964954729, 57203.9355176784, 467607.237235461, 17081.2280227503, 5733.674102128, 135588.565572531, 61038.6712439614, 18810.9639158495, 4177106.50927114, 56333.26799423, 394334.83380057, 955977.599356065, 84263.0078976228, 63174.9783732307, 2294.50464413142, 33574.9717415815, 429158.009174904, 1167714.71812869, 11966.1455063059, 214.867690812009, 16347.1718255148, 12375.507079302, 2252.06276712832, 100.881938455885, 171497.891064769, 27697.2273476821, 36520.7838206741, 366427.660913436, 50502.1225996005, 124819.100092444, 1909577.84022625, 46467.5491941913, 14303.9936504337, 239938.287255991, 57425.9514469075, 43556.2764199287, 167443.152055541, 498504.838991931, 574764.752712009, 5284758.62020545], \"type\": \"choropleth\"}], \"name\": \"1993\"}, {\"data\": [{\"coloraxis\": \"coloraxis\", \"geo\": \"geo\", \"hovertemplate\": \"year=1992<br>iso_a3=%{location}<br>value=%{z}<extra></extra>\", \"locationmode\": \"ISO-3\", \"locations\": [\"AUS\", \"AUT\", \"BLR\", \"BEL\", \"BGR\", \"CAN\", \"HRV\", \"CYP\", null, \"DNK\", \"EST\", null, \"FIN\", \"-99\", \"DEU\", \"GRC\", \"HUN\", \"ISL\", \"IRL\", \"ITA\", \"JPN\", \"LVA\", null, \"LTU\", \"LUX\", null, null, \"NLD\", \"NZL\", \"-99\", \"POL\", \"PRT\", \"ROU\", null, \"SVK\", \"SVN\", \"ESP\", \"SWE\", \"CHE\", \"TUR\", \"UKR\", \"GBR\", \"USA\"], \"name\": \"\", \"z\": [284766.092717838, 60432.2493410185, 87060.81028961, 122217.919518023, 56551.5935722778, 468546.458912059, 16607.1344792414, 5482.974869661, 141565.719740237, 58960.3115236108, 24187.827575953, 4259922.81188982, 54264.3793101323, 414955.076785321, 965790.835271489, 84949.0258298748, 62050.1263972833, 2172.61936326312, 33344.1023763207, 435535.835117712, 1174619.00608734, 14244.6533850411, 206.776032802858, 21207.8873890696, 12253.5715940463, 2174.6344662953, 101.742603038854, 170975.242888508, 28099.6999900939, 34833.2478178252, 365865.15951878, 51850.5656733148, 132732.908743069, 2013175.48242406, 48979.1257649755, 14009.3986307298, 248407.160135641, 57482.0646582609, 45974.7025405505, 158571.546483621, 577064.259624575, 589306.018141796, 5170274.35048577], \"type\": \"choropleth\"}], \"name\": \"1992\"}, {\"data\": [{\"coloraxis\": \"coloraxis\", \"geo\": \"geo\", \"hovertemplate\": \"year=1991<br>iso_a3=%{location}<br>value=%{z}<extra></extra>\", \"locationmode\": \"ISO-3\", \"locations\": [\"AUS\", \"AUT\", \"BLR\", \"BEL\", \"BGR\", \"CAN\", \"HRV\", \"CYP\", null, \"DNK\", \"EST\", null, \"FIN\", \"-99\", \"DEU\", \"GRC\", \"HUN\", \"ISL\", \"IRL\", \"ITA\", \"JPN\", \"LVA\", null, \"LTU\", \"LUX\", null, null, \"NLD\", \"NZL\", \"-99\", \"POL\", \"PRT\", \"ROU\", null, \"SVK\", \"SVN\", \"ESP\", \"SWE\", \"CHE\", \"TUR\", \"UKR\", \"GBR\", \"USA\"], \"name\": \"\", \"z\": [279741.639011863, 65903.513308256, 93649.166141388, 123130.652897225, 59769.3415026104, 454246.137946001, 17268.9103457996, 5107.082886881, 146047.33959314, 64874.8138594637, 33662.372514403, 4403723.16147676, 55187.1794528947, 425042.920702848, 1014119.71977239, 83390.3546805713, 69392.7256389081, 2042.93697601045, 33508.44202382, 435938.613895185, 1164474.34578731, 18021.1952417204, 206.146706845605, 37908.6124957275, 12467.5131948589, 2041.24609263112, 96.1472045795796, 171081.473914794, 26108.064501553, 34070.978364376, 375684.15694778, 47406.8424856753, 143586.607530198, 2433187.64541119, 53447.4400150003, 14007.2826135476, 239725.183689106, 57755.634675433, 46144.809538993, 152335.174224314, 621305.236399432, 604652.896877579, 5064879.75034285], \"type\": \"choropleth\"}], \"name\": \"1991\"}, {\"data\": [{\"coloraxis\": \"coloraxis\", \"geo\": \"geo\", \"hovertemplate\": \"year=1990<br>iso_a3=%{location}<br>value=%{z}<extra></extra>\", \"locationmode\": \"ISO-3\", \"locations\": [\"AUS\", \"AUT\", \"BLR\", \"BEL\", \"BGR\", \"CAN\", \"HRV\", \"CYP\", null, \"DNK\", \"EST\", null, \"FIN\", \"-99\", \"DEU\", \"GRC\", \"HUN\", \"ISL\", \"IRL\", \"ITA\", \"JPN\", \"LVA\", null, \"LTU\", \"LUX\", null, null, \"NLD\", \"NZL\", \"-99\", \"POL\", \"PRT\", \"ROU\", null, \"SVK\", \"SVN\", \"ESP\", \"SWE\", \"CHE\", \"TUR\", \"UKR\", \"GBR\", \"USA\"], \"name\": \"\", \"z\": [278265.898940768, 62297.1655681668, 100438.095063708, 119982.503418506, 78197.8812570199, 463493.332387577, 23390.075209187, 4621.007176785, 161662.018871736, 54306.4333356516, 36666.0272974484, 4462205.14458363, 56950.8481820202, 400652.624020681, 1052238.2340002, 83403.7199982216, 73115.1986276439, 2106.02606837613, 32768.5267614461, 436204.249867101, 1155993.61991868, 19794.2944546485, 198.775112043709, 35812.8936845412, 11944.0073852812, 1860.47364818374, 95.3851833205759, 162497.559622722, 25419.7716716116, 35694.8243978959, 378782.539166168, 45809.0714101803, 174731.886787722, 2589725.30553003, 61837.5667856109, 15088.3050462456, 230154.963134126, 57546.5432515479, 44115.5340859731, 146750.63697943, 693024.76655995, 596398.473207427, 5115095.04749812], \"type\": \"choropleth\"}], \"name\": \"1990\"}]);\n",
       "                        }).then(function(){\n",
       "                            \n",
       "var gd = document.getElementById('29461324-f695-4524-b323-fb7217954e6f');\n",
       "var x = new MutationObserver(function (mutations, observer) {{\n",
       "        var display = window.getComputedStyle(gd).display;\n",
       "        if (!display || display === 'none') {{\n",
       "            console.log([gd, 'removed!']);\n",
       "            Plotly.purge(gd);\n",
       "            observer.disconnect();\n",
       "        }}\n",
       "}});\n",
       "\n",
       "// Listen for the removal of the full notebook cells\n",
       "var notebookContainer = gd.closest('#notebook-container');\n",
       "if (notebookContainer) {{\n",
       "    x.observe(notebookContainer, {childList: true});\n",
       "}}\n",
       "\n",
       "// Listen for the clearing of the current output cell\n",
       "var outputEl = gd.closest('.output');\n",
       "if (outputEl) {{\n",
       "    x.observe(outputEl, {childList: true});\n",
       "}}\n",
       "\n",
       "                        })                };                });            </script>        </div>"
      ]
     },
     "metadata": {},
     "output_type": "display_data"
    }
   ],
   "source": [
    "fig4.show()"
   ]
  },
  {
   "cell_type": "code",
   "execution_count": 6,
   "metadata": {},
   "outputs": [],
   "source": [
    "# df = pd.concat([df1, df2], axis=0)"
   ]
  },
  {
   "cell_type": "code",
   "execution_count": 1,
   "metadata": {},
   "outputs": [
    {
     "name": "stderr",
     "output_type": "stream",
     "text": [
      "<>:252: SyntaxWarning: \"is not\" with a literal. Did you mean \"!=\"?\n",
      "<>:267: SyntaxWarning: \"is\" with a literal. Did you mean \"==\"?\n",
      "<>:268: SyntaxWarning: \"is\" with a literal. Did you mean \"==\"?\n",
      "<>:363: SyntaxWarning: \"is\" with a literal. Did you mean \"==\"?\n",
      "<>:252: SyntaxWarning: \"is not\" with a literal. Did you mean \"!=\"?\n",
      "<>:267: SyntaxWarning: \"is\" with a literal. Did you mean \"==\"?\n",
      "<>:268: SyntaxWarning: \"is\" with a literal. Did you mean \"==\"?\n",
      "<>:363: SyntaxWarning: \"is\" with a literal. Did you mean \"==\"?\n"
     ]
    },
    {
     "name": "stdout",
     "output_type": "stream",
     "text": [
      "Dash is running on http://127.0.0.1:8050/\n",
      "\n",
      " * Serving Flask app \"__main__\" (lazy loading)\n",
      " * Environment: production\n",
      "   WARNING: This is a development server. Do not use it in a production deployment.\n",
      "   Use a production WSGI server instead.\n",
      " * Debug mode: on\n"
     ]
    },
    {
     "name": "stderr",
     "output_type": "stream",
     "text": [
      "<ipython-input-1-f1449e151f89>:58: VisibleDeprecationWarning: Creating an ndarray from ragged nested sequences (which is a list-or-tuple of lists-or-tuples-or ndarrays with different lengths or shapes) is deprecated. If you meant to do this, you must specify 'dtype=object' when creating the ndarray\n",
      "  totalList = np.array(totalList)\n",
      "<ipython-input-1-f1449e151f89>:252: SyntaxWarning: \"is not\" with a literal. Did you mean \"!=\"?\n",
      "  if selection is not None or len(selection) is not 0:\n",
      "<ipython-input-1-f1449e151f89>:267: SyntaxWarning: \"is\" with a literal. Did you mean \"==\"?\n",
      "  or len(selection) is 24\n",
      "<ipython-input-1-f1449e151f89>:268: SyntaxWarning: \"is\" with a literal. Did you mean \"==\"?\n",
      "  or len(selection) is 0\n",
      "<ipython-input-1-f1449e151f89>:363: SyntaxWarning: \"is\" with a literal. Did you mean \"==\"?\n",
      "  if selectedData is None or len(selectedData) is 0:\n"
     ]
    },
    {
     "ename": "SystemExit",
     "evalue": "1",
     "output_type": "error",
     "traceback": [
      "An exception has occurred, use %tb to see the full traceback.\n",
      "\u001b[1;31mSystemExit\u001b[0m\u001b[1;31m:\u001b[0m 1\n"
     ]
    },
    {
     "name": "stderr",
     "output_type": "stream",
     "text": [
      "C:\\Users\\olobo\\anaconda3\\lib\\site-packages\\IPython\\core\\interactiveshell.py:3426: UserWarning: To exit: use 'exit', 'quit', or Ctrl-D.\n",
      "  warn(\"To exit: use 'exit', 'quit', or Ctrl-D.\", stacklevel=1)\n"
     ]
    }
   ],
   "source": [
    "import dash\n",
    "import dash_core_components as dcc\n",
    "import dash_html_components as html\n",
    "import pandas as pd\n",
    "import numpy as np\n",
    "\n",
    "from dash.dependencies import Input, Output\n",
    "from plotly import graph_objs as go\n",
    "from plotly.graph_objs import *\n",
    "from datetime import datetime as dt\n",
    "\n",
    "\n",
    "app = dash.Dash(\n",
    "    __name__, meta_tags=[{\"name\": \"viewport\", \"content\": \"width=device-width\"}]\n",
    ")\n",
    "server = app.server\n",
    "\n",
    "\n",
    "# Plotly mapbox public token\n",
    "mapbox_access_token = \"pk.eyJ1IjoicGxvdGx5bWFwYm94IiwiYSI6ImNrOWJqb2F4djBnMjEzbG50amg0dnJieG4ifQ.Zme1-Uzoi75IaFbieBDl3A\"\n",
    "\n",
    "# Dictionary of important locations in New York\n",
    "list_of_locations = {\n",
    "    \"Madison Square Garden\": {\"lat\": 40.7505, \"lon\": -73.9934},\n",
    "    \"Yankee Stadium\": {\"lat\": 40.8296, \"lon\": -73.9262},\n",
    "    \"Empire State Building\": {\"lat\": 40.7484, \"lon\": -73.9857},\n",
    "    \"New York Stock Exchange\": {\"lat\": 40.7069, \"lon\": -74.0113},\n",
    "    \"JFK Airport\": {\"lat\": 40.644987, \"lon\": -73.785607},\n",
    "    \"Grand Central Station\": {\"lat\": 40.7527, \"lon\": -73.9772},\n",
    "    \"Times Square\": {\"lat\": 40.7589, \"lon\": -73.9851},\n",
    "    \"Columbia University\": {\"lat\": 40.8075, \"lon\": -73.9626},\n",
    "    \"United Nations HQ\": {\"lat\": 40.7489, \"lon\": -73.9680},\n",
    "}\n",
    "\n",
    "# Initialize data frame\n",
    "df1 = pd.read_csv(\n",
    "    \"https://raw.githubusercontent.com/plotly/datasets/master/uber-rides-data1.csv\",\n",
    "    dtype=object,\n",
    ")\n",
    "df2 = pd.read_csv(\n",
    "    \"https://raw.githubusercontent.com/plotly/datasets/master/uber-rides-data2.csv\",\n",
    "    dtype=object,\n",
    ")\n",
    "df3 = pd.read_csv(\n",
    "    \"https://raw.githubusercontent.com/plotly/datasets/master/uber-rides-data3.csv\",\n",
    "    dtype=object,\n",
    ")\n",
    "df = pd.concat([df1, df2, df3], axis=0)\n",
    "df[\"Date/Time\"] = pd.to_datetime(df[\"Date/Time\"], format=\"%Y-%m-%d %H:%M\")\n",
    "df.index = df[\"Date/Time\"]\n",
    "df.drop(\"Date/Time\", 1, inplace=True)\n",
    "totalList = []\n",
    "for month in df.groupby(df.index.month):\n",
    "    dailyList = []\n",
    "    for day in month[1].groupby(month[1].index.day):\n",
    "        dailyList.append(day[1])\n",
    "    totalList.append(dailyList)\n",
    "totalList = np.array(totalList)\n",
    "\n",
    "# Layout of Dash App\n",
    "app.layout = html.Div(\n",
    "    children=[\n",
    "        html.Div(\n",
    "            className=\"row\",\n",
    "            children=[\n",
    "                # Column for user controls\n",
    "                html.Div(\n",
    "                    className=\"four columns div-user-controls\",\n",
    "                    children=[\n",
    "                        html.Img(\n",
    "                            className=\"logo\", src=app.get_asset_url(\"dash-logo-new.png\")\n",
    "                        ),\n",
    "                        html.H2(\"DASH - UBER DATA APP\"),\n",
    "                        html.P(\n",
    "                            \"\"\"Select different days using the date picker or by selecting\n",
    "                            different time frames on the histogram.\"\"\"\n",
    "                        ),\n",
    "                        html.Div(\n",
    "                            className=\"div-for-dropdown\",\n",
    "                            children=[\n",
    "                                dcc.DatePickerSingle(\n",
    "                                    id=\"date-picker\",\n",
    "                                    min_date_allowed=dt(2014, 4, 1),\n",
    "                                    max_date_allowed=dt(2014, 9, 30),\n",
    "                                    initial_visible_month=dt(2014, 4, 1),\n",
    "                                    date=dt(2014, 4, 1).date(),\n",
    "                                    display_format=\"MMMM D, YYYY\",\n",
    "                                    style={\"border\": \"0px solid black\"},\n",
    "                                )\n",
    "                            ],\n",
    "                        ),\n",
    "                        # Change to side-by-side for mobile layout\n",
    "                        html.Div(\n",
    "                            className=\"row\",\n",
    "                            children=[\n",
    "                                html.Div(\n",
    "                                    className=\"div-for-dropdown\",\n",
    "                                    children=[\n",
    "                                        # Dropdown for locations on map\n",
    "                                        dcc.Dropdown(\n",
    "                                            id=\"location-dropdown\",\n",
    "                                            options=[\n",
    "                                                {\"label\": i, \"value\": i}\n",
    "                                                for i in list_of_locations\n",
    "                                            ],\n",
    "                                            placeholder=\"Select a location\",\n",
    "                                        )\n",
    "                                    ],\n",
    "                                ),\n",
    "                                html.Div(\n",
    "                                    className=\"div-for-dropdown\",\n",
    "                                    children=[\n",
    "                                        # Dropdown to select times\n",
    "                                        dcc.Dropdown(\n",
    "                                            id=\"bar-selector\",\n",
    "                                            options=[\n",
    "                                                {\n",
    "                                                    \"label\": str(n) + \":00\",\n",
    "                                                    \"value\": str(n),\n",
    "                                                }\n",
    "                                                for n in range(24)\n",
    "                                            ],\n",
    "                                            multi=True,\n",
    "                                            placeholder=\"Select certain hours\",\n",
    "                                        )\n",
    "                                    ],\n",
    "                                ),\n",
    "                            ],\n",
    "                        ),\n",
    "                        html.P(id=\"total-rides\"),\n",
    "                        html.P(id=\"total-rides-selection\"),\n",
    "                        html.P(id=\"date-value\"),\n",
    "                        dcc.Markdown(\n",
    "                            children=[\n",
    "                                \"Source: [FiveThirtyEight](https://github.com/fivethirtyeight/uber-tlc-foil-response/tree/master/uber-trip-data)\"\n",
    "                            ]\n",
    "                        ),\n",
    "                    ],\n",
    "                ),\n",
    "                # Column for app graphs and plots\n",
    "                html.Div(\n",
    "                    className=\"eight columns div-for-charts bg-grey\",\n",
    "                    children=[\n",
    "                        dcc.Graph(id=\"map-graph\"),\n",
    "                        html.Div(\n",
    "                            className=\"text-padding\",\n",
    "                            children=[\n",
    "                                \"Select any of the bars on the histogram to section data by time.\"\n",
    "                            ],\n",
    "                        ),\n",
    "                        dcc.Graph(id=\"histogram\"),\n",
    "                    ],\n",
    "                ),\n",
    "            ],\n",
    "        )\n",
    "    ]\n",
    ")\n",
    "\n",
    "# Gets the amount of days in the specified month\n",
    "# Index represents month (0 is April, 1 is May, ... etc.)\n",
    "daysInMonth = [30, 31, 30, 31, 31, 30]\n",
    "\n",
    "# Get index for the specified month in the dataframe\n",
    "monthIndex = pd.Index([\"Apr\", \"May\", \"June\", \"July\", \"Aug\", \"Sept\"])\n",
    "\n",
    "# Get the amount of rides per hour based on the time selected\n",
    "# This also higlights the color of the histogram bars based on\n",
    "# if the hours are selected\n",
    "def get_selection(month, day, selection):\n",
    "    xVal = []\n",
    "    yVal = []\n",
    "    xSelected = []\n",
    "    colorVal = [\n",
    "        \"#F4EC15\",\n",
    "        \"#DAF017\",\n",
    "        \"#BBEC19\",\n",
    "        \"#9DE81B\",\n",
    "        \"#80E41D\",\n",
    "        \"#66E01F\",\n",
    "        \"#4CDC20\",\n",
    "        \"#34D822\",\n",
    "        \"#24D249\",\n",
    "        \"#25D042\",\n",
    "        \"#26CC58\",\n",
    "        \"#28C86D\",\n",
    "        \"#29C481\",\n",
    "        \"#2AC093\",\n",
    "        \"#2BBCA4\",\n",
    "        \"#2BB5B8\",\n",
    "        \"#2C99B4\",\n",
    "        \"#2D7EB0\",\n",
    "        \"#2D65AC\",\n",
    "        \"#2E4EA4\",\n",
    "        \"#2E38A4\",\n",
    "        \"#3B2FA0\",\n",
    "        \"#4E2F9C\",\n",
    "        \"#603099\",\n",
    "    ]\n",
    "\n",
    "    # Put selected times into a list of numbers xSelected\n",
    "    xSelected.extend([int(x) for x in selection])\n",
    "\n",
    "    for i in range(24):\n",
    "        # If bar is selected then color it white\n",
    "        if i in xSelected and len(xSelected) < 24:\n",
    "            colorVal[i] = \"#FFFFFF\"\n",
    "        xVal.append(i)\n",
    "        # Get the number of rides at a particular time\n",
    "        yVal.append(len(totalList[month][day][totalList[month][day].index.hour == i]))\n",
    "    return [np.array(xVal), np.array(yVal), np.array(colorVal)]\n",
    "\n",
    "\n",
    "# Selected Data in the Histogram updates the Values in the Hours selection dropdown menu\n",
    "@app.callback(\n",
    "    Output(\"bar-selector\", \"value\"),\n",
    "    [Input(\"histogram\", \"selectedData\"), Input(\"histogram\", \"clickData\")],\n",
    ")\n",
    "def update_bar_selector(value, clickData):\n",
    "    holder = []\n",
    "    if clickData:\n",
    "        holder.append(str(int(clickData[\"points\"][0][\"x\"])))\n",
    "    if value:\n",
    "        for x in value[\"points\"]:\n",
    "            holder.append(str(int(x[\"x\"])))\n",
    "    return list(set(holder))\n",
    "\n",
    "\n",
    "# Clear Selected Data if Click Data is used\n",
    "@app.callback(Output(\"histogram\", \"selectedData\"), [Input(\"histogram\", \"clickData\")])\n",
    "def update_selected_data(clickData):\n",
    "    if clickData:\n",
    "        return {\"points\": []}\n",
    "\n",
    "\n",
    "# Update the total number of rides Tag\n",
    "@app.callback(Output(\"total-rides\", \"children\"), [Input(\"date-picker\", \"date\")])\n",
    "def update_total_rides(datePicked):\n",
    "    date_picked = dt.strptime(datePicked, \"%Y-%m-%d\")\n",
    "    return \"Total Number of rides: {:,d}\".format(\n",
    "        len(totalList[date_picked.month - 4][date_picked.day - 1])\n",
    "    )\n",
    "\n",
    "\n",
    "# Update the total number of rides in selected times\n",
    "@app.callback(\n",
    "    [Output(\"total-rides-selection\", \"children\"), Output(\"date-value\", \"children\")],\n",
    "    [Input(\"date-picker\", \"date\"), Input(\"bar-selector\", \"value\")],\n",
    ")\n",
    "def update_total_rides_selection(datePicked, selection):\n",
    "    firstOutput = \"\"\n",
    "\n",
    "    if selection is not None or len(selection) is not 0:\n",
    "        date_picked = dt.strptime(datePicked, \"%Y-%m-%d\")\n",
    "        totalInSelection = 0\n",
    "        for x in selection:\n",
    "            totalInSelection += len(\n",
    "                totalList[date_picked.month - 4][date_picked.day - 1][\n",
    "                    totalList[date_picked.month - 4][date_picked.day - 1].index.hour\n",
    "                    == int(x)\n",
    "                ]\n",
    "            )\n",
    "        firstOutput = \"Total rides in selection: {:,d}\".format(totalInSelection)\n",
    "\n",
    "    if (\n",
    "        datePicked is None\n",
    "        or selection is None\n",
    "        or len(selection) is 24\n",
    "        or len(selection) is 0\n",
    "    ):\n",
    "        return firstOutput, (datePicked, \" - showing hour(s): All\")\n",
    "\n",
    "    holder = sorted([int(x) for x in selection])\n",
    "\n",
    "    if holder == list(range(min(holder), max(holder) + 1)):\n",
    "        return (\n",
    "            firstOutput,\n",
    "            (\n",
    "                datePicked,\n",
    "                \" - showing hour(s): \",\n",
    "                holder[0],\n",
    "                \"-\",\n",
    "                holder[len(holder) - 1],\n",
    "            ),\n",
    "        )\n",
    "\n",
    "    holder_to_string = \", \".join(str(x) for x in holder)\n",
    "    return firstOutput, (datePicked, \" - showing hour(s): \", holder_to_string)\n",
    "\n",
    "\n",
    "# Update Histogram Figure based on Month, Day and Times Chosen\n",
    "@app.callback(\n",
    "    Output(\"histogram\", \"figure\"),\n",
    "    [Input(\"date-picker\", \"date\"), Input(\"bar-selector\", \"value\")],\n",
    ")\n",
    "def update_histogram(datePicked, selection):\n",
    "    date_picked = dt.strptime(datePicked, \"%Y-%m-%d\")\n",
    "    monthPicked = date_picked.month - 4\n",
    "    dayPicked = date_picked.day - 1\n",
    "\n",
    "    [xVal, yVal, colorVal] = get_selection(monthPicked, dayPicked, selection)\n",
    "\n",
    "    layout = go.Layout(\n",
    "        bargap=0.01,\n",
    "        bargroupgap=0,\n",
    "        barmode=\"group\",\n",
    "        margin=go.layout.Margin(l=10, r=0, t=0, b=50),\n",
    "        showlegend=False,\n",
    "        plot_bgcolor=\"#323130\",\n",
    "        paper_bgcolor=\"#323130\",\n",
    "        dragmode=\"select\",\n",
    "        font=dict(color=\"white\"),\n",
    "        xaxis=dict(\n",
    "            range=[-0.5, 23.5],\n",
    "            showgrid=False,\n",
    "            nticks=25,\n",
    "            fixedrange=True,\n",
    "            ticksuffix=\":00\",\n",
    "        ),\n",
    "        yaxis=dict(\n",
    "            range=[0, max(yVal) + max(yVal) / 4],\n",
    "            showticklabels=False,\n",
    "            showgrid=False,\n",
    "            fixedrange=True,\n",
    "            rangemode=\"nonnegative\",\n",
    "            zeroline=False,\n",
    "        ),\n",
    "        annotations=[\n",
    "            dict(\n",
    "                x=xi,\n",
    "                y=yi,\n",
    "                text=str(yi),\n",
    "                xanchor=\"center\",\n",
    "                yanchor=\"bottom\",\n",
    "                showarrow=False,\n",
    "                font=dict(color=\"white\"),\n",
    "            )\n",
    "            for xi, yi in zip(xVal, yVal)\n",
    "        ],\n",
    "    )\n",
    "\n",
    "    return go.Figure(\n",
    "        data=[\n",
    "            go.Bar(x=xVal, y=yVal, marker=dict(color=colorVal), hoverinfo=\"x\"),\n",
    "            go.Scatter(\n",
    "                opacity=0,\n",
    "                x=xVal,\n",
    "                y=yVal / 2,\n",
    "                hoverinfo=\"none\",\n",
    "                mode=\"markers\",\n",
    "                marker=dict(color=\"rgb(66, 134, 244, 0)\", symbol=\"square\", size=40),\n",
    "                visible=True,\n",
    "            ),\n",
    "        ],\n",
    "        layout=layout,\n",
    "    )\n",
    "\n",
    "\n",
    "# Get the Coordinates of the chosen months, dates and times\n",
    "def getLatLonColor(selectedData, month, day):\n",
    "    listCoords = totalList[month][day]\n",
    "\n",
    "    # No times selected, output all times for chosen month and date\n",
    "    if selectedData is None or len(selectedData) is 0:\n",
    "        return listCoords\n",
    "    listStr = \"listCoords[\"\n",
    "    for time in selectedData:\n",
    "        if selectedData.index(time) is not len(selectedData) - 1:\n",
    "            listStr += \"(totalList[month][day].index.hour==\" + str(int(time)) + \") | \"\n",
    "        else:\n",
    "            listStr += \"(totalList[month][day].index.hour==\" + str(int(time)) + \")]\"\n",
    "    return eval(listStr)\n",
    "\n",
    "\n",
    "# Update Map Graph based on date-picker, selected data on histogram and location dropdown\n",
    "@app.callback(\n",
    "    Output(\"map-graph\", \"figure\"),\n",
    "    [\n",
    "        Input(\"date-picker\", \"date\"),\n",
    "        Input(\"bar-selector\", \"value\"),\n",
    "        Input(\"location-dropdown\", \"value\"),\n",
    "    ],\n",
    ")\n",
    "def update_graph(datePicked, selectedData, selectedLocation):\n",
    "    zoom = 12.0\n",
    "    latInitial = 40.7272\n",
    "    lonInitial = -73.991251\n",
    "    bearing = 0\n",
    "\n",
    "    if selectedLocation:\n",
    "        zoom = 15.0\n",
    "        latInitial = list_of_locations[selectedLocation][\"lat\"]\n",
    "        lonInitial = list_of_locations[selectedLocation][\"lon\"]\n",
    "\n",
    "    date_picked = dt.strptime(datePicked, \"%Y-%m-%d\")\n",
    "    monthPicked = date_picked.month - 4\n",
    "    dayPicked = date_picked.day - 1\n",
    "    listCoords = getLatLonColor(selectedData, monthPicked, dayPicked)\n",
    "\n",
    "    return go.Figure(\n",
    "        data=[\n",
    "            # Data for all rides based on date and time\n",
    "            Scattermapbox(\n",
    "                lat=listCoords[\"Lat\"],\n",
    "                lon=listCoords[\"Lon\"],\n",
    "                mode=\"markers\",\n",
    "                hoverinfo=\"lat+lon+text\",\n",
    "                text=listCoords.index.hour,\n",
    "                marker=dict(\n",
    "                    showscale=True,\n",
    "                    color=np.append(np.insert(listCoords.index.hour, 0, 0), 23),\n",
    "                    opacity=0.5,\n",
    "                    size=5,\n",
    "                    colorscale=[\n",
    "                        [0, \"#F4EC15\"],\n",
    "                        [0.04167, \"#DAF017\"],\n",
    "                        [0.0833, \"#BBEC19\"],\n",
    "                        [0.125, \"#9DE81B\"],\n",
    "                        [0.1667, \"#80E41D\"],\n",
    "                        [0.2083, \"#66E01F\"],\n",
    "                        [0.25, \"#4CDC20\"],\n",
    "                        [0.292, \"#34D822\"],\n",
    "                        [0.333, \"#24D249\"],\n",
    "                        [0.375, \"#25D042\"],\n",
    "                        [0.4167, \"#26CC58\"],\n",
    "                        [0.4583, \"#28C86D\"],\n",
    "                        [0.50, \"#29C481\"],\n",
    "                        [0.54167, \"#2AC093\"],\n",
    "                        [0.5833, \"#2BBCA4\"],\n",
    "                        [1.0, \"#613099\"],\n",
    "                    ],\n",
    "                    colorbar=dict(\n",
    "                        title=\"Time of<br>Day\",\n",
    "                        x=0.93,\n",
    "                        xpad=0,\n",
    "                        nticks=24,\n",
    "                        tickfont=dict(color=\"#d8d8d8\"),\n",
    "                        titlefont=dict(color=\"#d8d8d8\"),\n",
    "                        thicknessmode=\"pixels\",\n",
    "                    ),\n",
    "                ),\n",
    "            ),\n",
    "            # Plot of important locations on the map\n",
    "            Scattermapbox(\n",
    "                lat=[list_of_locations[i][\"lat\"] for i in list_of_locations],\n",
    "                lon=[list_of_locations[i][\"lon\"] for i in list_of_locations],\n",
    "                mode=\"markers\",\n",
    "                hoverinfo=\"text\",\n",
    "                text=[i for i in list_of_locations],\n",
    "                marker=dict(size=8, color=\"#ffa0a0\"),\n",
    "            ),\n",
    "        ],\n",
    "        layout=Layout(\n",
    "            autosize=True,\n",
    "            margin=go.layout.Margin(l=0, r=35, t=0, b=0),\n",
    "            showlegend=False,\n",
    "            mapbox=dict(\n",
    "                accesstoken=mapbox_access_token,\n",
    "                center=dict(lat=latInitial, lon=lonInitial),  # 40.7272  # -73.991251\n",
    "                style=\"dark\",\n",
    "                bearing=bearing,\n",
    "                zoom=zoom,\n",
    "            ),\n",
    "            updatemenus=[\n",
    "                dict(\n",
    "                    buttons=(\n",
    "                        [\n",
    "                            dict(\n",
    "                                args=[\n",
    "                                    {\n",
    "                                        \"mapbox.zoom\": 12,\n",
    "                                        \"mapbox.center.lon\": \"-73.991251\",\n",
    "                                        \"mapbox.center.lat\": \"40.7272\",\n",
    "                                        \"mapbox.bearing\": 0,\n",
    "                                        \"mapbox.style\": \"dark\",\n",
    "                                    }\n",
    "                                ],\n",
    "                                label=\"Reset Zoom\",\n",
    "                                method=\"relayout\",\n",
    "                            )\n",
    "                        ]\n",
    "                    ),\n",
    "                    direction=\"left\",\n",
    "                    pad={\"r\": 0, \"t\": 0, \"b\": 0, \"l\": 0},\n",
    "                    showactive=False,\n",
    "                    type=\"buttons\",\n",
    "                    x=0.45,\n",
    "                    y=0.02,\n",
    "                    xanchor=\"left\",\n",
    "                    yanchor=\"bottom\",\n",
    "                    bgcolor=\"#323130\",\n",
    "                    borderwidth=1,\n",
    "                    bordercolor=\"#6d6d6d\",\n",
    "                    font=dict(color=\"#FFFFFF\"),\n",
    "                )\n",
    "            ],\n",
    "        ),\n",
    "    )\n",
    "\n",
    "\n",
    "if __name__ == \"__main__\":\n",
    "    app.run_server(debug=True)"
   ]
  }
 ],
 "metadata": {
  "kernelspec": {
   "display_name": "Python 3",
   "language": "python",
   "name": "python3"
  },
  "language_info": {
   "codemirror_mode": {
    "name": "ipython",
    "version": 3
   },
   "file_extension": ".py",
   "mimetype": "text/x-python",
   "name": "python",
   "nbconvert_exporter": "python",
   "pygments_lexer": "ipython3",
   "version": "3.8.8"
  }
 },
 "nbformat": 4,
 "nbformat_minor": 4
}
